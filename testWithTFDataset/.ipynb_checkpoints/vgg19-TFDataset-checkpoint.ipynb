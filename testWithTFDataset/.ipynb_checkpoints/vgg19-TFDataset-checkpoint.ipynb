{
 "cells": [
  {
   "cell_type": "code",
   "execution_count": 1,
   "metadata": {},
   "outputs": [],
   "source": [
    "# 設定超參數HyperParameters \n",
    "batch_size =  128\n",
    "epochs = 40\n",
    "image_size = 128\n",
    "lr=0.001"
   ]
  },
  {
   "cell_type": "markdown",
   "metadata": {},
   "source": [
    "## 一、載入相關套件"
   ]
  },
  {
   "cell_type": "code",
   "execution_count": 2,
   "metadata": {},
   "outputs": [
    {
     "name": "stderr",
     "output_type": "stream",
     "text": [
      "\n",
      "Bad key \"text.kerning_factor\" on line 4 in\n",
      "/home/ec2-user/anaconda3/envs/tensorflow_p36/lib/python3.6/site-packages/matplotlib/mpl-data/stylelib/_classic_test_patch.mplstyle.\n",
      "You probably need to get an updated matplotlibrc file from\n",
      "https://github.com/matplotlib/matplotlib/blob/v3.1.3/matplotlibrc.template\n",
      "or from the matplotlib source distribution\n"
     ]
    }
   ],
   "source": [
    "import os\n",
    "import cv2\n",
    "import csv\n",
    "import random\n",
    "import time\n",
    "import numpy as np\n",
    "import pandas as pd\n",
    "import matplotlib.image as mpimg # mpimg 用於讀取圖片\n",
    "import matplotlib.pyplot as plt # plt 用於顯示圖片\n",
    "import seaborn as sns"
   ]
  },
  {
   "cell_type": "code",
   "execution_count": 3,
   "metadata": {},
   "outputs": [],
   "source": [
    "import tensorflow as tf\n",
    "\n",
    "from tensorflow.keras.applications.vgg19 import VGG19\n",
    "from tensorflow.keras.preprocessing import image\n",
    "from tensorflow.keras.applications.vgg19 import preprocess_input\n",
    "from tensorflow.keras import Model\n",
    "from tensorflow.keras.preprocessing.image import ImageDataGenerator, array_to_img, img_to_array, load_img\n",
    "from tensorflow.keras.utils import to_categorical\n",
    "from tensorflow.keras import utils as np_utils\n",
    "from tensorflow import keras\n",
    "from tensorflow.keras import optimizers\n",
    "from tensorflow.keras import layers\n",
    "from tensorflow.keras.layers import Input, Dropout, Flatten, Convolution2D, MaxPooling2D, ZeroPadding2D, Dense, Activation, Conv2DTranspose"
   ]
  },
  {
   "cell_type": "code",
   "execution_count": 4,
   "metadata": {},
   "outputs": [],
   "source": [
    "import tensorflow_datasets as tfds"
   ]
  },
  {
   "cell_type": "code",
   "execution_count": 5,
   "metadata": {},
   "outputs": [
    {
     "name": "stdout",
     "output_type": "stream",
     "text": [
      "1 Physical GPUs, 1 Logical GPUs\n"
     ]
    }
   ],
   "source": [
    "gpus = tf.config.experimental.list_physical_devices('GPU')\n",
    "if gpus:\n",
    "    try:\n",
    "        # Currently, memory growth needs to be the same across GPUs\n",
    "        for gpu in gpus:\n",
    "            tf.config.experimental.set_memory_growth(gpu, True)\n",
    "        tf.config.experimental.set_visible_devices(gpus[0], 'GPU')\n",
    "        logical_gpus = tf.config.experimental.list_logical_devices('GPU')\n",
    "        print(len(gpus), \"Physical GPUs,\", len(logical_gpus), \"Logical GPUs\")\n",
    "    except RuntimeError as e:\n",
    "        # Memory growth must be set before GPUs have been initialized\n",
    "        print(e)"
   ]
  },
  {
   "cell_type": "code",
   "execution_count": 6,
   "metadata": {},
   "outputs": [
    {
     "name": "stdout",
     "output_type": "stream",
     "text": [
      "Start Time 2020-05-22 01:48:17.135249+08:00\n"
     ]
    }
   ],
   "source": [
    "# Print Start time\n",
    "from datetime import datetime, timezone\n",
    "import pytz\n",
    "\n",
    "tpe = pytz.timezone('Asia/Taipei')\n",
    "utc_start = datetime.now()\n",
    "print(\"Start Time\", tpe.fromutc(utc_start))"
   ]
  },
  {
   "cell_type": "markdown",
   "metadata": {},
   "source": [
    "## 製作標籤&資料集"
   ]
  },
  {
   "cell_type": "code",
   "execution_count": 7,
   "metadata": {},
   "outputs": [],
   "source": [
    "def preProcess(ds):\n",
    "    X = []\n",
    "    y = []\n",
    "    for ds_numpy in tfds.as_numpy(ds):\n",
    "        res = tf.image.resize(ds_numpy['image'],(image_size,image_size),method='bilinear')\n",
    "        X.append(res)\n",
    "        y.append(ds_numpy['label'])\n",
    "    X = tf.convert_to_tensor(X)\n",
    "    y = np_utils.to_categorical(y)\n",
    "    \n",
    "    return X, y"
   ]
  },
  {
   "cell_type": "code",
   "execution_count": 8,
   "metadata": {},
   "outputs": [],
   "source": [
    "# Build your input pipeline\n",
    "train_ds = tfds.load(\"beans\", split=\"train\", shuffle_files=True)\n",
    "valid_ds = tfds.load(\"beans\", split=\"validation\", shuffle_files=True)\n",
    "test_ds = tfds.load(\"beans\", split=\"test\", shuffle_files=True)"
   ]
  },
  {
   "cell_type": "code",
   "execution_count": 9,
   "metadata": {},
   "outputs": [],
   "source": [
    "x_train, y_train = preProcess(train_ds)\n",
    "x_valid, y_valid = preProcess(valid_ds)\n",
    "x_test, y_test = preProcess(test_ds)"
   ]
  },
  {
   "cell_type": "code",
   "execution_count": 10,
   "metadata": {},
   "outputs": [
    {
     "data": {
      "text/plain": [
       "TensorShape([128, 128, 128, 3])"
      ]
     },
     "execution_count": 10,
     "metadata": {},
     "output_type": "execute_result"
    }
   ],
   "source": [
    "x_test.shape"
   ]
  },
  {
   "cell_type": "markdown",
   "metadata": {},
   "source": [
    "## 建立Model"
   ]
  },
  {
   "cell_type": "code",
   "execution_count": 11,
   "metadata": {},
   "outputs": [],
   "source": [
    "model_vgg16 = VGG19(weights='imagenet', include_top=False)\n",
    "\n",
    "input = Input( shape=(image_size,image_size,3),name = 'image_input' )\n",
    "output_vgg16_conv = model_vgg16(input)"
   ]
  },
  {
   "cell_type": "code",
   "execution_count": 12,
   "metadata": {},
   "outputs": [],
   "source": [
    "## 由於該問題是分 3 類，需要在最後修改 Dense(3)，softmax 代表 output 是機率  \n",
    "#Add the fully-connected layers \n",
    "p = Flatten()(output_vgg16_conv)\n",
    "p = Dense(256,activation = 'relu')(p)\n",
    "p = Dropout(0.2)(p)\n",
    "p = Dense(3, activation='softmax', name='predictions')(p)\n",
    "\n",
    "model = Model(inputs=input, outputs=p)"
   ]
  },
  {
   "cell_type": "code",
   "execution_count": 13,
   "metadata": {},
   "outputs": [],
   "source": [
    "adam = optimizers.Adam(lr=lr)\n",
    "model.compile(optimizer=adam,\n",
    "              loss=tf.keras.losses.CategoricalCrossentropy(),\n",
    "              metrics=['acc'])"
   ]
  },
  {
   "cell_type": "code",
   "execution_count": 14,
   "metadata": {},
   "outputs": [],
   "source": [
    "# model.summary()"
   ]
  },
  {
   "cell_type": "markdown",
   "metadata": {},
   "source": [
    "## 訓練"
   ]
  },
  {
   "cell_type": "code",
   "execution_count": 15,
   "metadata": {},
   "outputs": [],
   "source": [
    "# zca_whitening 對輸入數據施加ZCA白化\n",
    "# rotation_range 數據提升時圖片隨機轉動的角度\n",
    "# width_shift_range 圖片寬度的某個比例，數據提升時圖片水平偏移的幅度\n",
    "# shear_range 剪切強度（逆時針方向的剪切變換角度）\n",
    "# zoom_range 隨機縮放的幅度\n",
    "# horizontal_flip 進行隨機水平翻轉\n",
    "# fill_mode ‘constant’，‘nearest’，‘reflect’或‘wrap’之一，當進行變換時超出邊界的點將根據本參數給定的方法進行處理\n",
    "\n",
    "datagen = ImageDataGenerator(\n",
    "    zca_whitening=False,\n",
    "    rotation_range=40,\n",
    "    width_shift_range=0.2,\n",
    "    height_shift_range=0.2,\n",
    "    shear_range=0.2,\n",
    "    zoom_range=0.2,\n",
    "    horizontal_flip=True,\n",
    "    vertical_flip=True,\n",
    "    fill_mode='nearest')"
   ]
  },
  {
   "cell_type": "code",
   "execution_count": 16,
   "metadata": {},
   "outputs": [],
   "source": [
    "# 檔名設定\n",
    "file_name = str(epochs)+'_'+str(batch_size)"
   ]
  },
  {
   "cell_type": "code",
   "execution_count": 17,
   "metadata": {},
   "outputs": [],
   "source": [
    "# 加入EarlyStopping以及Tensorboard等回調函數\n",
    "CB = tf.keras.callbacks.EarlyStopping(monitor='val_loss', patience=10)\n",
    "TB = keras.callbacks.TensorBoard(log_dir='./log'+\"_\"+file_name, histogram_freq=1)"
   ]
  },
  {
   "cell_type": "code",
   "execution_count": 18,
   "metadata": {
    "scrolled": true
   },
   "outputs": [
    {
     "name": "stdout",
     "output_type": "stream",
     "text": [
      "Epoch 1/40\n",
      "9/9 [==============================] - 12s 1s/step - loss: 32.2500 - acc: 0.3656 - val_loss: 1.2574 - val_acc: 0.3308\n",
      "Epoch 2/40\n",
      "9/9 [==============================] - 9s 1s/step - loss: 1.1232 - acc: 0.3308 - val_loss: 1.1023 - val_acc: 0.3383\n",
      "Epoch 3/40\n",
      "9/9 [==============================] - 9s 1s/step - loss: 1.1006 - acc: 0.3337 - val_loss: 1.0988 - val_acc: 0.3308\n",
      "Epoch 4/40\n",
      "9/9 [==============================] - 9s 992ms/step - loss: 1.0988 - acc: 0.3298 - val_loss: 1.0988 - val_acc: 0.3308\n",
      "Epoch 5/40\n",
      "9/9 [==============================] - 9s 993ms/step - loss: 1.0990 - acc: 0.3269 - val_loss: 1.0989 - val_acc: 0.3308\n",
      "Epoch 6/40\n",
      "9/9 [==============================] - 9s 995ms/step - loss: 1.0991 - acc: 0.3153 - val_loss: 1.0988 - val_acc: 0.3308\n",
      "Epoch 7/40\n",
      "9/9 [==============================] - 9s 995ms/step - loss: 1.0990 - acc: 0.3308 - val_loss: 1.0988 - val_acc: 0.3308\n",
      "Epoch 8/40\n",
      "9/9 [==============================] - 9s 996ms/step - loss: 1.0988 - acc: 0.3298 - val_loss: 1.0988 - val_acc: 0.3308\n",
      "Epoch 9/40\n",
      "9/9 [==============================] - 9s 996ms/step - loss: 1.0990 - acc: 0.3298 - val_loss: 1.0988 - val_acc: 0.3308\n",
      "Epoch 10/40\n",
      "9/9 [==============================] - 9s 996ms/step - loss: 1.0990 - acc: 0.3298 - val_loss: 1.0988 - val_acc: 0.3308\n",
      "Epoch 11/40\n",
      "9/9 [==============================] - 9s 997ms/step - loss: 1.0990 - acc: 0.3298 - val_loss: 1.0988 - val_acc: 0.3308\n",
      "Epoch 12/40\n",
      "9/9 [==============================] - 9s 995ms/step - loss: 1.0990 - acc: 0.3298 - val_loss: 1.0989 - val_acc: 0.3308\n",
      "Epoch 13/40\n",
      "9/9 [==============================] - 9s 995ms/step - loss: 1.0989 - acc: 0.3298 - val_loss: 1.0988 - val_acc: 0.3308\n",
      "Epoch 14/40\n",
      "9/9 [==============================] - 9s 995ms/step - loss: 1.0989 - acc: 0.3298 - val_loss: 1.0988 - val_acc: 0.3308\n",
      "Epoch 15/40\n",
      "9/9 [==============================] - 9s 993ms/step - loss: 1.0989 - acc: 0.3298 - val_loss: 1.0988 - val_acc: 0.3308\n",
      "Epoch 16/40\n",
      "9/9 [==============================] - 9s 996ms/step - loss: 1.0989 - acc: 0.3298 - val_loss: 1.0988 - val_acc: 0.3308\n",
      "Epoch 17/40\n",
      "9/9 [==============================] - 9s 993ms/step - loss: 1.0989 - acc: 0.3298 - val_loss: 1.0987 - val_acc: 0.3308\n",
      "Epoch 18/40\n",
      "9/9 [==============================] - 9s 993ms/step - loss: 1.0988 - acc: 0.3424 - val_loss: 1.0987 - val_acc: 0.3383\n",
      "Epoch 19/40\n",
      "9/9 [==============================] - 9s 993ms/step - loss: 1.0988 - acc: 0.3404 - val_loss: 1.0987 - val_acc: 0.3383\n",
      "Epoch 20/40\n",
      "9/9 [==============================] - 9s 994ms/step - loss: 1.0988 - acc: 0.3337 - val_loss: 1.0986 - val_acc: 0.3383\n",
      "Epoch 21/40\n",
      "9/9 [==============================] - 9s 994ms/step - loss: 1.0988 - acc: 0.3356 - val_loss: 1.0987 - val_acc: 0.3383\n",
      "Epoch 22/40\n",
      "9/9 [==============================] - 9s 994ms/step - loss: 1.0989 - acc: 0.3356 - val_loss: 1.0986 - val_acc: 0.3383\n",
      "Epoch 23/40\n",
      "9/9 [==============================] - 9s 993ms/step - loss: 1.0989 - acc: 0.3366 - val_loss: 1.0986 - val_acc: 0.3383\n",
      "Epoch 24/40\n",
      "9/9 [==============================] - 9s 992ms/step - loss: 1.0988 - acc: 0.3366 - val_loss: 1.0986 - val_acc: 0.3383\n",
      "Epoch 25/40\n",
      "9/9 [==============================] - 9s 993ms/step - loss: 1.0987 - acc: 0.3366 - val_loss: 1.0986 - val_acc: 0.3383\n",
      "Epoch 26/40\n",
      "9/9 [==============================] - 9s 991ms/step - loss: 1.0987 - acc: 0.3366 - val_loss: 1.0986 - val_acc: 0.3383\n",
      "Epoch 27/40\n",
      "9/9 [==============================] - 9s 993ms/step - loss: 1.0988 - acc: 0.3366 - val_loss: 1.0986 - val_acc: 0.3383\n",
      "Epoch 28/40\n",
      "9/9 [==============================] - 9s 992ms/step - loss: 1.0986 - acc: 0.3366 - val_loss: 1.0986 - val_acc: 0.3383\n",
      "Epoch 29/40\n",
      "9/9 [==============================] - 9s 990ms/step - loss: 1.0987 - acc: 0.3366 - val_loss: 1.0986 - val_acc: 0.3383\n",
      "Epoch 30/40\n",
      "9/9 [==============================] - 9s 992ms/step - loss: 1.0986 - acc: 0.3366 - val_loss: 1.0986 - val_acc: 0.3383\n",
      "Epoch 31/40\n",
      "9/9 [==============================] - 9s 992ms/step - loss: 1.0986 - acc: 0.3366 - val_loss: 1.0986 - val_acc: 0.3383\n",
      "Epoch 32/40\n",
      "9/9 [==============================] - 9s 993ms/step - loss: 1.0987 - acc: 0.3366 - val_loss: 1.0986 - val_acc: 0.3383\n",
      "Epoch 33/40\n",
      "9/9 [==============================] - 9s 991ms/step - loss: 1.0986 - acc: 0.3366 - val_loss: 1.0986 - val_acc: 0.3383\n",
      "Epoch 34/40\n",
      "9/9 [==============================] - 9s 993ms/step - loss: 1.0986 - acc: 0.3366 - val_loss: 1.0986 - val_acc: 0.3383\n",
      "Epoch 35/40\n",
      "9/9 [==============================] - 9s 993ms/step - loss: 1.0986 - acc: 0.3366 - val_loss: 1.0986 - val_acc: 0.3383\n",
      "Epoch 36/40\n",
      "9/9 [==============================] - 9s 994ms/step - loss: 1.0987 - acc: 0.3366 - val_loss: 1.0986 - val_acc: 0.3383\n",
      "Epoch 37/40\n",
      "9/9 [==============================] - 9s 993ms/step - loss: 1.0985 - acc: 0.3366 - val_loss: 1.0986 - val_acc: 0.3383\n",
      "Epoch 38/40\n",
      "9/9 [==============================] - 9s 993ms/step - loss: 1.0987 - acc: 0.3366 - val_loss: 1.0986 - val_acc: 0.3383\n",
      "Epoch 39/40\n",
      "9/9 [==============================] - 9s 993ms/step - loss: 1.0987 - acc: 0.3366 - val_loss: 1.0986 - val_acc: 0.3383\n",
      "Epoch 40/40\n",
      "9/9 [==============================] - 9s 990ms/step - loss: 1.0986 - acc: 0.3366 - val_loss: 1.0986 - val_acc: 0.3383\n"
     ]
    }
   ],
   "source": [
    "### Start Training\n",
    "history = model.fit(\n",
    "    x = x_train , y = y_train,\n",
    "    batch_size = batch_size,\n",
    "    epochs = epochs,\n",
    "    validation_data = (x_valid, y_valid)\n",
    ")"
   ]
  },
  {
   "cell_type": "code",
   "execution_count": 19,
   "metadata": {},
   "outputs": [
    {
     "name": "stdout",
     "output_type": "stream",
     "text": [
      "Finish Training Time 2020-05-22 01:55:22.626628+08:00\n"
     ]
    },
    {
     "data": {
      "text/plain": [
       "(7, 5)"
      ]
     },
     "execution_count": 19,
     "metadata": {},
     "output_type": "execute_result"
    }
   ],
   "source": [
    "# Print Finish Training time\n",
    "tpe = pytz.timezone('Asia/Taipei')\n",
    "utc_finish = datetime.now()\n",
    "print(\"Finish Training Time\", tpe.fromutc(utc_finish))\n",
    "\n",
    "difference = utc_finish-utc_start\n",
    "seconds_in_day = 24 * 60 * 60\n",
    "divmod(difference.days * seconds_in_day + difference.seconds, 60)"
   ]
  },
  {
   "cell_type": "markdown",
   "metadata": {},
   "source": [
    "## 繪製Model學習成效"
   ]
  },
  {
   "cell_type": "code",
   "execution_count": 20,
   "metadata": {},
   "outputs": [
    {
     "data": {
      "image/png": "[encoded data removed]",
      "text/plain": [
       "<Figure size 576x360 with 1 Axes>"
      ]
     },
     "metadata": {
      "needs_background": "light"
     },
     "output_type": "display_data"
    }
   ],
   "source": [
    "def plot_learning_curves(history):\n",
    "    pd.DataFrame(history.history).plot(figsize=(8,5))\n",
    "    plt.grid(True)\n",
    "    plt.gca().set_ylim(0,2)\n",
    "    plt.show()\n",
    "    \n",
    "plot_learning_curves(history)"
   ]
  },
  {
   "cell_type": "markdown",
   "metadata": {},
   "source": [
    "## 測試集預測準確度"
   ]
  },
  {
   "cell_type": "code",
   "execution_count": 21,
   "metadata": {},
   "outputs": [],
   "source": [
    "# 測試集標籤預測\n",
    "y_pred = model.predict(x_test)"
   ]
  },
  {
   "cell_type": "code",
   "execution_count": 22,
   "metadata": {},
   "outputs": [
    {
     "name": "stdout",
     "output_type": "stream",
     "text": [
      "[1 1 1 1 1 1 1 1 1 1 1 1 1 1 1 1 1 1 1 1 1 1 1 1 1 1 1 1 1 1 1 1 1 1 1 1 1\n",
      " 1 1 1 1 1 1 1 1 1 1 1 1 1 1 1 1 1 1 1 1 1 1 1 1 1 1 1 1 1 1 1 1 1 1 1 1 1\n",
      " 1 1 1 1 1 1 1 1 1 1 1 1 1 1 1 1 1 1 1 1 1 1 1 1 1 1 1 1 1 1 1 1 1 1 1 1 1\n",
      " 1 1 1 1 1 1 1 1 1 1 1 1 1 1 1 1 1]\n"
     ]
    }
   ],
   "source": [
    "# 模型預測後的標籤\n",
    "predict_label = np.argmax(y_pred,axis=1)\n",
    "print(predict_label)\n",
    "# print(len(predict_label))"
   ]
  },
  {
   "cell_type": "code",
   "execution_count": 23,
   "metadata": {},
   "outputs": [
    {
     "name": "stdout",
     "output_type": "stream",
     "text": [
      "[1 1 0 1 1 2 0 0 1 0 0 1 1 2 2 2 1 0 2 1 1 0 2 2 2 2 0 1 1 2 1 2 2 1 1 1 1\n",
      " 2 0 0 2 1 0 2 2 0 1 0 2 0 0 1 2 2 2 2 2 1 1 0 0 0 0 1 0 1 1 2 0 1 0 0 0 2\n",
      " 1 2 0 0 2 2 2 0 1 2 0 0 2 1 2 0 0 1 1 1 1 1 0 2 1 1 2 2 0 1 1 2 0 1 0 0 0\n",
      " 2 2 0 0 1 2 2 1 0 0 2 0 2 1 2 0 1]\n"
     ]
    }
   ],
   "source": [
    "# 模型原標籤\n",
    "true_label = np.argmax(y_test, axis=1)\n",
    "true_label = np.array(true_label)\n",
    "print(true_label)\n",
    "# print(len(true_label))"
   ]
  },
  {
   "cell_type": "code",
   "execution_count": 24,
   "metadata": {},
   "outputs": [
    {
     "data": {
      "text/html": [
       "<div>\n",
       "<style scoped>\n",
       "    .dataframe tbody tr th:only-of-type {\n",
       "        vertical-align: middle;\n",
       "    }\n",
       "\n",
       "    .dataframe tbody tr th {\n",
       "        vertical-align: top;\n",
       "    }\n",
       "\n",
       "    .dataframe thead th {\n",
       "        text-align: right;\n",
       "    }\n",
       "</style>\n",
       "<table border=\"1\" class=\"dataframe\">\n",
       "  <thead>\n",
       "    <tr style=\"text-align: right;\">\n",
       "      <th>預測值</th>\n",
       "      <th>1</th>\n",
       "    </tr>\n",
       "    <tr>\n",
       "      <th>實際值</th>\n",
       "      <th></th>\n",
       "    </tr>\n",
       "  </thead>\n",
       "  <tbody>\n",
       "    <tr>\n",
       "      <th>0</th>\n",
       "      <td>43</td>\n",
       "    </tr>\n",
       "    <tr>\n",
       "      <th>1</th>\n",
       "      <td>43</td>\n",
       "    </tr>\n",
       "    <tr>\n",
       "      <th>2</th>\n",
       "      <td>42</td>\n",
       "    </tr>\n",
       "  </tbody>\n",
       "</table>\n",
       "</div>"
      ],
      "text/plain": [
       "預測值   1\n",
       "實際值    \n",
       "0    43\n",
       "1    43\n",
       "2    42"
      ]
     },
     "execution_count": 24,
     "metadata": {},
     "output_type": "execute_result"
    }
   ],
   "source": [
    "pd.crosstab(true_label,predict_label,rownames=['實際值'],colnames=['預測值'])"
   ]
  },
  {
   "cell_type": "code",
   "execution_count": 25,
   "metadata": {},
   "outputs": [
    {
     "name": "stdout",
     "output_type": "stream",
     "text": [
      "正确率为:33.59%\n"
     ]
    }
   ],
   "source": [
    "# 整體準確度\n",
    "count = 0\n",
    "for i in range(len(y_pred)):\n",
    "    if(np.argmax(y_pred[i]) == np.argmax(y_test[i])): #argmax函数找到最大值的索引，即为其类别\n",
    "        count += 1\n",
    "score = count/len(y_pred)\n",
    "print('正确率为:%.2f%s' % (score*100,'%'))"
   ]
  },
  {
   "cell_type": "raw",
   "metadata": {},
   "source": [
    "### https://github.com/linsamtw/cifar10_vgg16_kaggle"
   ]
  }
 ],
 "metadata": {
  "kernelspec": {
   "display_name": "conda_tensorflow_p36",
   "language": "python",
   "name": "conda_tensorflow_p36"
  },
  "language_info": {
   "codemirror_mode": {
    "name": "ipython",
    "version": 3
   },
   "file_extension": ".py",
   "mimetype": "text/x-python",
   "name": "python",
   "nbconvert_exporter": "python",
   "pygments_lexer": "ipython3",
   "version": "3.6.10"
  }
 },
 "nbformat": 4,
 "nbformat_minor": 4
}
