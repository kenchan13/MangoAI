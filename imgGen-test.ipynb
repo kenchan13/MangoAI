{
 "cells": [
  {
   "cell_type": "code",
   "execution_count": 1,
   "metadata": {
    "scrolled": true
   },
   "outputs": [],
   "source": [
    "# 設定超參數HyperParameters \n",
    "batch_size =  128\n",
    "epochs = 20\n",
    "image_size = 128\n",
    "lr=0.01\n",
    "\n",
    "imageGen = True"
   ]
  },
  {
   "cell_type": "markdown",
   "metadata": {},
   "source": [
    "## 一、載入相關套件"
   ]
  },
  {
   "cell_type": "code",
   "execution_count": 2,
   "metadata": {
    "scrolled": true
   },
   "outputs": [],
   "source": [
    "import os\n",
    "import cv2\n",
    "import csv\n",
    "import random\n",
    "import time\n",
    "import numpy as np\n",
    "import pandas as pd\n",
    "import matplotlib.image as mpimg # mpimg 用於讀取圖片\n",
    "import matplotlib.pyplot as plt # plt 用於顯示圖片\n",
    "import seaborn as sns"
   ]
  },
  {
   "cell_type": "code",
   "execution_count": 3,
   "metadata": {
    "scrolled": true
   },
   "outputs": [
    {
     "name": "stdout",
     "output_type": "stream",
     "text": [
      "WARNING:tensorflow:From /home/ec2-user/anaconda3/envs/tensorflow_p36/lib/python3.6/site-packages/tensorflow_core/__init__.py:1467: The name tf.estimator.inputs is deprecated. Please use tf.compat.v1.estimator.inputs instead.\n",
      "\n"
     ]
    }
   ],
   "source": [
    "import tensorflow as tf\n",
    "\n",
    "from tensorflow.keras.applications import ResNet50V2\n",
    "from tensorflow.keras.preprocessing import image\n",
    "from tensorflow.keras.applications.resnet_v2 import preprocess_input\n",
    "from tensorflow.keras import Model\n",
    "from tensorflow.keras.preprocessing.image import ImageDataGenerator, array_to_img, img_to_array, load_img\n",
    "from tensorflow.keras.utils import to_categorical\n",
    "from tensorflow.keras import utils as np_utils\n",
    "from tensorflow import keras\n",
    "from tensorflow.keras import optimizers\n",
    "from tensorflow.keras.layers import Input, Dropout, Flatten, Convolution2D, MaxPooling2D, ZeroPadding2D, Dense, Activation, Conv2DTranspose"
   ]
  },
  {
   "cell_type": "code",
   "execution_count": 4,
   "metadata": {
    "scrolled": true
   },
   "outputs": [
    {
     "name": "stdout",
     "output_type": "stream",
     "text": [
      "1 Physical GPUs, 1 Logical GPUs\n"
     ]
    }
   ],
   "source": [
    "gpus = tf.config.experimental.list_physical_devices('GPU')\n",
    "if gpus:\n",
    "    try:\n",
    "        # Currently, memory growth needs to be the same across GPUs\n",
    "        for gpu in gpus:\n",
    "            tf.config.experimental.set_memory_growth(gpu, True)\n",
    "        tf.config.experimental.set_visible_devices(gpus[0], 'GPU')\n",
    "        logical_gpus = tf.config.experimental.list_logical_devices('GPU')\n",
    "        print(len(gpus), \"Physical GPUs,\", len(logical_gpus), \"Logical GPUs\")\n",
    "    except RuntimeError as e:\n",
    "        # Memory growth must be set before GPUs have been initialized\n",
    "        print(e)"
   ]
  },
  {
   "cell_type": "code",
   "execution_count": 5,
   "metadata": {
    "scrolled": true
   },
   "outputs": [
    {
     "name": "stdout",
     "output_type": "stream",
     "text": [
      "Start Time 2020-05-28 12:34:19.607564+08:00\n"
     ]
    }
   ],
   "source": [
    "# Print Start time\n",
    "from datetime import datetime, timezone\n",
    "import pytz\n",
    "\n",
    "tpe = pytz.timezone('Asia/Taipei')\n",
    "utc_start = datetime.now()\n",
    "print(\"Start Time\", tpe.fromutc(utc_start))"
   ]
  },
  {
   "cell_type": "markdown",
   "metadata": {},
   "source": [
    "## 製作標籤&資料集"
   ]
  },
  {
   "cell_type": "code",
   "execution_count": 6,
   "metadata": {
    "scrolled": true
   },
   "outputs": [],
   "source": [
    "from imgGen import imgGenFunc"
   ]
  },
  {
   "cell_type": "code",
   "execution_count": 7,
   "metadata": {
    "scrolled": true
   },
   "outputs": [
    {
     "name": "stdout",
     "output_type": "stream",
     "text": [
      "芒果圖片數量:  5600\n",
      "x_l:  5600\n",
      "y_l:  5600\n"
     ]
    }
   ],
   "source": [
    "flip = 0; rotate = 0\n",
    "x_train, y_train = imgGenFunc(image_size, flip, rotate)"
   ]
  },
  {
   "cell_type": "markdown",
   "metadata": {},
   "source": [
    "## 建立Model"
   ]
  },
  {
   "cell_type": "code",
   "execution_count": 8,
   "metadata": {
    "scrolled": true
   },
   "outputs": [],
   "source": [
    "# ResNet50V2"
   ]
  },
  {
   "cell_type": "code",
   "execution_count": 9,
   "metadata": {
    "scrolled": true
   },
   "outputs": [
    {
     "name": "stdout",
     "output_type": "stream",
     "text": [
      "WARNING:tensorflow:From /home/ec2-user/anaconda3/envs/tensorflow_p36/lib/python3.6/site-packages/tensorflow_core/python/ops/resource_variable_ops.py:1630: calling BaseResourceVariable.__init__ (from tensorflow.python.ops.resource_variable_ops) with constraint is deprecated and will be removed in a future version.\n",
      "Instructions for updating:\n",
      "If using Keras pass *_constraint arguments to layers.\n",
      "Downloading data from https://github.com/keras-team/keras-applications/releases/download/resnet/resnet50v2_weights_tf_dim_ordering_tf_kernels_notop.h5\n",
      "94674944/94668760 [==============================] - 2s 0us/step\n"
     ]
    }
   ],
   "source": [
    "model_resnet = ResNet50V2(weights='imagenet', include_top=False)\n",
    "\n",
    "input = Input( shape=(image_size,image_size,3),name = 'image_input' )\n",
    "output_conv = model_resnet(input)"
   ]
  },
  {
   "cell_type": "code",
   "execution_count": 10,
   "metadata": {
    "scrolled": true
   },
   "outputs": [],
   "source": [
    "## 由於該問題是分 3 類，需要在最後修改 Dense(3)，softmax 代表 output 是機率  \n",
    "#Add the fully-connected layers \n",
    "p = Flatten()(output_conv)\n",
    "p = Dense(256,activation = 'relu')(p)\n",
    "p = Dropout(0.2)(p)\n",
    "p = Dense(3, activation='softmax', name='predictions')(p)\n",
    "\n",
    "model = Model(inputs=input, outputs=p)\n",
    "\n",
    "model_2 = Model(inputs=input, outputs=p)\n",
    "model_3 = Model(inputs=input, outputs=p)\n",
    "model_4 = Model(inputs=input, outputs=p)"
   ]
  },
  {
   "cell_type": "code",
   "execution_count": 11,
   "metadata": {
    "scrolled": true
   },
   "outputs": [],
   "source": [
    "adam = optimizers.Adam(lr=lr)\n",
    "model.compile(optimizer='adam',\n",
    "              loss=tf.keras.losses.CategoricalCrossentropy(),\n",
    "              metrics=['acc'])\n",
    "\n",
    "\n",
    "model_2.compile(optimizer='adam',\n",
    "              loss=tf.keras.losses.CategoricalCrossentropy(),\n",
    "              metrics=['acc'])\n",
    "\n",
    "model_3.compile(optimizer='adam',\n",
    "              loss=tf.keras.losses.CategoricalCrossentropy(),\n",
    "              metrics=['acc'])\n",
    "\n",
    "model_4.compile(optimizer='adam',\n",
    "              loss=tf.keras.losses.CategoricalCrossentropy(),\n",
    "              metrics=['acc'])"
   ]
  },
  {
   "cell_type": "markdown",
   "metadata": {},
   "source": [
    "## 訓練"
   ]
  },
  {
   "cell_type": "code",
   "execution_count": 12,
   "metadata": {
    "scrolled": true
   },
   "outputs": [],
   "source": [
    "# Model檔名設定\n",
    "file_name = str(epochs)+'_'+str(batch_size)"
   ]
  },
  {
   "cell_type": "code",
   "execution_count": 13,
   "metadata": {
    "scrolled": true
   },
   "outputs": [],
   "source": [
    "# 加入EarlyStopping以及Tensorboard等回調函數\n",
    "CB = tf.keras.callbacks.EarlyStopping(monitor='val_loss', patience=10)\n",
    "TB = keras.callbacks.TensorBoard(log_dir='./log'+\"_\"+file_name, histogram_freq=1)"
   ]
  },
  {
   "cell_type": "code",
   "execution_count": 14,
   "metadata": {
    "scrolled": true
   },
   "outputs": [
    {
     "name": "stdout",
     "output_type": "stream",
     "text": [
      "Train on 5040 samples, validate on 560 samples\n",
      "Epoch 1/20\n",
      "5040/5040 [==============================] - 66s 13ms/sample - loss: 1.4289 - acc: 0.6177 - val_loss: 49.6070 - val_acc: 0.3304\n",
      "Epoch 2/20\n",
      "5040/5040 [==============================] - 34s 7ms/sample - loss: 0.5770 - acc: 0.7563 - val_loss: 1.8685 - val_acc: 0.5357\n",
      "Epoch 3/20\n",
      "5040/5040 [==============================] - 34s 7ms/sample - loss: 0.4618 - acc: 0.8016 - val_loss: 1.9768 - val_acc: 0.6089\n",
      "Epoch 4/20\n",
      "5040/5040 [==============================] - 34s 7ms/sample - loss: 0.3726 - acc: 0.8474 - val_loss: 1.5333 - val_acc: 0.6946\n",
      "Epoch 5/20\n",
      "5040/5040 [==============================] - 34s 7ms/sample - loss: 0.3259 - acc: 0.8688 - val_loss: 1.3714 - val_acc: 0.7143\n",
      "Epoch 6/20\n",
      "5040/5040 [==============================] - 34s 7ms/sample - loss: 0.2545 - acc: 0.9008 - val_loss: 1.2840 - val_acc: 0.7125\n",
      "Epoch 7/20\n",
      "5040/5040 [==============================] - 34s 7ms/sample - loss: 0.2366 - acc: 0.9048 - val_loss: 1.7387 - val_acc: 0.6661\n",
      "Epoch 8/20\n",
      "5040/5040 [==============================] - 34s 7ms/sample - loss: 0.1869 - acc: 0.9337 - val_loss: 1.5499 - val_acc: 0.7196\n",
      "Epoch 9/20\n",
      "5040/5040 [==============================] - 34s 7ms/sample - loss: 0.1690 - acc: 0.9417 - val_loss: 2.0523 - val_acc: 0.6089\n",
      "Epoch 10/20\n",
      "5040/5040 [==============================] - 34s 7ms/sample - loss: 0.1673 - acc: 0.9357 - val_loss: 1.4342 - val_acc: 0.7286\n",
      "Epoch 11/20\n",
      "5040/5040 [==============================] - 34s 7ms/sample - loss: 0.1107 - acc: 0.9645 - val_loss: 1.3461 - val_acc: 0.7250\n",
      "Epoch 12/20\n",
      "5040/5040 [==============================] - 34s 7ms/sample - loss: 0.1055 - acc: 0.9623 - val_loss: 1.5222 - val_acc: 0.7018\n",
      "Epoch 13/20\n",
      "5040/5040 [==============================] - 34s 7ms/sample - loss: 0.0967 - acc: 0.9661 - val_loss: 1.5175 - val_acc: 0.6857\n",
      "Epoch 14/20\n",
      "5040/5040 [==============================] - 34s 7ms/sample - loss: 0.0964 - acc: 0.9655 - val_loss: 1.9580 - val_acc: 0.6286\n",
      "Epoch 15/20\n",
      "5040/5040 [==============================] - 34s 7ms/sample - loss: 0.1017 - acc: 0.9617 - val_loss: 2.0683 - val_acc: 0.7107\n",
      "Epoch 16/20\n",
      "5040/5040 [==============================] - 34s 7ms/sample - loss: 0.0669 - acc: 0.9776 - val_loss: 1.7665 - val_acc: 0.6964\n",
      "Epoch 17/20\n",
      "5040/5040 [==============================] - 34s 7ms/sample - loss: 0.0696 - acc: 0.9768 - val_loss: 2.0319 - val_acc: 0.6304\n",
      "Epoch 18/20\n",
      "5040/5040 [==============================] - 34s 7ms/sample - loss: 0.0591 - acc: 0.9817 - val_loss: 1.4768 - val_acc: 0.6964\n",
      "Epoch 19/20\n",
      "5040/5040 [==============================] - 34s 7ms/sample - loss: 0.0561 - acc: 0.9815 - val_loss: 1.4969 - val_acc: 0.7143\n",
      "Epoch 20/20\n",
      "5040/5040 [==============================] - 34s 7ms/sample - loss: 0.0326 - acc: 0.9889 - val_loss: 2.4296 - val_acc: 0.6643\n"
     ]
    }
   ],
   "source": [
    "### Start Training\n",
    "history_1 = model.fit(\n",
    "    x = x_train, \n",
    "    y = y_train, \n",
    "    batch_size = batch_size,\n",
    "    shuffle=True,\n",
    "    epochs = epochs,\n",
    "    validation_split=0.1\n",
    ")"
   ]
  },
  {
   "cell_type": "code",
   "execution_count": 15,
   "metadata": {
    "scrolled": true
   },
   "outputs": [
    {
     "name": "stdout",
     "output_type": "stream",
     "text": [
      "Finish Training Time 2020-05-28 12:49:51.693431+08:00\n"
     ]
    },
    {
     "data": {
      "text/plain": [
       "(15, 32)"
      ]
     },
     "execution_count": 15,
     "metadata": {},
     "output_type": "execute_result"
    }
   ],
   "source": [
    "# Print Finish Training time\n",
    "tpe = pytz.timezone('Asia/Taipei')\n",
    "utc_finish = datetime.now()\n",
    "print(\"Finish Training Time\", tpe.fromutc(utc_finish))\n",
    "\n",
    "difference = utc_finish-utc_start\n",
    "seconds_in_day = 24 * 60 * 60\n",
    "divmod(difference.days * seconds_in_day + difference.seconds, 60)"
   ]
  },
  {
   "cell_type": "markdown",
   "metadata": {},
   "source": [
    "## 繪製Model學習成效"
   ]
  },
  {
   "cell_type": "code",
   "execution_count": 16,
   "metadata": {
    "scrolled": true
   },
   "outputs": [
    {
     "data": {
      "image/png": "[encoded data removed]",
      "text/plain": [
       "<Figure size 576x360 with 1 Axes>"
      ]
     },
     "metadata": {},
     "output_type": "display_data"
    }
   ],
   "source": [
    "def plot_learning_curves(history):\n",
    "    pd.DataFrame(history.history).plot(figsize=(8,5))\n",
    "    plt.grid(True)\n",
    "    plt.gca().set_ylim(0,2)\n",
    "    plt.show()\n",
    "    \n",
    "plot_learning_curves(history_1)"
   ]
  },
  {
   "cell_type": "markdown",
   "metadata": {},
   "source": [
    "## 測試集預測準確度"
   ]
  },
  {
   "cell_type": "code",
   "execution_count": 17,
   "metadata": {
    "scrolled": true
   },
   "outputs": [],
   "source": [
    "csvfile_test = open('dev.csv')\n",
    "reader_test = csv.reader(csvfile_test)"
   ]
  },
  {
   "cell_type": "code",
   "execution_count": 18,
   "metadata": {
    "scrolled": true
   },
   "outputs": [],
   "source": [
    "# 讀取csv標籤\n",
    "labels = []\n",
    "for line in reader_test:\n",
    "    tmp = [line[0],line[1]]\n",
    "    # print tmp\n",
    "    labels.append(tmp)\n",
    "csvfile_test.close() "
   ]
  },
  {
   "cell_type": "code",
   "execution_count": 19,
   "metadata": {
    "scrolled": true
   },
   "outputs": [
    {
     "name": "stdout",
     "output_type": "stream",
     "text": [
      "芒果圖片數量:  800\n"
     ]
    }
   ],
   "source": [
    "labels = labels[1:]  # remove the first row\n",
    "print(\"芒果圖片數量: \",len(labels))"
   ]
  },
  {
   "cell_type": "code",
   "execution_count": 20,
   "metadata": {
    "scrolled": true
   },
   "outputs": [],
   "source": [
    "# 轉換圖片的標籤\n",
    "for i in range(len(labels)):\n",
    "    labels[i][1] = labels[i][1].replace(\"A\",\"0\")\n",
    "    labels[i][1] = labels[i][1].replace(\"B\",\"1\")\n",
    "    labels[i][1] = labels[i][1].replace(\"C\",\"2\")"
   ]
  },
  {
   "cell_type": "code",
   "execution_count": 21,
   "metadata": {
    "scrolled": true
   },
   "outputs": [],
   "source": [
    "x_test = []\n",
    "y_test = []\n",
    "\n",
    "for i in range(len(labels)):\n",
    "    img = cv2.imread(\"C1-P1_Dev/\" + labels[i][0] )\n",
    "    res = cv2.resize(img,(image_size,image_size),interpolation=cv2.INTER_LINEAR)\n",
    "    res = img_to_array(res)\n",
    "    x_test.append(res)    \n",
    "    y_test.append(labels[i][1])"
   ]
  },
  {
   "cell_type": "code",
   "execution_count": 22,
   "metadata": {
    "scrolled": true
   },
   "outputs": [],
   "source": [
    "y_test_org = y_test\n",
    "\n",
    "# 轉換至array的格式\n",
    "x_test = np.array(x_test)\n",
    "y_test = np.array(y_test)"
   ]
  },
  {
   "cell_type": "code",
   "execution_count": 23,
   "metadata": {
    "scrolled": true
   },
   "outputs": [],
   "source": [
    "# 轉換至float的格式\n",
    "for i in range(len(x_test)):\n",
    "    x_test[i] = x_test[i].astype('float32')\n",
    "# x_test = x_test/255"
   ]
  },
  {
   "cell_type": "code",
   "execution_count": 24,
   "metadata": {
    "scrolled": true
   },
   "outputs": [],
   "source": [
    "# 標籤進行one-hotencoding\n",
    "y_test = np_utils.to_categorical(y_test)"
   ]
  },
  {
   "cell_type": "code",
   "execution_count": 25,
   "metadata": {
    "scrolled": true
   },
   "outputs": [],
   "source": [
    "# 測試集標籤預測\n",
    "y_pred = model.predict(x_test)"
   ]
  },
  {
   "cell_type": "code",
   "execution_count": null,
   "metadata": {
    "scrolled": true
   },
   "outputs": [],
   "source": []
  },
  {
   "cell_type": "code",
   "execution_count": 26,
   "metadata": {
    "scrolled": true
   },
   "outputs": [
    {
     "name": "stdout",
     "output_type": "stream",
     "text": [
      "[0 1 0 1 1 1 1 0 0 0 0 0 1 1 1 1 1 0 1 0 0 0 1 0 1 0 1 0 0 1 1 0 1 1 0 1 1\n",
      " 0 0 0 0 2 0 0 1 1 2 0 0 0 1 0 1 1 1 1 0 1 0 1 1 0 0 0 0 1 0 0 1 0 2 1 1 2\n",
      " 1 0 1 0 0 1 0 1 1 0 1 2 1 0 1 1 1 1 0 1 1 1 1 0 1 1 0 1 1 1 0 1 1 0 0 2 0\n",
      " 1 1 0 0 1 1 1 1 1 0 0 1 1 1 0 0 1 1 0 0 0 0 1 0 1 1 1 0 2 0 1 1 0 0 0 1 0\n",
      " 0 1 1 1 0 1 1 0 1 0 2 0 1 1 0 0 1 1 0 1 0 1 1 1 1 2 0 1 0 0 0 1 0 1 1 0 1\n",
      " 1 0 0 1 1 1 2 1 1 0 1 0 1 1 0 1 0 1 0 0 0 0 1 2 1 1 1 1 1 1 2 0 0 1 1 0 0\n",
      " 0 1 1 1 0 1 1 1 0 0 1 0 1 0 2 0 1 0 1 0 1 0 1 0 0 1 1 1 0 1 1 0 1 1 1 1 1\n",
      " 1 0 1 1 1 1 1 1 1 1 0 1 1 1 1 0 1 1 1 1 1 1 1 1 1 1 1 1 1 1 0 1 1 1 1 1 1\n",
      " 0 1 1 2 2 0 1 0 1 1 1 1 0 0 1 0 1 1 1 0 0 1 1 1 0 1 1 1 1 0 1 1 0 1 1 0 2\n",
      " 1 1 1 1 2 0 1 1 1 0 0 0 0 0 0 0 1 1 0 1 1 1 0 1 1 0 0 0 1 0 0 1 1 0 1 0 0\n",
      " 1 1 0 1 0 2 1 1 1 1 0 1 0 1 0 0 1 1 0 1 1 0 1 1 1 0 0 1 0 1 0 1 2 0 1 1 1\n",
      " 1 1 0 1 0 1 0 1 1 1 2 1 0 0 0 0 1 0 1 1 1 1 0 0 0 1 0 1 1 0 0 0 0 1 0 1 0\n",
      " 1 1 1 1 1 1 1 2 1 0 1 0 1 0 0 1 0 1 1 0 0 1 0 0 1 1 1 2 1 2 0 1 1 0 1 1 0\n",
      " 1 1 0 0 1 1 1 1 1 1 1 1 1 1 1 1 0 1 1 0 0 0 1 0 0 0 0 0 1 0 1 1 0 1 1 1 1\n",
      " 0 1 0 1 1 2 0 0 1 2 0 1 0 1 1 1 1 1 1 1 1 0 0 0 1 1 1 1 0 1 0 0 1 0 1 0 0\n",
      " 0 0 0 1 0 0 1 0 0 1 1 0 0 1 1 1 0 0 1 1 0 1 0 1 1 1 1 1 0 1 1 0 1 1 1 0 1\n",
      " 1 1 1 1 1 1 1 1 2 1 1 1 0 0 1 0 1 1 1 1 0 1 1 0 1 1 1 1 0 1 1 1 0 1 0 1 1\n",
      " 0 1 0 1 0 1 0 0 0 1 1 1 1 1 1 0 0 1 1 0 1 1 1 1 0 1 1 1 1 0 1 2 1 2 1 0 1\n",
      " 1 0 1 1 2 1 1 1 0 0 1 0 0 1 1 1 2 0 2 1 0 0 0 1 1 0 1 0 0 1 1 0 0 1 1 1 0\n",
      " 0 0 1 1 0 1 1 0 1 0 0 0 0 1 0 1 0 1 1 1 1 0 0 1 1 0 2 1 0 0 0 1 1 1 1 1 0\n",
      " 1 1 0 1 1 0 0 0 1 0 1 1 0 0 0 1 0 0 1 1 1 2 1 1 1 0 1 1 1 1 1 1 1 1 0 1 0\n",
      " 1 1 0 0 0 1 0 1 0 1 1 1 0 1 1 1 1 1 0 1 0 0 0]\n"
     ]
    }
   ],
   "source": [
    "# 模型預測後的標籤\n",
    "predict_label = np.argmax(y_pred,axis=1)\n",
    "print(predict_label)\n",
    "# print(len(predict_label))"
   ]
  },
  {
   "cell_type": "code",
   "execution_count": 27,
   "metadata": {
    "scrolled": true
   },
   "outputs": [
    {
     "name": "stdout",
     "output_type": "stream",
     "text": [
      "['1' '0' '1' '1' '2' '1' '2' '0' '1' '0' '0' '1' '2' '1' '2' '1' '1' '0'\n",
      " '0' '1' '0' '0' '2' '0' '1' '0' '2' '2' '1' '1' '1' '0' '2' '2' '0' '0'\n",
      " '0' '0' '0' '0' '1' '2' '0' '2' '2' '2' '1' '0' '2' '0' '1' '1' '1' '2'\n",
      " '2' '0' '1' '0' '2' '0' '1' '1' '2' '0' '1' '2' '2' '0' '2' '1' '2' '1'\n",
      " '1' '2' '2' '2' '1' '0' '2' '0' '0' '2' '1' '1' '2' '2' '2' '2' '0' '1'\n",
      " '2' '2' '1' '2' '2' '2' '1' '0' '2' '2' '2' '1' '1' '2' '1' '1' '1' '1'\n",
      " '1' '2' '2' '0' '1' '0' '0' '2' '2' '0' '2' '0' '1' '0' '2' '1' '2' '1'\n",
      " '0' '1' '2' '1' '0' '0' '0' '1' '0' '2' '1' '1' '0' '2' '0' '1' '2' '0'\n",
      " '0' '0' '2' '1' '1' '1' '1' '1' '1' '1' '1' '1' '1' '0' '2' '1' '2' '1'\n",
      " '0' '1' '2' '2' '1' '2' '0' '2' '1' '2' '2' '2' '2' '1' '0' '0' '0' '1'\n",
      " '2' '2' '0' '2' '1' '2' '0' '0' '2' '1' '2' '2' '1' '1' '2' '1' '0' '2'\n",
      " '1' '0' '2' '2' '1' '0' '1' '2' '0' '1' '2' '2' '2' '1' '1' '2' '0' '2'\n",
      " '1' '2' '1' '1' '0' '1' '1' '1' '1' '1' '0' '0' '1' '1' '0' '2' '1' '1'\n",
      " '0' '1' '2' '0' '2' '0' '1' '2' '2' '0' '1' '0' '2' '2' '2' '1' '0' '1'\n",
      " '2' '2' '2' '1' '1' '1' '2' '2' '2' '1' '1' '0' '2' '1' '2' '0' '1' '2'\n",
      " '2' '1' '1' '1' '1' '2' '2' '0' '2' '0' '1' '0' '0' '1' '1' '1' '1' '2'\n",
      " '1' '2' '2' '0' '2' '2' '1' '1' '0' '1' '1' '2' '2' '0' '2' '0' '2' '2'\n",
      " '1' '2' '1' '2' '2' '0' '2' '1' '0' '2' '0' '1' '1' '0' '0' '1' '1' '2'\n",
      " '2' '1' '1' '1' '0' '2' '1' '1' '2' '0' '2' '1' '1' '2' '1' '1' '1' '2'\n",
      " '0' '2' '0' '0' '0' '0' '0' '1' '2' '1' '2' '0' '1' '0' '1' '2' '1' '0'\n",
      " '0' '1' '0' '0' '2' '1' '1' '1' '1' '1' '2' '2' '1' '2' '0' '2' '1' '2'\n",
      " '0' '2' '0' '1' '0' '1' '1' '2' '1' '1' '0' '2' '2' '2' '1' '2' '1' '0'\n",
      " '1' '1' '1' '1' '0' '0' '2' '1' '0' '2' '1' '1' '2' '0' '0' '2' '1' '0'\n",
      " '1' '1' '1' '2' '2' '1' '1' '0' '0' '2' '0' '2' '1' '1' '1' '2' '2' '0'\n",
      " '2' '0' '1' '2' '2' '1' '1' '0' '1' '0' '1' '0' '0' '1' '0' '1' '1' '1'\n",
      " '2' '2' '2' '2' '0' '0' '0' '1' '0' '2' '2' '1' '2' '2' '0' '1' '1' '0'\n",
      " '1' '0' '1' '2' '2' '1' '0' '1' '2' '1' '1' '1' '0' '0' '0' '0' '1' '2'\n",
      " '1' '1' '2' '2' '1' '2' '1' '1' '0' '0' '0' '0' '0' '0' '0' '0' '2' '2'\n",
      " '0' '0' '0' '0' '0' '1' '1' '2' '1' '0' '0' '2' '2' '1' '0' '1' '0' '1'\n",
      " '2' '2' '2' '1' '1' '2' '2' '1' '2' '1' '1' '1' '2' '0' '1' '0' '2' '0'\n",
      " '0' '0' '2' '1' '0' '2' '0' '1' '0' '2' '1' '0' '2' '0' '2' '1' '0' '0'\n",
      " '0' '0' '2' '1' '1' '1' '0' '1' '0' '0' '1' '0' '1' '1' '0' '1' '2' '0'\n",
      " '1' '1' '1' '1' '2' '1' '1' '1' '1' '0' '1' '2' '2' '2' '0' '0' '1' '1'\n",
      " '0' '1' '2' '2' '0' '1' '2' '2' '1' '2' '1' '0' '0' '2' '2' '1' '2' '2'\n",
      " '2' '2' '2' '0' '2' '1' '1' '1' '1' '0' '0' '2' '0' '0' '0' '0' '0' '0'\n",
      " '2' '1' '1' '0' '1' '2' '2' '0' '0' '0' '2' '1' '1' '0' '0' '0' '1' '0'\n",
      " '1' '2' '2' '2' '1' '2' '1' '1' '2' '2' '1' '1' '2' '1' '2' '1' '2' '2'\n",
      " '0' '0' '2' '0' '2' '2' '2' '1' '0' '0' '2' '0' '0' '0' '1' '2' '2' '1'\n",
      " '1' '0' '0' '1' '2' '1' '0' '2' '2' '0' '2' '1' '0' '2' '2' '0' '0' '1'\n",
      " '0' '0' '2' '2' '1' '1' '0' '2' '0' '0' '0' '1' '1' '0' '2' '0' '2' '0'\n",
      " '1' '1' '1' '2' '2' '0' '2' '1' '0' '2' '2' '1' '0' '2' '1' '2' '1' '2'\n",
      " '2' '0' '1' '1' '2' '2' '1' '1' '0' '0' '1' '0' '1' '2' '0' '0' '0' '1'\n",
      " '1' '0' '1' '2' '0' '1' '0' '0' '2' '0' '1' '0' '0' '1' '1' '1' '2' '2'\n",
      " '0' '0' '1' '2' '2' '2' '1' '0' '2' '2' '0' '0' '2' '2' '1' '2' '2' '1'\n",
      " '1' '1' '0' '1' '0' '2' '0' '2']\n"
     ]
    }
   ],
   "source": [
    "# 模型原標籤\n",
    "true_label = y_test_org\n",
    "true_label = np.array(true_label)\n",
    "print(true_label)\n",
    "# print(len(true_label))"
   ]
  },
  {
   "cell_type": "code",
   "execution_count": 28,
   "metadata": {
    "scrolled": true
   },
   "outputs": [
    {
     "data": {
      "text/html": [
       "<div>\n",
       "<style scoped>\n",
       "    .dataframe tbody tr th:only-of-type {\n",
       "        vertical-align: middle;\n",
       "    }\n",
       "\n",
       "    .dataframe tbody tr th {\n",
       "        vertical-align: top;\n",
       "    }\n",
       "\n",
       "    .dataframe thead th {\n",
       "        text-align: right;\n",
       "    }\n",
       "</style>\n",
       "<table border=\"1\" class=\"dataframe\">\n",
       "  <thead>\n",
       "    <tr style=\"text-align: right;\">\n",
       "      <th>預測值</th>\n",
       "      <th>0</th>\n",
       "      <th>1</th>\n",
       "      <th>2</th>\n",
       "    </tr>\n",
       "    <tr>\n",
       "      <th>實際值</th>\n",
       "      <th></th>\n",
       "      <th></th>\n",
       "      <th></th>\n",
       "    </tr>\n",
       "  </thead>\n",
       "  <tbody>\n",
       "    <tr>\n",
       "      <th>0</th>\n",
       "      <td>160</td>\n",
       "      <td>83</td>\n",
       "      <td>0</td>\n",
       "    </tr>\n",
       "    <tr>\n",
       "      <th>1</th>\n",
       "      <td>81</td>\n",
       "      <td>208</td>\n",
       "      <td>4</td>\n",
       "    </tr>\n",
       "    <tr>\n",
       "      <th>2</th>\n",
       "      <td>64</td>\n",
       "      <td>171</td>\n",
       "      <td>29</td>\n",
       "    </tr>\n",
       "  </tbody>\n",
       "</table>\n",
       "</div>"
      ],
      "text/plain": [
       "預測值    0    1   2\n",
       "實際值              \n",
       "0    160   83   0\n",
       "1     81  208   4\n",
       "2     64  171  29"
      ]
     },
     "execution_count": 28,
     "metadata": {},
     "output_type": "execute_result"
    }
   ],
   "source": [
    "pd.crosstab(true_label,predict_label,rownames=['實際值'],colnames=['預測值'])"
   ]
  },
  {
   "cell_type": "code",
   "execution_count": 29,
   "metadata": {
    "scrolled": true
   },
   "outputs": [
    {
     "name": "stdout",
     "output_type": "stream",
     "text": [
      "正确率为:49.62%\n"
     ]
    }
   ],
   "source": [
    "# 整體準確度\n",
    "count = 0\n",
    "for i in range(len(y_pred)):\n",
    "    if(np.argmax(y_pred[i]) == np.argmax(y_test[i])): #argmax函数找到最大值的索引，即为其类别\n",
    "        count += 1\n",
    "score = count/len(y_pred)\n",
    "print('正确率为:%.2f%s' % (score*100,'%'))"
   ]
  },
  {
   "cell_type": "code",
   "execution_count": 30,
   "metadata": {
    "scrolled": true
   },
   "outputs": [],
   "source": [
    "# 儲存模型相關參數\n",
    "# model.save('h5/'+file_name+'.h5')"
   ]
  },
  {
   "cell_type": "raw",
   "metadata": {},
   "source": [
    "### https://github.com/linsamtw/cifar10_vgg16_kaggle"
   ]
  },
  {
   "cell_type": "code",
   "execution_count": null,
   "metadata": {
    "scrolled": true
   },
   "outputs": [],
   "source": []
  },
  {
   "cell_type": "markdown",
   "metadata": {},
   "source": [
    "## Test 2"
   ]
  },
  {
   "cell_type": "code",
   "execution_count": 31,
   "metadata": {
    "scrolled": true
   },
   "outputs": [
    {
     "name": "stdout",
     "output_type": "stream",
     "text": [
      "芒果圖片數量:  5600\n",
      "x_l:  16800\n",
      "y_l:  16800\n"
     ]
    }
   ],
   "source": [
    "flip = 0; rotate = 1\n",
    "x_train, y_train = imgGenFunc(image_size, flip, rotate)"
   ]
  },
  {
   "cell_type": "code",
   "execution_count": 32,
   "metadata": {
    "scrolled": true
   },
   "outputs": [
    {
     "name": "stdout",
     "output_type": "stream",
     "text": [
      "Start Time 2020-05-28 12:51:39.563197+08:00\n"
     ]
    }
   ],
   "source": [
    "# Print Start time\n",
    "from datetime import datetime, timezone\n",
    "import pytz\n",
    "\n",
    "tpe = pytz.timezone('Asia/Taipei')\n",
    "utc_start = datetime.now()\n",
    "print(\"Start Time\", tpe.fromutc(utc_start))"
   ]
  },
  {
   "cell_type": "code",
   "execution_count": 33,
   "metadata": {
    "scrolled": true
   },
   "outputs": [
    {
     "name": "stdout",
     "output_type": "stream",
     "text": [
      "Train on 15120 samples, validate on 1680 samples\n",
      "Epoch 1/20\n",
      "15120/15120 [==============================] - 110s 7ms/sample - loss: 0.5890 - acc: 0.7576 - val_loss: 558.6382 - val_acc: 0.3899\n",
      "Epoch 2/20\n",
      "15120/15120 [==============================] - 103s 7ms/sample - loss: 0.4824 - acc: 0.7918 - val_loss: 0.6663 - val_acc: 0.7649\n",
      "Epoch 3/20\n",
      "15120/15120 [==============================] - 103s 7ms/sample - loss: 0.9074 - acc: 0.6974 - val_loss: 4363493288.2286 - val_acc: 0.3399\n",
      "Epoch 4/20\n",
      "15120/15120 [==============================] - 103s 7ms/sample - loss: 1.0631 - acc: 0.5132 - val_loss: 5.6285 - val_acc: 0.4440\n",
      "Epoch 5/20\n",
      "15120/15120 [==============================] - 103s 7ms/sample - loss: 0.8859 - acc: 0.5602 - val_loss: 1.1827 - val_acc: 0.5274\n",
      "Epoch 6/20\n",
      "15120/15120 [==============================] - 103s 7ms/sample - loss: 0.8874 - acc: 0.5794 - val_loss: 1.0578 - val_acc: 0.5548\n",
      "Epoch 7/20\n",
      "15120/15120 [==============================] - 103s 7ms/sample - loss: 0.8038 - acc: 0.6243 - val_loss: 1.1774 - val_acc: 0.5494\n",
      "Epoch 8/20\n",
      "15120/15120 [==============================] - 103s 7ms/sample - loss: 0.7661 - acc: 0.6507 - val_loss: 0.9045 - val_acc: 0.5655\n",
      "Epoch 9/20\n",
      "15120/15120 [==============================] - 103s 7ms/sample - loss: 0.6956 - acc: 0.6851 - val_loss: 0.9179 - val_acc: 0.5899\n",
      "Epoch 10/20\n",
      "15120/15120 [==============================] - 103s 7ms/sample - loss: 0.6500 - acc: 0.7098 - val_loss: 1.0457 - val_acc: 0.5655\n",
      "Epoch 11/20\n",
      "15120/15120 [==============================] - 103s 7ms/sample - loss: 0.6074 - acc: 0.7302 - val_loss: 0.6400 - val_acc: 0.7185\n",
      "Epoch 12/20\n",
      "15120/15120 [==============================] - 103s 7ms/sample - loss: 0.5732 - acc: 0.7504 - val_loss: 0.7003 - val_acc: 0.7476\n",
      "Epoch 13/20\n",
      "15120/15120 [==============================] - 103s 7ms/sample - loss: 0.5499 - acc: 0.7624 - val_loss: 0.6121 - val_acc: 0.7268\n",
      "Epoch 14/20\n",
      "15120/15120 [==============================] - 103s 7ms/sample - loss: 0.5182 - acc: 0.7756 - val_loss: 1.1760 - val_acc: 0.5196\n",
      "Epoch 15/20\n",
      "15120/15120 [==============================] - 103s 7ms/sample - loss: 0.5017 - acc: 0.7808 - val_loss: 0.6235 - val_acc: 0.7292\n",
      "Epoch 16/20\n",
      "15120/15120 [==============================] - 103s 7ms/sample - loss: 0.4963 - acc: 0.7859 - val_loss: 0.6049 - val_acc: 0.7357\n",
      "Epoch 17/20\n",
      "15120/15120 [==============================] - 103s 7ms/sample - loss: 0.4446 - acc: 0.8075 - val_loss: 0.9521 - val_acc: 0.6256\n",
      "Epoch 18/20\n",
      "15120/15120 [==============================] - 103s 7ms/sample - loss: 0.3850 - acc: 0.8368 - val_loss: 0.7445 - val_acc: 0.6935\n",
      "Epoch 19/20\n",
      "15120/15120 [==============================] - 103s 7ms/sample - loss: 0.3672 - acc: 0.8497 - val_loss: 1.0424 - val_acc: 0.6161\n",
      "Epoch 20/20\n",
      "15120/15120 [==============================] - 103s 7ms/sample - loss: 0.3524 - acc: 0.8536 - val_loss: 0.8733 - val_acc: 0.7054\n"
     ]
    }
   ],
   "source": [
    "### Start Training\n",
    "history_2 = model_2.fit(\n",
    "    x = x_train, \n",
    "    y = y_train, \n",
    "    batch_size = batch_size,\n",
    "    shuffle=True,\n",
    "    epochs = epochs,\n",
    "    validation_split=0.1\n",
    ")"
   ]
  },
  {
   "cell_type": "code",
   "execution_count": 34,
   "metadata": {
    "scrolled": true
   },
   "outputs": [
    {
     "name": "stdout",
     "output_type": "stream",
     "text": [
      "Finish Training Time 2020-05-28 13:26:17.372900+08:00\n"
     ]
    },
    {
     "data": {
      "text/plain": [
       "(34, 37)"
      ]
     },
     "execution_count": 34,
     "metadata": {},
     "output_type": "execute_result"
    }
   ],
   "source": [
    "# Print Finish Training time\n",
    "tpe = pytz.timezone('Asia/Taipei')\n",
    "utc_finish = datetime.now()\n",
    "print(\"Finish Training Time\", tpe.fromutc(utc_finish))\n",
    "\n",
    "difference = utc_finish-utc_start\n",
    "seconds_in_day = 24 * 60 * 60\n",
    "divmod(difference.days * seconds_in_day + difference.seconds, 60)"
   ]
  },
  {
   "cell_type": "code",
   "execution_count": 35,
   "metadata": {
    "scrolled": true
   },
   "outputs": [
    {
     "data": {
      "image/png": "[encoded data removed]",
      "text/plain": [
       "<Figure size 576x360 with 1 Axes>"
      ]
     },
     "metadata": {},
     "output_type": "display_data"
    }
   ],
   "source": [
    "plot_learning_curves(history_2)"
   ]
  },
  {
   "cell_type": "code",
   "execution_count": 36,
   "metadata": {
    "scrolled": true
   },
   "outputs": [],
   "source": [
    "# 測試集標籤預測\n",
    "y_pred = model_2.predict(x_test)"
   ]
  },
  {
   "cell_type": "code",
   "execution_count": 37,
   "metadata": {
    "scrolled": true
   },
   "outputs": [
    {
     "name": "stdout",
     "output_type": "stream",
     "text": [
      "[1 1 1 1 2 1 1 1 1 1 1 1 2 0 1 1 1 1 1 1 1 1 1 1 1 1 1 1 1 1 1 1 1 1 1 1 1\n",
      " 1 1 1 1 1 1 1 2 1 2 0 1 1 1 1 1 1 1 1 1 1 1 1 0 1 1 1 1 1 1 1 1 1 1 1 1 1\n",
      " 1 1 1 1 2 1 1 1 1 1 1 1 1 1 1 1 1 1 1 1 1 1 1 1 1 1 1 1 1 1 2 1 1 1 1 1 1\n",
      " 1 1 1 1 1 1 1 1 1 1 1 1 1 1 1 1 1 1 1 1 1 1 2 0 1 1 1 1 1 1 1 1 1 1 1 2 1\n",
      " 1 1 1 0 1 1 1 1 1 1 1 1 1 1 1 1 1 1 1 1 1 1 1 1 1 1 1 1 1 1 1 1 1 1 1 1 1\n",
      " 1 0 1 1 1 1 1 1 1 1 0 0 1 1 1 1 1 2 1 1 1 1 1 1 1 1 1 0 1 1 1 1 1 2 1 1 1\n",
      " 1 1 1 1 1 1 1 1 1 1 1 2 1 1 2 1 1 1 1 1 1 1 1 1 1 2 1 1 1 1 2 1 2 1 1 1 1\n",
      " 1 1 1 1 1 1 1 1 1 1 1 1 1 1 1 1 1 1 1 1 1 1 1 1 0 1 1 1 1 2 1 1 1 1 1 1 1\n",
      " 1 1 1 1 1 1 1 1 1 1 2 1 1 1 1 1 1 1 1 1 1 2 1 1 1 1 1 1 1 1 1 1 1 2 1 1 1\n",
      " 1 1 1 1 2 1 1 1 1 1 1 0 1 1 1 1 1 1 1 1 1 1 1 1 1 1 0 1 1 1 1 1 1 1 1 1 1\n",
      " 1 1 1 1 1 1 1 1 1 0 1 1 1 1 1 1 1 1 0 1 1 1 1 1 1 1 1 1 0 2 1 1 1 1 1 1 0\n",
      " 1 1 1 1 1 1 1 1 1 1 2 1 1 1 1 1 1 1 1 1 1 1 1 1 1 1 1 1 1 1 1 1 1 1 1 2 1\n",
      " 1 1 1 1 1 1 1 1 1 1 1 1 1 1 1 1 1 1 2 1 1 1 1 1 0 1 1 2 1 1 0 1 1 2 1 1 1\n",
      " 1 1 1 1 1 1 1 1 1 1 1 1 1 1 1 1 1 1 1 1 1 1 1 1 1 1 1 1 1 1 1 1 1 1 1 1 1\n",
      " 1 1 1 1 1 1 1 1 1 2 1 1 1 1 1 1 1 1 1 0 2 1 1 1 1 1 1 1 1 2 1 1 1 1 1 1 1\n",
      " 1 1 1 1 1 1 1 1 0 0 1 1 1 1 1 1 1 0 1 1 1 1 2 1 1 1 1 1 1 1 1 1 2 2 1 1 1\n",
      " 1 1 1 1 1 1 1 1 1 1 1 1 1 1 1 1 1 2 1 1 1 1 1 2 1 1 0 1 1 1 1 1 1 1 1 1 1\n",
      " 1 1 1 1 1 1 1 1 1 1 1 1 1 1 1 1 0 1 1 1 2 1 1 1 1 1 1 1 2 1 1 1 1 1 1 1 1\n",
      " 1 1 1 1 2 1 1 1 1 1 2 1 0 1 1 1 1 1 0 1 1 1 1 1 1 1 1 1 1 1 1 1 1 1 1 1 0\n",
      " 1 1 1 1 1 1 1 1 1 1 1 1 1 1 1 1 1 1 1 1 1 2 1 1 1 1 1 1 1 1 1 1 1 1 1 1 1\n",
      " 1 1 1 1 1 1 1 1 1 1 1 1 1 1 1 1 1 2 1 1 1 1 1 1 1 1 1 1 1 1 1 1 1 1 1 1 0\n",
      " 1 1 2 1 1 1 2 1 1 1 1 1 1 1 1 1 1 1 1 1 1 1 1]\n"
     ]
    }
   ],
   "source": [
    "# 模型預測後的標籤\n",
    "predict_label = np.argmax(y_pred,axis=1)\n",
    "print(predict_label)\n",
    "# print(len(predict_label))"
   ]
  },
  {
   "cell_type": "code",
   "execution_count": 38,
   "metadata": {
    "scrolled": true
   },
   "outputs": [
    {
     "data": {
      "text/html": [
       "<div>\n",
       "<style scoped>\n",
       "    .dataframe tbody tr th:only-of-type {\n",
       "        vertical-align: middle;\n",
       "    }\n",
       "\n",
       "    .dataframe tbody tr th {\n",
       "        vertical-align: top;\n",
       "    }\n",
       "\n",
       "    .dataframe thead th {\n",
       "        text-align: right;\n",
       "    }\n",
       "</style>\n",
       "<table border=\"1\" class=\"dataframe\">\n",
       "  <thead>\n",
       "    <tr style=\"text-align: right;\">\n",
       "      <th>預測值</th>\n",
       "      <th>0</th>\n",
       "      <th>1</th>\n",
       "      <th>2</th>\n",
       "    </tr>\n",
       "    <tr>\n",
       "      <th>實際值</th>\n",
       "      <th></th>\n",
       "      <th></th>\n",
       "      <th></th>\n",
       "    </tr>\n",
       "  </thead>\n",
       "  <tbody>\n",
       "    <tr>\n",
       "      <th>0</th>\n",
       "      <td>14</td>\n",
       "      <td>227</td>\n",
       "      <td>2</td>\n",
       "    </tr>\n",
       "    <tr>\n",
       "      <th>1</th>\n",
       "      <td>13</td>\n",
       "      <td>265</td>\n",
       "      <td>15</td>\n",
       "    </tr>\n",
       "    <tr>\n",
       "      <th>2</th>\n",
       "      <td>1</td>\n",
       "      <td>238</td>\n",
       "      <td>25</td>\n",
       "    </tr>\n",
       "  </tbody>\n",
       "</table>\n",
       "</div>"
      ],
      "text/plain": [
       "預測值   0    1   2\n",
       "實際值             \n",
       "0    14  227   2\n",
       "1    13  265  15\n",
       "2     1  238  25"
      ]
     },
     "execution_count": 38,
     "metadata": {},
     "output_type": "execute_result"
    }
   ],
   "source": [
    "pd.crosstab(true_label,predict_label,rownames=['實際值'],colnames=['預測值'])"
   ]
  },
  {
   "cell_type": "code",
   "execution_count": 39,
   "metadata": {
    "scrolled": true
   },
   "outputs": [
    {
     "name": "stdout",
     "output_type": "stream",
     "text": [
      "正确率为:38.00%\n"
     ]
    }
   ],
   "source": [
    "# 整體準確度\n",
    "count = 0\n",
    "for i in range(len(y_pred)):\n",
    "    if(np.argmax(y_pred[i]) == np.argmax(y_test[i])): #argmax函数找到最大值的索引，即为其类别\n",
    "        count += 1\n",
    "score = count/len(y_pred)\n",
    "print('正确率为:%.2f%s' % (score*100,'%'))"
   ]
  },
  {
   "cell_type": "markdown",
   "metadata": {},
   "source": [
    "## Test 3"
   ]
  },
  {
   "cell_type": "code",
   "execution_count": 40,
   "metadata": {
    "scrolled": true
   },
   "outputs": [
    {
     "name": "stdout",
     "output_type": "stream",
     "text": [
      "芒果圖片數量:  5600\n",
      "x_l:  22400\n",
      "y_l:  22400\n"
     ]
    }
   ],
   "source": [
    "flip = 1; rotate = 0\n",
    "x_train, y_train = imgGenFunc(image_size, flip, rotate)"
   ]
  },
  {
   "cell_type": "code",
   "execution_count": 41,
   "metadata": {
    "scrolled": true
   },
   "outputs": [
    {
     "name": "stdout",
     "output_type": "stream",
     "text": [
      "Start Time 2020-05-28 13:27:33.725158+08:00\n"
     ]
    }
   ],
   "source": [
    "# Print Start time\n",
    "from datetime import datetime, timezone\n",
    "import pytz\n",
    "\n",
    "tpe = pytz.timezone('Asia/Taipei')\n",
    "utc_start = datetime.now()\n",
    "print(\"Start Time\", tpe.fromutc(utc_start))"
   ]
  },
  {
   "cell_type": "code",
   "execution_count": 42,
   "metadata": {
    "scrolled": true
   },
   "outputs": [
    {
     "name": "stdout",
     "output_type": "stream",
     "text": [
      "Train on 20160 samples, validate on 2240 samples\n",
      "Epoch 1/20\n",
      "20160/20160 [==============================] - 147s 7ms/sample - loss: 0.5596 - acc: 0.7521 - val_loss: 1.6296 - val_acc: 0.4857\n",
      "Epoch 2/20\n",
      "20160/20160 [==============================] - 136s 7ms/sample - loss: 0.5573 - acc: 0.7679 - val_loss: 17527.7808 - val_acc: 0.3330\n",
      "Epoch 3/20\n",
      "20160/20160 [==============================] - 136s 7ms/sample - loss: 0.5777 - acc: 0.7453 - val_loss: 0.8315 - val_acc: 0.6295\n",
      "Epoch 4/20\n",
      "20160/20160 [==============================] - 136s 7ms/sample - loss: 0.5132 - acc: 0.7834 - val_loss: 1.3188 - val_acc: 0.3741\n",
      "Epoch 5/20\n",
      "20160/20160 [==============================] - 136s 7ms/sample - loss: 0.5771 - acc: 0.7585 - val_loss: 0.6676 - val_acc: 0.6848\n",
      "Epoch 6/20\n",
      "20160/20160 [==============================] - 136s 7ms/sample - loss: 0.5118 - acc: 0.7860 - val_loss: 0.9736 - val_acc: 0.5384\n",
      "Epoch 7/20\n",
      "20160/20160 [==============================] - 136s 7ms/sample - loss: 0.4685 - acc: 0.7993 - val_loss: 0.8798 - val_acc: 0.6112\n",
      "Epoch 8/20\n",
      "20160/20160 [==============================] - 136s 7ms/sample - loss: 0.3713 - acc: 0.8439 - val_loss: 0.6435 - val_acc: 0.7317\n",
      "Epoch 9/20\n",
      "20160/20160 [==============================] - 136s 7ms/sample - loss: 0.2783 - acc: 0.8877 - val_loss: 0.7782 - val_acc: 0.7424\n",
      "Epoch 10/20\n",
      "20160/20160 [==============================] - 136s 7ms/sample - loss: 0.2147 - acc: 0.9163 - val_loss: 0.7873 - val_acc: 0.7357\n",
      "Epoch 11/20\n",
      "20160/20160 [==============================] - 136s 7ms/sample - loss: 0.2474 - acc: 0.9288 - val_loss: 2317.0601 - val_acc: 0.3795\n",
      "Epoch 12/20\n",
      "20160/20160 [==============================] - 136s 7ms/sample - loss: 0.8081 - acc: 0.6748 - val_loss: 0.8855 - val_acc: 0.5379\n",
      "Epoch 13/20\n",
      "20160/20160 [==============================] - 136s 7ms/sample - loss: 0.5372 - acc: 0.7674 - val_loss: 0.7715 - val_acc: 0.6920\n",
      "Epoch 14/20\n",
      "20160/20160 [==============================] - 136s 7ms/sample - loss: 0.4047 - acc: 0.8288 - val_loss: 0.7125 - val_acc: 0.7085\n",
      "Epoch 15/20\n",
      "20160/20160 [==============================] - 136s 7ms/sample - loss: 0.2993 - acc: 0.8823 - val_loss: 0.7490 - val_acc: 0.7237\n",
      "Epoch 16/20\n",
      "20160/20160 [==============================] - 136s 7ms/sample - loss: 0.2027 - acc: 0.9175 - val_loss: 0.9442 - val_acc: 0.6951\n",
      "Epoch 17/20\n",
      "20160/20160 [==============================] - 136s 7ms/sample - loss: 0.1538 - acc: 0.9394 - val_loss: 2.0182 - val_acc: 0.5638\n",
      "Epoch 18/20\n",
      "20160/20160 [==============================] - 136s 7ms/sample - loss: 0.1576 - acc: 0.9385 - val_loss: 1.3019 - val_acc: 0.6911\n",
      "Epoch 19/20\n",
      "20160/20160 [==============================] - 136s 7ms/sample - loss: 0.1260 - acc: 0.9540 - val_loss: 1.1574 - val_acc: 0.7201\n",
      "Epoch 20/20\n",
      "20160/20160 [==============================] - 136s 7ms/sample - loss: 0.0949 - acc: 0.9628 - val_loss: 1.5685 - val_acc: 0.6616\n"
     ]
    }
   ],
   "source": [
    "### Start Training\n",
    "history_3 = model_3.fit(\n",
    "    x = x_train, \n",
    "    y = y_train, \n",
    "    batch_size = batch_size,\n",
    "    shuffle=True,\n",
    "    epochs = epochs,\n",
    "    validation_split=0.1\n",
    ")"
   ]
  },
  {
   "cell_type": "code",
   "execution_count": 43,
   "metadata": {
    "scrolled": true
   },
   "outputs": [
    {
     "name": "stdout",
     "output_type": "stream",
     "text": [
      "Finish Training Time 2020-05-28 14:13:21.610753+08:00\n"
     ]
    },
    {
     "data": {
      "text/plain": [
       "(45, 47)"
      ]
     },
     "execution_count": 43,
     "metadata": {},
     "output_type": "execute_result"
    }
   ],
   "source": [
    "# Print Finish Training time\n",
    "tpe = pytz.timezone('Asia/Taipei')\n",
    "utc_finish = datetime.now()\n",
    "print(\"Finish Training Time\", tpe.fromutc(utc_finish))\n",
    "\n",
    "difference = utc_finish-utc_start\n",
    "seconds_in_day = 24 * 60 * 60\n",
    "divmod(difference.days * seconds_in_day + difference.seconds, 60)"
   ]
  },
  {
   "cell_type": "code",
   "execution_count": 44,
   "metadata": {
    "scrolled": true
   },
   "outputs": [
    {
     "data": {
      "image/png": "[encoded data removed]",
      "text/plain": [
       "<Figure size 576x360 with 1 Axes>"
      ]
     },
     "metadata": {},
     "output_type": "display_data"
    }
   ],
   "source": [
    "plot_learning_curves(history_3)"
   ]
  },
  {
   "cell_type": "code",
   "execution_count": 45,
   "metadata": {
    "scrolled": true
   },
   "outputs": [],
   "source": [
    "# 測試集標籤預測\n",
    "y_pred = model_3.predict(x_test)"
   ]
  },
  {
   "cell_type": "code",
   "execution_count": 46,
   "metadata": {
    "scrolled": true
   },
   "outputs": [
    {
     "name": "stdout",
     "output_type": "stream",
     "text": [
      "[2 1 2 2 1 2 1 1 1 1 1 1 2 2 1 2 1 1 1 1 1 1 1 0 1 1 1 1 1 1 1 2 2 1 0 2 0\n",
      " 0 0 1 0 2 0 1 2 1 2 2 2 1 2 2 1 1 2 1 1 1 2 2 2 1 1 0 1 1 1 1 0 1 2 1 2 2\n",
      " 2 1 1 1 2 1 1 2 2 1 1 2 2 1 1 1 1 2 1 1 1 1 1 2 1 2 1 1 1 1 1 2 1 1 2 2 2\n",
      " 2 2 1 1 1 1 2 2 1 1 1 1 2 2 1 1 2 2 1 1 0 1 1 2 0 1 2 1 2 1 1 2 0 1 1 2 2\n",
      " 1 1 1 1 1 2 2 1 2 0 2 2 2 2 1 1 1 1 1 2 1 1 1 2 1 1 1 1 1 2 1 1 2 2 1 1 1\n",
      " 1 2 1 1 2 2 1 2 1 1 2 0 1 1 0 2 1 1 1 1 0 0 1 2 1 1 1 2 1 1 2 2 1 1 2 1 1\n",
      " 2 2 1 2 1 1 1 2 2 1 2 2 2 1 2 1 2 2 1 1 1 1 1 0 1 1 1 2 1 0 1 1 2 1 2 1 1\n",
      " 2 1 1 2 2 1 2 2 1 2 1 2 2 1 2 1 1 2 2 2 1 1 1 2 2 2 1 2 2 1 1 1 2 1 2 2 0\n",
      " 2 1 2 1 2 2 1 2 1 2 1 1 1 1 2 0 2 2 1 1 2 2 2 1 0 1 2 2 2 1 1 2 0 2 1 1 2\n",
      " 1 1 2 2 2 1 2 2 0 1 2 0 1 1 2 1 2 1 1 1 0 1 2 1 1 2 0 1 1 1 1 1 1 2 1 1 0\n",
      " 2 2 1 2 2 2 2 1 1 1 0 2 0 1 1 1 2 1 1 1 1 2 2 2 2 1 1 1 1 1 1 0 2 1 1 1 2\n",
      " 2 1 1 1 1 1 0 1 1 1 2 2 2 2 1 2 1 0 1 2 2 1 2 1 2 2 1 2 2 1 1 1 1 2 1 1 1\n",
      " 1 2 1 1 1 2 1 1 2 1 1 1 1 1 1 1 1 1 2 2 1 2 2 1 1 1 2 2 2 2 1 1 1 1 1 2 2\n",
      " 2 1 1 1 1 1 1 1 1 1 2 1 1 2 1 0 2 2 1 2 2 1 2 1 0 1 1 1 0 1 2 1 0 1 2 1 2\n",
      " 1 2 1 2 1 2 1 1 2 2 2 2 2 2 1 1 1 1 1 2 1 1 1 1 1 1 1 1 1 2 1 1 2 2 2 0 1\n",
      " 1 1 0 1 1 1 1 1 2 2 1 1 2 2 2 1 2 0 1 2 1 2 1 1 2 1 1 1 1 1 0 2 2 1 0 1 2\n",
      " 1 2 1 1 0 1 1 1 1 1 1 2 1 0 1 2 2 1 2 1 1 2 1 1 1 0 2 2 1 2 2 1 0 1 0 1 1\n",
      " 1 1 1 2 1 2 1 1 1 2 2 1 2 2 2 1 1 1 1 0 1 2 2 1 1 1 1 2 2 1 1 2 2 2 2 1 2\n",
      " 1 1 1 1 2 2 2 1 1 2 2 1 0 1 2 1 2 1 2 2 0 1 2 2 1 1 2 1 1 1 1 2 2 1 1 1 2\n",
      " 2 1 1 1 1 1 2 1 1 1 1 1 1 1 0 2 2 2 1 1 1 2 1 2 2 1 2 1 2 1 2 1 1 2 0 1 1\n",
      " 1 1 1 2 2 1 2 1 1 1 2 1 1 1 0 2 1 2 1 1 1 1 1 1 1 1 2 1 1 1 1 2 2 1 1 2 2\n",
      " 1 1 2 2 1 1 1 1 1 2 1 1 1 2 1 1 1 2 2 1 2 0 2]\n"
     ]
    }
   ],
   "source": [
    "# 模型預測後的標籤\n",
    "predict_label = np.argmax(y_pred,axis=1)\n",
    "print(predict_label)\n",
    "# print(len(predict_label))"
   ]
  },
  {
   "cell_type": "code",
   "execution_count": 47,
   "metadata": {
    "scrolled": true
   },
   "outputs": [
    {
     "data": {
      "text/html": [
       "<div>\n",
       "<style scoped>\n",
       "    .dataframe tbody tr th:only-of-type {\n",
       "        vertical-align: middle;\n",
       "    }\n",
       "\n",
       "    .dataframe tbody tr th {\n",
       "        vertical-align: top;\n",
       "    }\n",
       "\n",
       "    .dataframe thead th {\n",
       "        text-align: right;\n",
       "    }\n",
       "</style>\n",
       "<table border=\"1\" class=\"dataframe\">\n",
       "  <thead>\n",
       "    <tr style=\"text-align: right;\">\n",
       "      <th>預測值</th>\n",
       "      <th>0</th>\n",
       "      <th>1</th>\n",
       "      <th>2</th>\n",
       "    </tr>\n",
       "    <tr>\n",
       "      <th>實際值</th>\n",
       "      <th></th>\n",
       "      <th></th>\n",
       "      <th></th>\n",
       "    </tr>\n",
       "  </thead>\n",
       "  <tbody>\n",
       "    <tr>\n",
       "      <th>0</th>\n",
       "      <td>40</td>\n",
       "      <td>150</td>\n",
       "      <td>53</td>\n",
       "    </tr>\n",
       "    <tr>\n",
       "      <th>1</th>\n",
       "      <td>7</td>\n",
       "      <td>168</td>\n",
       "      <td>118</td>\n",
       "    </tr>\n",
       "    <tr>\n",
       "      <th>2</th>\n",
       "      <td>7</td>\n",
       "      <td>141</td>\n",
       "      <td>116</td>\n",
       "    </tr>\n",
       "  </tbody>\n",
       "</table>\n",
       "</div>"
      ],
      "text/plain": [
       "預測值   0    1    2\n",
       "實際值              \n",
       "0    40  150   53\n",
       "1     7  168  118\n",
       "2     7  141  116"
      ]
     },
     "execution_count": 47,
     "metadata": {},
     "output_type": "execute_result"
    }
   ],
   "source": [
    "pd.crosstab(true_label,predict_label,rownames=['實際值'],colnames=['預測值'])"
   ]
  },
  {
   "cell_type": "code",
   "execution_count": 48,
   "metadata": {
    "scrolled": true
   },
   "outputs": [
    {
     "name": "stdout",
     "output_type": "stream",
     "text": [
      "正确率为:40.50%\n"
     ]
    }
   ],
   "source": [
    "# 整體準確度\n",
    "count = 0\n",
    "for i in range(len(y_pred)):\n",
    "    if(np.argmax(y_pred[i]) == np.argmax(y_test[i])): #argmax函数找到最大值的索引，即为其类别\n",
    "        count += 1\n",
    "score = count/len(y_pred)\n",
    "print('正确率为:%.2f%s' % (score*100,'%'))"
   ]
  },
  {
   "cell_type": "markdown",
   "metadata": {},
   "source": [
    "## Test 4"
   ]
  },
  {
   "cell_type": "code",
   "execution_count": 49,
   "metadata": {
    "scrolled": true
   },
   "outputs": [
    {
     "name": "stdout",
     "output_type": "stream",
     "text": [
      "芒果圖片數量:  5600\n",
      "x_l:  33600\n",
      "y_l:  33600\n"
     ]
    }
   ],
   "source": [
    "flip = 1; rotate = 1\n",
    "x_train, y_train = imgGenFunc(image_size, flip, rotate)"
   ]
  },
  {
   "cell_type": "code",
   "execution_count": 50,
   "metadata": {
    "scrolled": true
   },
   "outputs": [
    {
     "name": "stdout",
     "output_type": "stream",
     "text": [
      "Start Time 2020-05-28 14:14:44.679425+08:00\n"
     ]
    }
   ],
   "source": [
    "# Print Start time\n",
    "from datetime import datetime, timezone\n",
    "import pytz\n",
    "\n",
    "tpe = pytz.timezone('Asia/Taipei')\n",
    "utc_start = datetime.now()\n",
    "print(\"Start Time\", tpe.fromutc(utc_start))"
   ]
  },
  {
   "cell_type": "code",
   "execution_count": 51,
   "metadata": {
    "scrolled": true
   },
   "outputs": [
    {
     "name": "stdout",
     "output_type": "stream",
     "text": [
      "Train on 30240 samples, validate on 3360 samples\n",
      "Epoch 1/20\n",
      "30240/30240 [==============================] - 213s 7ms/sample - loss: 0.3480 - acc: 0.8661 - val_loss: 0.4441 - val_acc: 0.8217\n",
      "Epoch 2/20\n",
      "30240/30240 [==============================] - 204s 7ms/sample - loss: 0.2755 - acc: 0.8939 - val_loss: 41.8634 - val_acc: 0.6872\n",
      "Epoch 3/20\n",
      "30240/30240 [==============================] - 205s 7ms/sample - loss: 0.2487 - acc: 0.9161 - val_loss: 0.7778 - val_acc: 0.7387\n",
      "Epoch 4/20\n",
      "30240/30240 [==============================] - 204s 7ms/sample - loss: 0.1395 - acc: 0.9502 - val_loss: 2.3746 - val_acc: 0.4530\n",
      "Epoch 5/20\n",
      "30240/30240 [==============================] - 205s 7ms/sample - loss: 0.1305 - acc: 0.9520 - val_loss: 0.7970 - val_acc: 0.7830\n",
      "Epoch 6/20\n",
      "30240/30240 [==============================] - 204s 7ms/sample - loss: 0.1727 - acc: 0.9341 - val_loss: 2.3188 - val_acc: 0.4789\n",
      "Epoch 7/20\n",
      "30240/30240 [==============================] - 204s 7ms/sample - loss: 0.2135 - acc: 0.9205 - val_loss: 3.1825 - val_acc: 0.4110\n",
      "Epoch 8/20\n",
      "30240/30240 [==============================] - 204s 7ms/sample - loss: 0.1720 - acc: 0.9385 - val_loss: 1.4481 - val_acc: 0.6220\n",
      "Epoch 9/20\n",
      "30240/30240 [==============================] - 204s 7ms/sample - loss: 0.2509 - acc: 0.9023 - val_loss: 2.1173 - val_acc: 0.6637\n",
      "Epoch 10/20\n",
      "30240/30240 [==============================] - 204s 7ms/sample - loss: 0.1299 - acc: 0.9514 - val_loss: 1.1640 - val_acc: 0.7214\n",
      "Epoch 11/20\n",
      "30240/30240 [==============================] - 204s 7ms/sample - loss: 0.1490 - acc: 0.9435 - val_loss: 1.1056 - val_acc: 0.6286\n",
      "Epoch 12/20\n",
      "30240/30240 [==============================] - 204s 7ms/sample - loss: 0.1150 - acc: 0.9589 - val_loss: 2.2364 - val_acc: 0.5500\n",
      "Epoch 13/20\n",
      "30240/30240 [==============================] - 204s 7ms/sample - loss: 0.0975 - acc: 0.9656 - val_loss: 0.9082 - val_acc: 0.7625\n",
      "Epoch 14/20\n",
      "30240/30240 [==============================] - 204s 7ms/sample - loss: 0.0794 - acc: 0.9704 - val_loss: 1.5665 - val_acc: 0.6696\n",
      "Epoch 15/20\n",
      "30240/30240 [==============================] - 204s 7ms/sample - loss: 0.2618 - acc: 0.9029 - val_loss: 0.8587 - val_acc: 0.7363\n",
      "Epoch 16/20\n",
      "30240/30240 [==============================] - 204s 7ms/sample - loss: 0.0640 - acc: 0.9771 - val_loss: 0.9341 - val_acc: 0.7824\n",
      "Epoch 17/20\n",
      "30240/30240 [==============================] - 205s 7ms/sample - loss: 0.0272 - acc: 0.9906 - val_loss: 1.1160 - val_acc: 0.7699\n",
      "Epoch 18/20\n",
      "30240/30240 [==============================] - 204s 7ms/sample - loss: 0.0189 - acc: 0.9937 - val_loss: 1.2052 - val_acc: 0.7863\n",
      "Epoch 19/20\n",
      "30240/30240 [==============================] - 204s 7ms/sample - loss: 0.0186 - acc: 0.9934 - val_loss: 1.2772 - val_acc: 0.7810\n",
      "Epoch 20/20\n",
      "30240/30240 [==============================] - 204s 7ms/sample - loss: 0.0326 - acc: 0.9892 - val_loss: 1.0567 - val_acc: 0.7810\n"
     ]
    }
   ],
   "source": [
    "### Start Training\n",
    "history_4 = model_4.fit(\n",
    "    x = x_train, \n",
    "    y = y_train, \n",
    "    batch_size = batch_size,\n",
    "    shuffle=True,\n",
    "    epochs = epochs,\n",
    "    validation_split=0.1\n",
    ")"
   ]
  },
  {
   "cell_type": "code",
   "execution_count": 52,
   "metadata": {
    "scrolled": true
   },
   "outputs": [
    {
     "name": "stdout",
     "output_type": "stream",
     "text": [
      "Finish Training Time 2020-05-28 15:23:13.266460+08:00\n"
     ]
    },
    {
     "data": {
      "text/plain": [
       "(68, 28)"
      ]
     },
     "execution_count": 52,
     "metadata": {},
     "output_type": "execute_result"
    }
   ],
   "source": [
    "# Print Finish Training time\n",
    "tpe = pytz.timezone('Asia/Taipei')\n",
    "utc_finish = datetime.now()\n",
    "print(\"Finish Training Time\", tpe.fromutc(utc_finish))\n",
    "\n",
    "difference = utc_finish-utc_start\n",
    "seconds_in_day = 24 * 60 * 60\n",
    "divmod(difference.days * seconds_in_day + difference.seconds, 60)"
   ]
  },
  {
   "cell_type": "code",
   "execution_count": 53,
   "metadata": {
    "scrolled": true
   },
   "outputs": [
    {
     "data": {
      "image/png": "[encoded data removed]",
      "text/plain": [
       "<Figure size 576x360 with 1 Axes>"
      ]
     },
     "metadata": {},
     "output_type": "display_data"
    }
   ],
   "source": [
    "plot_learning_curves(history_4)"
   ]
  },
  {
   "cell_type": "code",
   "execution_count": 54,
   "metadata": {
    "scrolled": true
   },
   "outputs": [],
   "source": [
    "# 測試集標籤預測\n",
    "y_pred = model_4.predict(x_test)"
   ]
  },
  {
   "cell_type": "code",
   "execution_count": 55,
   "metadata": {
    "scrolled": true
   },
   "outputs": [
    {
     "name": "stdout",
     "output_type": "stream",
     "text": [
      "[1 1 1 2 1 1 1 1 1 1 1 1 1 1 1 1 1 1 1 1 0 1 2 1 1 1 1 1 1 1 1 1 1 1 1 1 1\n",
      " 1 0 1 1 1 0 1 1 1 1 0 1 1 1 1 1 1 1 1 1 1 1 1 0 1 1 0 1 1 1 1 0 1 1 1 1 1\n",
      " 1 1 1 1 2 1 1 1 1 1 1 1 2 1 1 1 1 1 1 1 1 1 2 1 1 1 1 1 1 1 1 2 1 1 1 1 1\n",
      " 1 1 1 1 1 1 1 2 1 1 1 1 1 1 1 1 1 2 1 1 1 1 1 0 1 1 1 1 1 1 1 1 1 1 1 1 1\n",
      " 1 1 1 1 1 2 0 1 1 1 2 1 1 1 1 1 1 1 1 2 1 1 1 1 1 1 1 1 1 1 1 1 1 1 1 1 1\n",
      " 1 1 1 1 2 1 1 1 1 1 0 0 1 1 2 1 1 1 1 1 1 0 0 1 1 1 1 0 1 1 2 1 1 1 1 1 1\n",
      " 1 1 1 1 1 1 1 1 1 1 1 1 1 1 2 1 1 1 1 1 1 1 1 0 1 1 1 1 1 1 1 1 1 1 1 1 1\n",
      " 2 1 1 1 1 1 1 1 1 1 1 1 1 1 1 1 1 1 1 2 1 1 1 1 2 1 0 1 1 1 1 1 1 1 1 1 1\n",
      " 1 1 1 1 2 1 1 1 1 1 1 1 1 1 1 1 2 1 1 1 1 1 2 1 1 1 2 1 1 1 1 2 0 1 1 1 1\n",
      " 1 1 1 1 2 1 2 1 1 1 1 0 1 1 1 1 2 1 0 1 1 1 1 1 1 1 0 0 1 1 1 1 1 1 1 1 1\n",
      " 2 1 1 1 1 1 1 1 1 1 1 1 1 1 0 1 1 1 1 1 1 1 1 1 2 1 1 1 0 2 1 1 1 1 1 1 0\n",
      " 1 1 1 1 1 1 1 1 1 1 1 1 1 1 1 0 1 0 1 1 1 1 1 1 1 1 1 1 1 1 1 1 1 1 1 1 1\n",
      " 1 1 1 1 1 2 1 2 2 1 1 1 1 1 1 1 1 1 2 0 1 1 0 1 1 1 1 2 2 1 1 1 1 1 1 1 1\n",
      " 1 1 1 1 1 1 1 0 1 1 1 1 1 1 1 1 1 1 1 2 1 1 1 1 0 1 1 1 1 1 2 1 1 1 1 1 1\n",
      " 1 1 1 1 1 1 1 1 0 2 1 1 1 2 1 2 1 1 1 2 1 1 1 1 1 1 1 1 1 1 1 1 1 1 1 1 1\n",
      " 1 1 0 1 1 1 1 1 0 1 1 1 1 1 1 1 1 0 1 1 1 0 1 1 1 2 1 1 1 1 1 1 2 1 1 1 2\n",
      " 0 1 1 1 1 1 1 1 1 1 1 1 1 1 1 1 2 1 2 1 1 1 1 1 1 1 1 2 1 1 1 1 1 1 1 0 1\n",
      " 1 1 1 1 1 1 1 1 0 1 1 1 0 0 1 1 0 1 1 1 1 1 1 1 1 1 1 1 1 1 1 1 1 1 1 1 1\n",
      " 1 1 1 1 2 1 2 1 1 1 2 1 1 1 1 1 2 1 2 1 1 1 1 1 1 1 1 0 1 1 1 2 1 1 1 1 2\n",
      " 0 1 1 1 1 1 1 1 1 1 1 1 1 1 1 1 1 1 1 1 1 1 1 1 1 1 1 1 1 1 1 1 1 1 1 1 1\n",
      " 1 1 1 2 1 1 1 1 1 1 1 1 1 1 1 1 1 2 1 1 1 1 1 1 1 1 1 1 1 1 1 1 1 1 1 1 1\n",
      " 1 1 2 1 1 1 1 1 1 2 1 1 1 2 1 1 1 1 1 1 1 0 1]\n"
     ]
    }
   ],
   "source": [
    "# 模型預測後的標籤\n",
    "predict_label = np.argmax(y_pred,axis=1)\n",
    "print(predict_label)\n",
    "# print(len(predict_label))"
   ]
  },
  {
   "cell_type": "code",
   "execution_count": 56,
   "metadata": {
    "scrolled": true
   },
   "outputs": [
    {
     "data": {
      "text/html": [
       "<div>\n",
       "<style scoped>\n",
       "    .dataframe tbody tr th:only-of-type {\n",
       "        vertical-align: middle;\n",
       "    }\n",
       "\n",
       "    .dataframe tbody tr th {\n",
       "        vertical-align: top;\n",
       "    }\n",
       "\n",
       "    .dataframe thead th {\n",
       "        text-align: right;\n",
       "    }\n",
       "</style>\n",
       "<table border=\"1\" class=\"dataframe\">\n",
       "  <thead>\n",
       "    <tr style=\"text-align: right;\">\n",
       "      <th>預測值</th>\n",
       "      <th>0</th>\n",
       "      <th>1</th>\n",
       "      <th>2</th>\n",
       "    </tr>\n",
       "    <tr>\n",
       "      <th>實際值</th>\n",
       "      <th></th>\n",
       "      <th></th>\n",
       "      <th></th>\n",
       "    </tr>\n",
       "  </thead>\n",
       "  <tbody>\n",
       "    <tr>\n",
       "      <th>0</th>\n",
       "      <td>24</td>\n",
       "      <td>213</td>\n",
       "      <td>6</td>\n",
       "    </tr>\n",
       "    <tr>\n",
       "      <th>1</th>\n",
       "      <td>17</td>\n",
       "      <td>258</td>\n",
       "      <td>18</td>\n",
       "    </tr>\n",
       "    <tr>\n",
       "      <th>2</th>\n",
       "      <td>3</td>\n",
       "      <td>226</td>\n",
       "      <td>35</td>\n",
       "    </tr>\n",
       "  </tbody>\n",
       "</table>\n",
       "</div>"
      ],
      "text/plain": [
       "預測值   0    1   2\n",
       "實際值             \n",
       "0    24  213   6\n",
       "1    17  258  18\n",
       "2     3  226  35"
      ]
     },
     "execution_count": 56,
     "metadata": {},
     "output_type": "execute_result"
    }
   ],
   "source": [
    "pd.crosstab(true_label,predict_label,rownames=['實際值'],colnames=['預測值'])"
   ]
  },
  {
   "cell_type": "code",
   "execution_count": 57,
   "metadata": {
    "scrolled": true
   },
   "outputs": [
    {
     "name": "stdout",
     "output_type": "stream",
     "text": [
      "正确率为:39.62%\n"
     ]
    }
   ],
   "source": [
    "# 整體準確度\n",
    "count = 0\n",
    "for i in range(len(y_pred)):\n",
    "    if(np.argmax(y_pred[i]) == np.argmax(y_test[i])): #argmax函数找到最大值的索引，即为其类别\n",
    "        count += 1\n",
    "score = count/len(y_pred)\n",
    "print('正确率为:%.2f%s' % (score*100,'%'))"
   ]
  }
 ],
 "metadata": {
  "kernelspec": {
   "display_name": "conda_tensorflow_p36",
   "language": "python",
   "name": "conda_tensorflow_p36"
  },
  "language_info": {
   "codemirror_mode": {
    "name": "ipython",
    "version": 3
   },
   "file_extension": ".py",
   "mimetype": "text/x-python",
   "name": "python",
   "nbconvert_exporter": "python",
   "pygments_lexer": "ipython3",
   "version": "3.6.6"
  }
 },
 "nbformat": 4,
 "nbformat_minor": 4
}
