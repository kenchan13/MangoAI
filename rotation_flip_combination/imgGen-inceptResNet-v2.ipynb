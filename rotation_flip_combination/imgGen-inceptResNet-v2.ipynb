{
 "cells": [
  {
   "cell_type": "code",
   "execution_count": 1,
   "metadata": {},
   "outputs": [],
   "source": [
    "# 設定超參數HyperParameters \n",
    "batch_size =  64\n",
    "epochs = 7\n",
    "image_size = 128\n",
    "lr=0.01"
   ]
  },
  {
   "cell_type": "markdown",
   "metadata": {},
   "source": [
    "## 一、載入相關套件"
   ]
  },
  {
   "cell_type": "code",
   "execution_count": 2,
   "metadata": {},
   "outputs": [],
   "source": [
    "import os\n",
    "import cv2\n",
    "import csv\n",
    "import random\n",
    "import time\n",
    "import numpy as np\n",
    "import pandas as pd\n",
    "import matplotlib.image as mpimg # mpimg 用於讀取圖片\n",
    "import matplotlib.pyplot as plt # plt 用於顯示圖片\n",
    "import seaborn as sns"
   ]
  },
  {
   "cell_type": "code",
   "execution_count": 3,
   "metadata": {},
   "outputs": [
    {
     "name": "stdout",
     "output_type": "stream",
     "text": [
      "WARNING:tensorflow:From /home/ec2-user/anaconda3/envs/tensorflow_p36/lib/python3.6/site-packages/tensorflow_core/__init__.py:1467: The name tf.estimator.inputs is deprecated. Please use tf.compat.v1.estimator.inputs instead.\n",
      "\n"
     ]
    }
   ],
   "source": [
    "import tensorflow as tf\n",
    "\n",
    "from tensorflow.keras.applications import InceptionResNetV2\n",
    "from tensorflow.keras.preprocessing import image\n",
    "from tensorflow.keras.applications.inception_resnet_v2 import preprocess_input\n",
    "from tensorflow.keras import Model\n",
    "from tensorflow.keras.preprocessing.image import ImageDataGenerator, array_to_img, img_to_array, load_img\n",
    "from tensorflow.keras.utils import to_categorical\n",
    "from tensorflow.keras import utils as np_utils\n",
    "from tensorflow import keras\n",
    "from tensorflow.keras import optimizers\n",
    "from tensorflow.keras.layers import Input, Dropout, Flatten, Convolution2D, MaxPooling2D, ZeroPadding2D, Dense, Activation, Conv2DTranspose"
   ]
  },
  {
   "cell_type": "code",
   "execution_count": 4,
   "metadata": {},
   "outputs": [
    {
     "name": "stdout",
     "output_type": "stream",
     "text": [
      "1 Physical GPUs, 1 Logical GPUs\n"
     ]
    }
   ],
   "source": [
    "gpus = tf.config.experimental.list_physical_devices('GPU')\n",
    "if gpus:\n",
    "    try:\n",
    "        # Currently, memory growth needs to be the same across GPUs\n",
    "        for gpu in gpus:\n",
    "            tf.config.experimental.set_memory_growth(gpu, True)\n",
    "        tf.config.experimental.set_visible_devices(gpus[0], 'GPU')\n",
    "        logical_gpus = tf.config.experimental.list_logical_devices('GPU')\n",
    "        print(len(gpus), \"Physical GPUs,\", len(logical_gpus), \"Logical GPUs\")\n",
    "    except RuntimeError as e:\n",
    "        # Memory growth must be set before GPUs have been initialized\n",
    "        print(e)"
   ]
  },
  {
   "cell_type": "code",
   "execution_count": 5,
   "metadata": {},
   "outputs": [
    {
     "name": "stdout",
     "output_type": "stream",
     "text": [
      "Start Time 2020-05-29 17:25:30.215153+08:00\n"
     ]
    }
   ],
   "source": [
    "# Print Start time\n",
    "from datetime import datetime, timezone\n",
    "import pytz\n",
    "\n",
    "tpe = pytz.timezone('Asia/Taipei')\n",
    "utc_start = datetime.now()\n",
    "print(\"Start Time\", tpe.fromutc(utc_start))"
   ]
  },
  {
   "cell_type": "markdown",
   "metadata": {},
   "source": [
    "## 建立Model"
   ]
  },
  {
   "cell_type": "code",
   "execution_count": 6,
   "metadata": {},
   "outputs": [
    {
     "name": "stdout",
     "output_type": "stream",
     "text": [
      "WARNING:tensorflow:From /home/ec2-user/anaconda3/envs/tensorflow_p36/lib/python3.6/site-packages/tensorflow_core/python/ops/resource_variable_ops.py:1630: calling BaseResourceVariable.__init__ (from tensorflow.python.ops.resource_variable_ops) with constraint is deprecated and will be removed in a future version.\n",
      "Instructions for updating:\n",
      "If using Keras pass *_constraint arguments to layers.\n"
     ]
    }
   ],
   "source": [
    "model_resnet = InceptionResNetV2(weights='imagenet', include_top=False)\n",
    "\n",
    "input = Input( shape=(image_size,image_size,3),name = 'image_input' )\n",
    "output_conv = model_resnet(input)"
   ]
  },
  {
   "cell_type": "code",
   "execution_count": 7,
   "metadata": {},
   "outputs": [],
   "source": [
    "## 由於該問題是分 3 類，需要在最後修改 Dense(3)，softmax 代表 output 是機率  \n",
    "#Add the fully-connected layers \n",
    "p = Flatten()(output_conv)\n",
    "p = Dense(256,activation = 'relu')(p)\n",
    "p = Dropout(0.2)(p)\n",
    "p = Dense(3, activation='softmax', name='predictions')(p)\n",
    "\n",
    "model = Model(inputs=input, outputs=p)\n",
    "\n",
    "model_2 = Model(inputs=input, outputs=p)\n",
    "model_3 = Model(inputs=input, outputs=p)\n",
    "model_4 = Model(inputs=input, outputs=p)"
   ]
  },
  {
   "cell_type": "code",
   "execution_count": 8,
   "metadata": {},
   "outputs": [],
   "source": [
    "adam = optimizers.Adam(lr=lr)\n",
    "model.compile(optimizer='adam',\n",
    "              loss=tf.keras.losses.CategoricalCrossentropy(),\n",
    "              metrics=['acc'])\n",
    "\n",
    "\n",
    "model_2.compile(optimizer='adam',\n",
    "              loss=tf.keras.losses.CategoricalCrossentropy(),\n",
    "              metrics=['acc'])\n",
    "\n",
    "model_3.compile(optimizer='adam',\n",
    "              loss=tf.keras.losses.CategoricalCrossentropy(),\n",
    "              metrics=['acc'])\n",
    "\n",
    "model_4.compile(optimizer='adam',\n",
    "              loss=tf.keras.losses.CategoricalCrossentropy(),\n",
    "              metrics=['acc'])"
   ]
  },
  {
   "cell_type": "markdown",
   "metadata": {},
   "source": [
    "## 製作標籤&資料集"
   ]
  },
  {
   "cell_type": "code",
   "execution_count": 9,
   "metadata": {},
   "outputs": [],
   "source": [
    "from imgGen import imgGenFunc"
   ]
  },
  {
   "cell_type": "code",
   "execution_count": 11,
   "metadata": {},
   "outputs": [
    {
     "name": "stdout",
     "output_type": "stream",
     "text": [
      "芒果圖片數量:  800\n",
      "x_l:  800\n",
      "y_l:  800\n"
     ]
    }
   ],
   "source": [
    "# Read testing data\n",
    "x_test, y_test = imgGenFunc(image_size, flip, rotate, \"dev.csv\", \"C1-P1_Dev/\")"
   ]
  },
  {
   "cell_type": "markdown",
   "metadata": {},
   "source": [
    "## 訓練\n",
    "## Test 1"
   ]
  },
  {
   "cell_type": "code",
   "execution_count": 10,
   "metadata": {},
   "outputs": [
    {
     "name": "stdout",
     "output_type": "stream",
     "text": [
      "芒果圖片數量:  5600\n",
      "x_l:  5600\n",
      "y_l:  5600\n"
     ]
    }
   ],
   "source": [
    "flip = 0; rotate = 0\n",
    "# Read training data\n",
    "x_train, y_train = imgGenFunc(image_size, flip, rotate, \"train.csv\", \"C1-P1_Train/\")"
   ]
  },
  {
   "cell_type": "code",
   "execution_count": 12,
   "metadata": {},
   "outputs": [],
   "source": [
    "# Model檔名設定\n",
    "file_name = str(epochs)+'_'+str(batch_size)"
   ]
  },
  {
   "cell_type": "code",
   "execution_count": 13,
   "metadata": {},
   "outputs": [],
   "source": [
    "# 加入EarlyStopping以及Tensorboard等回調函數\n",
    "CB = tf.keras.callbacks.EarlyStopping(monitor='val_loss', patience=10)\n",
    "TB = keras.callbacks.TensorBoard(log_dir='./log'+\"_\"+file_name, histogram_freq=1)"
   ]
  },
  {
   "cell_type": "code",
   "execution_count": 14,
   "metadata": {},
   "outputs": [],
   "source": [
    "datagen = ImageDataGenerator(\n",
    "    zca_whitening=False,\n",
    "    rotation_range=40,\n",
    "    width_shift_range=0.2,\n",
    "    height_shift_range=0.2,\n",
    "    shear_range=0.2,\n",
    "    zoom_range=0.2,\n",
    "    horizontal_flip=True,\n",
    "    vertical_flip=True,\n",
    "    fill_mode='nearest')"
   ]
  },
  {
   "cell_type": "code",
   "execution_count": 15,
   "metadata": {},
   "outputs": [],
   "source": [
    "datagen.fit(x_train)"
   ]
  },
  {
   "cell_type": "code",
   "execution_count": 16,
   "metadata": {
    "scrolled": true
   },
   "outputs": [
    {
     "name": "stdout",
     "output_type": "stream",
     "text": [
      "Epoch 1/7\n",
      "87/88 [============================>.] - ETA: 1s - loss: 0.8891 - acc: 0.6409Epoch 1/7\n",
      "800/88 [================================================================================================================================================================================================================================================================================] - 11s 14ms/sample - loss: 18.7149 - acc: 0.4500\n",
      "88/88 [==============================] - 165s 2s/step - loss: 0.8864 - acc: 0.6421 - val_loss: 17.7122 - val_acc: 0.4500\n",
      "Epoch 2/7\n",
      "87/88 [============================>.] - ETA: 0s - loss: 0.6556 - acc: 0.7206Epoch 1/7\n",
      "800/88 [================================================================================================================================================================================================================================================================================] - 3s 4ms/sample - loss: 0.5746 - acc: 0.7487\n",
      "88/88 [==============================] - 90s 1s/step - loss: 0.6546 - acc: 0.7204 - val_loss: 0.5641 - val_acc: 0.7487\n",
      "Epoch 3/7\n",
      "87/88 [============================>.] - ETA: 0s - loss: 0.6137 - acc: 0.7309Epoch 1/7\n",
      "800/88 [================================================================================================================================================================================================================================================================================] - 3s 4ms/sample - loss: 1.0592 - acc: 0.3850\n",
      "88/88 [==============================] - 91s 1s/step - loss: 0.6137 - acc: 0.7311 - val_loss: 1.0742 - val_acc: 0.3850\n",
      "Epoch 4/7\n",
      "87/88 [============================>.] - ETA: 0s - loss: 0.6069 - acc: 0.7318Epoch 1/7\n",
      "800/88 [================================================================================================================================================================================================================================================================================] - 3s 4ms/sample - loss: 0.7036 - acc: 0.7300\n",
      "88/88 [==============================] - 91s 1s/step - loss: 0.6058 - acc: 0.7320 - val_loss: 0.6528 - val_acc: 0.7300\n",
      "Epoch 5/7\n",
      "87/88 [============================>.] - ETA: 0s - loss: 0.5748 - acc: 0.7513Epoch 1/7\n",
      "800/88 [================================================================================================================================================================================================================================================================================] - 3s 4ms/sample - loss: 0.7464 - acc: 0.6712\n",
      "88/88 [==============================] - 91s 1s/step - loss: 0.5756 - acc: 0.7504 - val_loss: 0.8080 - val_acc: 0.6712\n",
      "Epoch 6/7\n",
      "87/88 [============================>.] - ETA: 0s - loss: 0.5778 - acc: 0.7520Epoch 1/7\n",
      "800/88 [================================================================================================================================================================================================================================================================================] - 3s 4ms/sample - loss: 0.8792 - acc: 0.6475\n",
      "88/88 [==============================] - 90s 1s/step - loss: 0.5775 - acc: 0.7516 - val_loss: 0.7489 - val_acc: 0.6475\n",
      "Epoch 7/7\n",
      "87/88 [============================>.] - ETA: 0s - loss: 0.5809 - acc: 0.7467Epoch 1/7\n",
      "800/88 [================================================================================================================================================================================================================================================================================] - 3s 4ms/sample - loss: 61.3245 - acc: 0.4625\n",
      "88/88 [==============================] - 91s 1s/step - loss: 0.5794 - acc: 0.7482 - val_loss: 77.6019 - val_acc: 0.4625\n"
     ]
    }
   ],
   "source": [
    "### Start Training\n",
    "history_1 = model.fit(\n",
    "    datagen.flow(x_train , y_train, batch_size=batch_size),\n",
    "    epochs = epochs,\n",
    "    validation_data = (x_test, y_test)\n",
    ")"
   ]
  },
  {
   "cell_type": "code",
   "execution_count": 17,
   "metadata": {},
   "outputs": [
    {
     "name": "stdout",
     "output_type": "stream",
     "text": [
      "Finish Training Time 2020-05-29 17:39:16.256406+08:00\n"
     ]
    },
    {
     "data": {
      "text/plain": [
       "(13, 46)"
      ]
     },
     "execution_count": 17,
     "metadata": {},
     "output_type": "execute_result"
    }
   ],
   "source": [
    "# Print Finish Training time\n",
    "tpe = pytz.timezone('Asia/Taipei')\n",
    "utc_finish = datetime.now()\n",
    "print(\"Finish Training Time\", tpe.fromutc(utc_finish))\n",
    "\n",
    "difference = utc_finish-utc_start\n",
    "seconds_in_day = 24 * 60 * 60\n",
    "divmod(difference.days * seconds_in_day + difference.seconds, 60)"
   ]
  },
  {
   "cell_type": "markdown",
   "metadata": {},
   "source": [
    "## 繪製Model學習成效"
   ]
  },
  {
   "cell_type": "code",
   "execution_count": 18,
   "metadata": {},
   "outputs": [
    {
     "data": {
      "image/png": "[encoded data removed]",
      "text/plain": [
       "<Figure size 576x360 with 1 Axes>"
      ]
     },
     "metadata": {},
     "output_type": "display_data"
    }
   ],
   "source": [
    "def plot_learning_curves(history):\n",
    "    pd.DataFrame(history.history).plot(figsize=(8,5))\n",
    "    plt.grid(True)\n",
    "    plt.gca().set_ylim(0,2)\n",
    "    plt.show()\n",
    "    \n",
    "plot_learning_curves(history_1)"
   ]
  },
  {
   "cell_type": "markdown",
   "metadata": {},
   "source": [
    "## 測試集預測準確度"
   ]
  },
  {
   "cell_type": "code",
   "execution_count": 19,
   "metadata": {},
   "outputs": [],
   "source": [
    "# 測試集標籤預測\n",
    "y_pred = model.predict(x_test)"
   ]
  },
  {
   "cell_type": "code",
   "execution_count": 20,
   "metadata": {},
   "outputs": [
    {
     "name": "stdout",
     "output_type": "stream",
     "text": [
      "[2 0 2 0 0 1 2 0 0 0 2 2 2 2 2 2 0 2 2 2 0 2 2 2 0 1 1 2 2 2 2 2 2 2 0 0 2\n",
      " 2 0 2 2 2 2 0 2 0 2 0 2 2 2 0 2 1 2 0 2 0 1 2 2 0 0 2 0 2 2 2 2 2 2 2 0 0\n",
      " 2 2 2 2 2 2 2 2 2 2 2 1 1 2 0 0 2 2 2 0 2 0 2 0 2 2 2 2 0 2 2 2 2 2 2 2 0\n",
      " 1 2 2 2 2 2 2 2 2 1 2 0 2 2 2 2 1 0 2 0 0 2 2 2 2 2 0 0 0 0 2 2 2 0 1 2 1\n",
      " 2 2 2 2 2 2 2 2 2 2 2 2 2 2 0 2 1 0 2 2 0 2 0 2 2 2 2 1 2 2 0 2 2 2 2 2 2\n",
      " 0 0 2 0 2 2 2 2 0 0 2 2 1 2 0 2 2 2 0 2 1 2 2 2 1 0 2 0 2 2 2 2 2 2 1 2 0\n",
      " 2 0 2 1 0 2 2 0 2 2 2 2 2 2 0 2 0 2 0 2 0 0 2 2 1 2 2 2 2 2 2 2 2 2 0 2 0\n",
      " 2 2 2 2 0 2 2 2 0 1 0 2 1 2 2 0 2 2 2 2 2 2 0 0 2 1 2 2 0 2 0 2 0 1 2 2 2\n",
      " 2 0 0 2 2 2 2 0 2 2 2 2 2 0 0 2 0 0 2 2 1 1 2 2 2 2 2 2 2 2 1 2 2 1 2 2 2\n",
      " 2 1 2 1 2 2 1 2 2 2 2 2 2 2 2 1 2 2 2 2 0 2 0 2 0 2 2 2 2 2 2 2 2 2 2 2 0\n",
      " 2 2 2 2 2 0 2 2 2 2 2 2 2 2 2 2 2 2 2 0 2 2 0 2 2 2 0 0 2 2 2 2 2 2 2 2 2\n",
      " 2 2 2 2 2 0 2 2 2 2 2 0 2 2 2 2 1 2 2 2 2 0 2 2 2 2 2 2 1 1 2 2 2 2 2 2 2\n",
      " 2 2 2 2 0 2 2 0 2 2 2 2 2 0 2 1 2 2 2 2 2 2 0 0 2 2 2 2 2 1 2 1 2 1 2 2 2\n",
      " 0 2 1 2 2 2 2 0 2 2 1 2 0 2 2 2 2 2 2 2 2 0 2 2 2 2 2 2 0 2 2 2 2 2 2 2 2\n",
      " 2 0 2 2 2 2 2 2 2 2 2 2 0 2 2 2 0 2 1 2 1 0 0 2 2 2 2 2 1 2 2 0 2 0 1 2 2\n",
      " 2 2 1 2 2 0 2 2 2 2 0 2 1 0 2 2 2 0 2 2 1 2 2 0 2 2 0 2 2 0 1 2 2 2 1 1 2\n",
      " 2 2 2 2 2 2 0 1 0 1 0 2 2 2 2 2 2 0 2 0 2 2 2 2 0 0 0 2 2 2 2 2 1 1 2 2 2\n",
      " 2 1 2 2 0 2 2 0 0 2 2 2 2 2 0 2 2 2 2 2 2 2 2 0 2 2 0 2 1 0 2 0 2 2 2 2 2\n",
      " 2 2 2 2 0 2 2 0 2 2 0 2 0 2 0 2 2 2 1 0 2 2 2 2 0 2 0 2 2 1 2 0 2 2 1 2 2\n",
      " 0 1 0 2 2 2 2 2 0 2 2 2 0 0 2 1 2 2 2 2 2 2 2 2 2 0 2 2 2 0 2 2 2 1 2 2 0\n",
      " 2 2 2 2 2 2 2 2 2 2 2 1 1 2 2 0 2 2 2 0 2 2 2 2 2 1 2 2 2 0 2 2 2 2 2 0 2\n",
      " 0 2 0 0 2 2 0 2 2 2 2 2 0 0 2 2 0 2 2 2 2 2 2]\n"
     ]
    }
   ],
   "source": [
    "# 模型預測後的標籤\n",
    "predict_label = np.argmax(y_pred,axis=1)\n",
    "print(predict_label)"
   ]
  },
  {
   "cell_type": "code",
   "execution_count": 21,
   "metadata": {},
   "outputs": [
    {
     "name": "stdout",
     "output_type": "stream",
     "text": [
      "[2 0 0 1 0 2 2 0 2 2 2 1 0 0 2 0 0 1 0 1 0 0 2 1 1 1 1 2 1 2 0 0 2 2 0 0 2\n",
      " 1 0 2 1 0 1 0 2 0 1 1 2 2 0 1 2 2 1 1 1 0 1 2 0 1 1 1 0 0 0 2 1 1 2 1 0 1\n",
      " 0 0 2 0 2 2 1 0 2 0 1 1 1 1 0 1 1 2 0 0 1 0 1 0 1 2 2 2 1 1 0 2 2 0 1 1 0\n",
      " 1 2 0 1 2 2 0 2 2 1 1 0 1 2 2 2 1 1 1 0 1 1 1 1 1 0 1 0 0 0 1 2 0 0 2 1 1\n",
      " 0 1 1 2 0 2 2 1 2 2 2 0 2 1 1 0 1 1 2 2 0 2 0 0 0 0 2 2 0 1 0 2 2 2 2 0 2\n",
      " 0 1 1 0 0 2 2 2 1 0 1 2 1 0 0 1 2 0 1 0 2 1 2 0 1 0 1 2 2 1 2 2 2 2 1 2 0\n",
      " 1 2 0 1 0 2 2 0 0 1 1 0 2 0 0 2 1 2 0 0 0 0 2 2 1 1 0 0 1 1 1 1 0 1 0 2 1\n",
      " 0 2 2 2 1 0 1 2 1 1 0 2 2 2 1 1 1 1 1 2 1 0 0 1 2 1 1 0 0 0 2 1 0 1 0 1 2\n",
      " 1 0 1 0 0 1 2 0 2 0 1 2 2 2 1 2 2 1 2 2 0 1 2 0 1 2 2 2 0 2 1 0 1 1 1 2 1\n",
      " 1 1 2 0 1 1 1 2 1 0 1 1 1 1 1 2 1 1 1 2 0 2 1 2 0 1 1 1 2 0 2 1 0 1 0 1 0\n",
      " 1 0 1 1 2 0 0 1 0 1 2 1 1 2 2 1 2 0 1 0 1 0 0 1 2 1 0 0 0 2 1 0 2 1 2 0 2\n",
      " 1 1 2 1 1 0 0 0 2 0 2 0 2 1 2 0 0 0 1 2 1 0 0 2 1 2 2 0 2 1 0 1 1 1 0 2 2\n",
      " 2 2 2 1 0 2 0 0 1 1 2 0 1 2 0 1 2 1 1 0 2 2 0 0 1 2 2 1 0 1 2 0 2 1 1 1 2\n",
      " 1 0 0 1 2 1 2 0 2 0 1 2 0 1 2 1 2 2 1 1 1 0 2 0 0 0 2 1 1 2 1 1 1 0 1 2 1\n",
      " 2 0 2 2 2 2 1 0 1 2 2 1 1 1 2 0 0 0 2 2 2 0 1 2 1 1 0 1 2 1 2 1 0 1 1 1 2\n",
      " 2 2 1 0 0 1 0 0 0 0 1 2 2 1 2 1 1 0 1 2 1 2 2 0 1 2 0 2 2 1 1 0 2 2 1 1 2\n",
      " 2 1 1 0 2 2 0 2 0 1 0 0 1 1 2 0 2 0 0 1 1 1 1 1 0 1 1 1 2 1 1 0 1 1 2 0 1\n",
      " 0 0 1 1 1 0 0 0 2 1 1 2 0 1 0 2 2 2 2 2 2 0 2 1 0 0 2 0 2 2 0 1 1 2 1 0 1\n",
      " 2 0 2 2 0 0 2 0 2 1 2 2 0 2 2 2 1 2 1 0 1 2 2 2 0 0 0 1 2 1 1 2 1 2 2 1 2\n",
      " 0 1 0 2 2 1 0 2 1 2 2 2 0 2 0 2 0 2 0 2 0 2 0 1 2 1 2 1 2 0 0 0 1 1 0 1 0\n",
      " 1 0 1 1 2 1 2 1 2 1 2 2 1 0 1 1 1 1 0 0 2 1 1 2 1 1 2 0 2 1 0 2 1 2 1 0 0\n",
      " 0 2 2 0 1 2 0 1 2 2 2 1 0 0 2 0 0 1 0 1 0 0 1]\n"
     ]
    }
   ],
   "source": [
    "# 模型原標籤\n",
    "true_label = np.argmax(y_test,axis=1)\n",
    "print(true_label)"
   ]
  },
  {
   "cell_type": "code",
   "execution_count": 22,
   "metadata": {},
   "outputs": [
    {
     "data": {
      "text/html": [
       "<div>\n",
       "<style scoped>\n",
       "    .dataframe tbody tr th:only-of-type {\n",
       "        vertical-align: middle;\n",
       "    }\n",
       "\n",
       "    .dataframe tbody tr th {\n",
       "        vertical-align: top;\n",
       "    }\n",
       "\n",
       "    .dataframe thead th {\n",
       "        text-align: right;\n",
       "    }\n",
       "</style>\n",
       "<table border=\"1\" class=\"dataframe\">\n",
       "  <thead>\n",
       "    <tr style=\"text-align: right;\">\n",
       "      <th>預測值</th>\n",
       "      <th>0</th>\n",
       "      <th>1</th>\n",
       "      <th>2</th>\n",
       "    </tr>\n",
       "    <tr>\n",
       "      <th>實際值</th>\n",
       "      <th></th>\n",
       "      <th></th>\n",
       "      <th></th>\n",
       "    </tr>\n",
       "  </thead>\n",
       "  <tbody>\n",
       "    <tr>\n",
       "      <th>0</th>\n",
       "      <td>96</td>\n",
       "      <td>6</td>\n",
       "      <td>141</td>\n",
       "    </tr>\n",
       "    <tr>\n",
       "      <th>1</th>\n",
       "      <td>48</td>\n",
       "      <td>43</td>\n",
       "      <td>202</td>\n",
       "    </tr>\n",
       "    <tr>\n",
       "      <th>2</th>\n",
       "      <td>16</td>\n",
       "      <td>17</td>\n",
       "      <td>231</td>\n",
       "    </tr>\n",
       "  </tbody>\n",
       "</table>\n",
       "</div>"
      ],
      "text/plain": [
       "預測值   0   1    2\n",
       "實際值             \n",
       "0    96   6  141\n",
       "1    48  43  202\n",
       "2    16  17  231"
      ]
     },
     "execution_count": 22,
     "metadata": {},
     "output_type": "execute_result"
    }
   ],
   "source": [
    "pd.crosstab(true_label,predict_label,rownames=['實際值'],colnames=['預測值'])"
   ]
  },
  {
   "cell_type": "code",
   "execution_count": 23,
   "metadata": {},
   "outputs": [
    {
     "name": "stdout",
     "output_type": "stream",
     "text": [
      "正确率为:46.25%\n"
     ]
    }
   ],
   "source": [
    "# 整體準確度\n",
    "count = 0\n",
    "for i in range(len(y_pred)):\n",
    "    if(np.argmax(y_pred[i]) == np.argmax(y_test[i])): #argmax函数找到最大值的索引，即为其类别\n",
    "        count += 1\n",
    "score = count/len(y_pred)\n",
    "print('正确率为:%.2f%s' % (score*100,'%'))"
   ]
  },
  {
   "cell_type": "code",
   "execution_count": 24,
   "metadata": {},
   "outputs": [],
   "source": [
    "# 儲存模型相關參數\n",
    "# model.save('h5/'+file_name+'.h5')"
   ]
  },
  {
   "cell_type": "raw",
   "metadata": {},
   "source": [
    "### https://github.com/linsamtw/cifar10_vgg16_kaggle"
   ]
  },
  {
   "cell_type": "code",
   "execution_count": null,
   "metadata": {},
   "outputs": [],
   "source": []
  },
  {
   "cell_type": "markdown",
   "metadata": {},
   "source": [
    "## Test 2"
   ]
  },
  {
   "cell_type": "code",
   "execution_count": 25,
   "metadata": {},
   "outputs": [
    {
     "name": "stdout",
     "output_type": "stream",
     "text": [
      "芒果圖片數量:  5600\n",
      "x_l:  16800\n",
      "y_l:  16800\n"
     ]
    }
   ],
   "source": [
    "flip = 0; rotate = 1\n",
    "x_train, y_train = imgGenFunc(image_size, flip, rotate, \"train.csv\", \"C1-P1_Train/\")"
   ]
  },
  {
   "cell_type": "code",
   "execution_count": 26,
   "metadata": {},
   "outputs": [
    {
     "name": "stdout",
     "output_type": "stream",
     "text": [
      "Start Time 2020-05-29 17:40:44.609438+08:00\n"
     ]
    }
   ],
   "source": [
    "# Print Start time\n",
    "from datetime import datetime, timezone\n",
    "import pytz\n",
    "\n",
    "tpe = pytz.timezone('Asia/Taipei')\n",
    "utc_start = datetime.now()\n",
    "print(\"Start Time\", tpe.fromutc(utc_start))"
   ]
  },
  {
   "cell_type": "code",
   "execution_count": 27,
   "metadata": {},
   "outputs": [],
   "source": [
    "datagen.fit(x_train)"
   ]
  },
  {
   "cell_type": "code",
   "execution_count": 28,
   "metadata": {},
   "outputs": [
    {
     "name": "stdout",
     "output_type": "stream",
     "text": [
      "Epoch 1/7\n",
      "262/263 [============================>.] - ETA: 1s - loss: 0.5836 - acc: 0.7483Epoch 1/7\n",
      "800/263 [===========================================================================================] - 13s 16ms/sample - loss: 1933.1759 - acc: 0.6812\n",
      "263/263 [==============================] - 339s 1s/step - loss: 0.5837 - acc: 0.7482 - val_loss: 2827.4585 - val_acc: 0.6812\n",
      "Epoch 2/7\n",
      "262/263 [============================>.] - ETA: 1s - loss: 0.5411 - acc: 0.7618Epoch 1/7\n",
      "800/263 [===========================================================================================] - 3s 4ms/sample - loss: 0.5749 - acc: 0.7962\n",
      "263/263 [==============================] - 267s 1s/step - loss: 0.5409 - acc: 0.7618 - val_loss: 0.5101 - val_acc: 0.7962\n",
      "Epoch 3/7\n",
      "262/263 [============================>.] - ETA: 1s - loss: 0.5476 - acc: 0.7679Epoch 1/7\n",
      "800/263 [===========================================================================================] - 3s 4ms/sample - loss: 0.6008 - acc: 0.7613\n",
      "263/263 [==============================] - 267s 1s/step - loss: 0.5477 - acc: 0.7678 - val_loss: 0.5430 - val_acc: 0.7613\n",
      "Epoch 4/7\n",
      "262/263 [============================>.] - ETA: 0s - loss: 0.5528 - acc: 0.7588Epoch 1/7\n",
      "800/263 [===========================================================================================] - 3s 4ms/sample - loss: 1.0848 - acc: 0.4512\n",
      "263/263 [==============================] - 266s 1s/step - loss: 0.5539 - acc: 0.7581 - val_loss: 1.0534 - val_acc: 0.4512\n",
      "Epoch 5/7\n",
      "262/263 [============================>.] - ETA: 0s - loss: 0.6210 - acc: 0.7227Epoch 1/7\n",
      "800/263 [===========================================================================================] - 3s 4ms/sample - loss: 0.5718 - acc: 0.7675\n",
      "263/263 [==============================] - 264s 1s/step - loss: 0.6211 - acc: 0.7227 - val_loss: 0.5572 - val_acc: 0.7675\n",
      "Epoch 6/7\n",
      "262/263 [============================>.] - ETA: 0s - loss: 0.6841 - acc: 0.6946Epoch 1/7\n",
      "800/263 [===========================================================================================] - 3s 4ms/sample - loss: 0.6062 - acc: 0.7200\n",
      "263/263 [==============================] - 266s 1s/step - loss: 0.6837 - acc: 0.6948 - val_loss: 0.6404 - val_acc: 0.7200\n",
      "Epoch 7/7\n",
      "262/263 [============================>.] - ETA: 1s - loss: 0.6091 - acc: 0.7236Epoch 1/7\n",
      "800/263 [===========================================================================================] - 3s 4ms/sample - loss: 0.6082 - acc: 0.7312\n",
      "263/263 [==============================] - 268s 1s/step - loss: 0.6094 - acc: 0.7235 - val_loss: 0.5757 - val_acc: 0.7312\n"
     ]
    }
   ],
   "source": [
    "### Start Training\n",
    "history_2 = model_2.fit(\n",
    "    datagen.flow(x_train , y_train, batch_size=batch_size),\n",
    "    epochs = epochs,\n",
    "    validation_data = (x_test, y_test)\n",
    ")"
   ]
  },
  {
   "cell_type": "code",
   "execution_count": 29,
   "metadata": {},
   "outputs": [
    {
     "name": "stdout",
     "output_type": "stream",
     "text": [
      "Finish Training Time 2020-05-29 18:13:05.707038+08:00\n"
     ]
    },
    {
     "data": {
      "text/plain": [
       "(32, 21)"
      ]
     },
     "execution_count": 29,
     "metadata": {},
     "output_type": "execute_result"
    }
   ],
   "source": [
    "# Print Finish Training time\n",
    "tpe = pytz.timezone('Asia/Taipei')\n",
    "utc_finish = datetime.now()\n",
    "print(\"Finish Training Time\", tpe.fromutc(utc_finish))\n",
    "\n",
    "difference = utc_finish-utc_start\n",
    "seconds_in_day = 24 * 60 * 60\n",
    "divmod(difference.days * seconds_in_day + difference.seconds, 60)"
   ]
  },
  {
   "cell_type": "code",
   "execution_count": 30,
   "metadata": {},
   "outputs": [
    {
     "data": {
      "image/png": "[encoded data removed]",
      "text/plain": [
       "<Figure size 576x360 with 1 Axes>"
      ]
     },
     "metadata": {},
     "output_type": "display_data"
    }
   ],
   "source": [
    "plot_learning_curves(history_2)"
   ]
  },
  {
   "cell_type": "code",
   "execution_count": 31,
   "metadata": {},
   "outputs": [],
   "source": [
    "# 測試集標籤預測\n",
    "y_pred = model_2.predict(x_test)"
   ]
  },
  {
   "cell_type": "code",
   "execution_count": 32,
   "metadata": {},
   "outputs": [
    {
     "name": "stdout",
     "output_type": "stream",
     "text": [
      "[2 1 0 0 0 1 2 0 1 1 2 2 0 1 2 0 0 1 0 0 1 0 2 0 0 1 1 1 1 2 1 0 2 1 0 0 2\n",
      " 1 0 1 0 0 2 0 1 0 2 1 1 2 0 1 2 2 1 1 1 0 1 2 0 0 1 1 0 2 0 2 1 0 2 1 0 1\n",
      " 0 0 2 0 2 1 0 0 2 0 1 1 1 1 0 2 1 2 0 0 2 0 2 0 2 2 1 1 0 1 0 1 2 0 0 0 0\n",
      " 1 1 0 1 1 2 0 2 1 1 1 0 1 2 2 2 1 1 1 0 0 1 1 1 1 0 0 1 1 0 1 2 0 0 2 2 1\n",
      " 0 1 1 1 0 0 2 1 2 2 1 0 2 0 0 0 1 0 1 2 1 2 0 0 0 1 1 1 0 1 0 2 2 2 2 0 2\n",
      " 1 0 1 1 0 2 2 2 1 1 1 1 1 0 0 1 1 0 1 1 1 1 2 1 1 1 2 2 2 1 1 2 1 2 1 1 0\n",
      " 2 2 0 1 0 2 2 0 0 0 1 1 1 0 1 2 1 2 1 0 0 0 2 2 1 1 0 0 1 1 0 1 1 1 0 2 1\n",
      " 0 2 2 2 1 1 1 2 0 1 0 2 1 2 1 0 1 0 0 2 1 0 0 1 2 2 2 0 0 1 2 2 0 1 0 1 2\n",
      " 0 0 0 0 0 1 2 0 2 0 1 2 1 2 1 2 1 0 1 2 1 1 1 0 1 2 1 2 0 2 1 0 1 1 0 2 1\n",
      " 1 1 1 1 1 0 1 2 1 0 1 0 1 1 1 2 1 0 0 2 0 2 0 1 0 1 1 2 2 0 2 1 0 1 0 1 0\n",
      " 2 0 1 1 2 0 0 1 0 1 2 1 1 2 1 1 1 0 2 1 1 1 0 1 1 1 0 1 0 2 2 0 2 1 2 0 2\n",
      " 2 1 2 1 1 0 0 0 2 0 2 0 2 1 2 0 0 0 1 1 0 0 0 2 1 1 2 0 1 1 0 0 1 1 0 2 2\n",
      " 2 2 2 1 1 2 0 0 1 1 2 1 1 1 0 1 2 1 1 0 1 1 0 0 1 2 1 1 0 1 1 0 2 1 0 2 2\n",
      " 0 0 1 1 2 1 2 1 2 0 1 2 1 2 1 1 2 1 1 1 1 1 2 0 0 0 2 1 1 2 1 1 1 0 1 2 0\n",
      " 2 0 2 2 2 1 1 0 1 1 2 1 0 1 2 0 0 0 2 1 2 0 0 2 1 1 0 0 2 1 2 0 1 0 1 1 2\n",
      " 2 2 1 0 0 0 1 0 0 0 1 1 1 1 2 2 1 0 0 2 1 2 2 0 1 2 0 2 2 0 1 0 2 2 1 1 2\n",
      " 1 1 1 0 1 2 0 1 0 1 0 0 0 1 2 0 2 0 0 1 1 1 1 2 0 0 1 1 2 1 1 0 1 1 2 0 1\n",
      " 0 1 1 1 0 1 0 0 2 1 1 2 1 1 1 2 2 2 1 0 1 0 2 0 0 0 1 0 1 2 0 0 1 2 1 0 0\n",
      " 2 0 2 2 1 0 2 0 1 1 0 2 0 2 1 2 1 1 1 0 1 2 2 1 1 0 1 2 2 1 0 1 1 2 1 1 2\n",
      " 0 1 1 2 2 1 0 2 1 1 2 1 0 1 0 2 0 2 0 2 0 2 0 1 2 1 1 0 2 1 2 0 1 1 0 1 0\n",
      " 0 0 1 0 2 1 2 1 1 0 2 1 1 1 0 0 0 1 0 0 1 1 1 2 1 1 2 0 2 0 0 1 1 2 1 1 0\n",
      " 0 2 1 0 0 2 0 0 1 2 1 1 0 1 1 0 0 1 1 1 0 0 0]\n"
     ]
    }
   ],
   "source": [
    "# 模型預測後的標籤\n",
    "predict_label = np.argmax(y_pred,axis=1)\n",
    "print(predict_label)\n",
    "# print(len(predict_label))"
   ]
  },
  {
   "cell_type": "code",
   "execution_count": 33,
   "metadata": {},
   "outputs": [
    {
     "data": {
      "text/html": [
       "<div>\n",
       "<style scoped>\n",
       "    .dataframe tbody tr th:only-of-type {\n",
       "        vertical-align: middle;\n",
       "    }\n",
       "\n",
       "    .dataframe tbody tr th {\n",
       "        vertical-align: top;\n",
       "    }\n",
       "\n",
       "    .dataframe thead th {\n",
       "        text-align: right;\n",
       "    }\n",
       "</style>\n",
       "<table border=\"1\" class=\"dataframe\">\n",
       "  <thead>\n",
       "    <tr style=\"text-align: right;\">\n",
       "      <th>預測值</th>\n",
       "      <th>0</th>\n",
       "      <th>1</th>\n",
       "      <th>2</th>\n",
       "    </tr>\n",
       "    <tr>\n",
       "      <th>實際值</th>\n",
       "      <th></th>\n",
       "      <th></th>\n",
       "      <th></th>\n",
       "    </tr>\n",
       "  </thead>\n",
       "  <tbody>\n",
       "    <tr>\n",
       "      <th>0</th>\n",
       "      <td>195</td>\n",
       "      <td>46</td>\n",
       "      <td>2</td>\n",
       "    </tr>\n",
       "    <tr>\n",
       "      <th>1</th>\n",
       "      <td>63</td>\n",
       "      <td>207</td>\n",
       "      <td>23</td>\n",
       "    </tr>\n",
       "    <tr>\n",
       "      <th>2</th>\n",
       "      <td>3</td>\n",
       "      <td>78</td>\n",
       "      <td>183</td>\n",
       "    </tr>\n",
       "  </tbody>\n",
       "</table>\n",
       "</div>"
      ],
      "text/plain": [
       "預測值    0    1    2\n",
       "實際值               \n",
       "0    195   46    2\n",
       "1     63  207   23\n",
       "2      3   78  183"
      ]
     },
     "execution_count": 33,
     "metadata": {},
     "output_type": "execute_result"
    }
   ],
   "source": [
    "pd.crosstab(true_label,predict_label,rownames=['實際值'],colnames=['預測值'])"
   ]
  },
  {
   "cell_type": "code",
   "execution_count": 34,
   "metadata": {},
   "outputs": [
    {
     "name": "stdout",
     "output_type": "stream",
     "text": [
      "正确率为:73.12%\n"
     ]
    }
   ],
   "source": [
    "# 整體準確度\n",
    "count = 0\n",
    "for i in range(len(y_pred)):\n",
    "    if(np.argmax(y_pred[i]) == np.argmax(y_test[i])): #argmax函数找到最大值的索引，即为其类别\n",
    "        count += 1\n",
    "score = count/len(y_pred)\n",
    "print('正确率为:%.2f%s' % (score*100,'%'))"
   ]
  },
  {
   "cell_type": "markdown",
   "metadata": {},
   "source": [
    "## Test 3"
   ]
  },
  {
   "cell_type": "code",
   "execution_count": 35,
   "metadata": {},
   "outputs": [
    {
     "name": "stdout",
     "output_type": "stream",
     "text": [
      "芒果圖片數量:  5600\n",
      "x_l:  22400\n",
      "y_l:  22400\n"
     ]
    }
   ],
   "source": [
    "flip = 1; rotate = 0\n",
    "x_train, y_train = imgGenFunc(image_size, flip, rotate, \"train.csv\", \"C1-P1_Train/\")"
   ]
  },
  {
   "cell_type": "code",
   "execution_count": 36,
   "metadata": {},
   "outputs": [
    {
     "name": "stdout",
     "output_type": "stream",
     "text": [
      "Start Time 2020-05-29 18:14:36.570300+08:00\n"
     ]
    }
   ],
   "source": [
    "# Print Start time\n",
    "from datetime import datetime, timezone\n",
    "import pytz\n",
    "\n",
    "tpe = pytz.timezone('Asia/Taipei')\n",
    "utc_start = datetime.now()\n",
    "print(\"Start Time\", tpe.fromutc(utc_start))"
   ]
  },
  {
   "cell_type": "code",
   "execution_count": 37,
   "metadata": {},
   "outputs": [],
   "source": [
    "datagen.fit(x_train)"
   ]
  },
  {
   "cell_type": "code",
   "execution_count": 38,
   "metadata": {},
   "outputs": [
    {
     "name": "stdout",
     "output_type": "stream",
     "text": [
      "Epoch 1/7\n",
      "349/350 [============================>.] - ETA: 1s - loss: 0.5754 - acc: 0.7444Epoch 1/7\n",
      "800/350 [====================================================================] - 14s 17ms/sample - loss: 0.5670 - acc: 0.7475\n",
      "350/350 [==============================] - 437s 1s/step - loss: 0.5752 - acc: 0.7446 - val_loss: 0.5638 - val_acc: 0.7475\n",
      "Epoch 2/7\n",
      "349/350 [============================>.] - ETA: 1s - loss: 0.5508 - acc: 0.7553Epoch 1/7\n",
      "800/350 [====================================================================] - 3s 4ms/sample - loss: 0.6529 - acc: 0.7063\n",
      "350/350 [==============================] - 356s 1s/step - loss: 0.5507 - acc: 0.7554 - val_loss: 0.6171 - val_acc: 0.7063\n",
      "Epoch 3/7\n",
      "349/350 [============================>.] - ETA: 0s - loss: 0.5325 - acc: 0.7649Epoch 1/7\n",
      "800/350 [====================================================================] - 3s 4ms/sample - loss: 0.5915 - acc: 0.7875\n",
      "350/350 [==============================] - 353s 1s/step - loss: 0.5327 - acc: 0.7648 - val_loss: 0.5650 - val_acc: 0.7875\n",
      "Epoch 4/7\n",
      "349/350 [============================>.] - ETA: 0s - loss: 0.5015 - acc: 0.7785Epoch 1/7\n",
      "800/350 [====================================================================] - 3s 4ms/sample - loss: 3.3432 - acc: 0.7563\n",
      "350/350 [==============================] - 353s 1s/step - loss: 0.5012 - acc: 0.7787 - val_loss: 7.8998 - val_acc: 0.7563\n",
      "Epoch 5/7\n",
      "349/350 [============================>.] - ETA: 0s - loss: 0.4882 - acc: 0.7834Epoch 1/7\n",
      "800/350 [====================================================================] - 3s 4ms/sample - loss: 0.5243 - acc: 0.8037\n",
      "350/350 [==============================] - 353s 1s/step - loss: 0.4881 - acc: 0.7833 - val_loss: 0.4845 - val_acc: 0.8037\n",
      "Epoch 6/7\n",
      "349/350 [============================>.] - ETA: 0s - loss: 0.4678 - acc: 0.7930Epoch 1/7\n",
      "800/350 [====================================================================] - 3s 4ms/sample - loss: 0.5127 - acc: 0.7738\n",
      "350/350 [==============================] - 353s 1s/step - loss: 0.4684 - acc: 0.7927 - val_loss: 0.4994 - val_acc: 0.7738\n",
      "Epoch 7/7\n",
      "349/350 [============================>.] - ETA: 0s - loss: 0.4608 - acc: 0.8013Epoch 1/7\n",
      "800/350 [====================================================================] - 3s 4ms/sample - loss: 0.4917 - acc: 0.8138\n",
      "350/350 [==============================] - 352s 1s/step - loss: 0.4608 - acc: 0.8013 - val_loss: 0.4675 - val_acc: 0.8138\n"
     ]
    }
   ],
   "source": [
    "### Start Training\n",
    "history_3 = model_3.fit(\n",
    "    datagen.flow(x_train , y_train, batch_size=batch_size),\n",
    "    epochs = epochs,\n",
    "    validation_data = (x_test, y_test)\n",
    ")"
   ]
  },
  {
   "cell_type": "code",
   "execution_count": 39,
   "metadata": {},
   "outputs": [
    {
     "name": "stdout",
     "output_type": "stream",
     "text": [
      "Finish Training Time 2020-05-29 18:57:19.537333+08:00\n"
     ]
    },
    {
     "data": {
      "text/plain": [
       "(42, 42)"
      ]
     },
     "execution_count": 39,
     "metadata": {},
     "output_type": "execute_result"
    }
   ],
   "source": [
    "# Print Finish Training time\n",
    "tpe = pytz.timezone('Asia/Taipei')\n",
    "utc_finish = datetime.now()\n",
    "print(\"Finish Training Time\", tpe.fromutc(utc_finish))\n",
    "\n",
    "difference = utc_finish-utc_start\n",
    "seconds_in_day = 24 * 60 * 60\n",
    "divmod(difference.days * seconds_in_day + difference.seconds, 60)"
   ]
  },
  {
   "cell_type": "code",
   "execution_count": 40,
   "metadata": {},
   "outputs": [
    {
     "data": {
      "image/png": "[encoded data removed]",
      "text/plain": [
       "<Figure size 576x360 with 1 Axes>"
      ]
     },
     "metadata": {},
     "output_type": "display_data"
    }
   ],
   "source": [
    "plot_learning_curves(history_3)"
   ]
  },
  {
   "cell_type": "code",
   "execution_count": 41,
   "metadata": {},
   "outputs": [],
   "source": [
    "# 測試集標籤預測\n",
    "y_pred = model_3.predict(x_test)"
   ]
  },
  {
   "cell_type": "code",
   "execution_count": 42,
   "metadata": {},
   "outputs": [
    {
     "name": "stdout",
     "output_type": "stream",
     "text": [
      "[2 0 0 0 0 1 2 0 1 0 2 2 0 0 2 0 0 1 0 0 1 0 2 1 0 1 1 2 1 2 0 0 2 2 0 0 2\n",
      " 1 0 2 0 0 2 0 2 0 2 1 2 2 0 1 1 2 1 1 2 0 1 2 0 0 1 0 0 0 0 2 1 0 2 1 0 1\n",
      " 0 0 2 0 2 2 1 1 2 0 1 1 1 1 0 2 1 2 1 0 1 0 2 0 2 2 1 2 1 1 0 2 2 0 1 1 0\n",
      " 1 1 0 1 2 2 1 2 2 1 1 0 1 2 2 1 1 1 1 0 1 1 1 2 1 1 0 1 0 0 1 2 0 0 2 2 1\n",
      " 0 1 1 2 0 0 2 1 2 2 1 0 2 0 1 0 1 1 1 2 0 2 0 0 0 1 1 2 0 1 0 2 2 2 2 0 2\n",
      " 1 1 1 1 0 2 2 1 1 1 1 2 1 0 0 1 1 0 1 0 2 1 2 1 1 1 2 2 1 1 2 2 2 2 1 2 0\n",
      " 1 2 0 1 0 2 2 0 0 0 1 0 2 0 0 2 1 2 0 1 0 0 2 2 1 1 0 1 1 1 0 1 1 1 0 2 1\n",
      " 0 2 2 2 1 0 1 2 0 1 0 2 1 2 1 0 1 1 0 2 1 0 0 1 2 1 1 0 0 1 0 1 0 1 1 1 2\n",
      " 0 0 1 0 0 1 2 0 2 1 1 2 2 2 1 2 1 1 2 2 0 1 2 0 1 2 2 2 0 2 1 0 1 1 1 2 1\n",
      " 1 1 2 1 1 0 1 2 1 0 1 1 1 1 1 2 1 1 0 2 0 2 0 1 0 1 1 0 2 0 2 1 0 1 0 1 0\n",
      " 2 0 1 1 2 0 0 1 0 1 2 1 1 2 2 1 1 0 2 2 1 0 1 1 2 2 0 1 0 2 1 0 2 1 2 0 2\n",
      " 2 1 2 1 1 0 1 0 2 0 2 0 2 1 2 0 0 0 1 2 1 0 0 1 1 2 2 0 1 1 0 1 1 1 0 2 2\n",
      " 2 2 2 1 0 2 0 0 1 1 2 1 1 1 0 1 2 1 1 0 2 2 1 0 1 2 2 1 1 1 2 0 2 1 1 1 2\n",
      " 1 0 1 1 1 1 2 1 2 0 1 2 0 1 2 1 2 0 1 1 1 1 2 0 0 0 2 2 1 2 1 1 1 0 1 2 1\n",
      " 2 0 2 2 2 1 0 1 1 2 2 1 0 2 2 0 0 0 2 1 2 0 0 2 1 1 0 0 2 1 2 0 1 0 1 1 2\n",
      " 2 2 1 0 0 1 0 0 0 0 0 2 2 1 2 1 1 0 1 2 1 2 2 0 1 2 0 1 2 0 1 0 2 2 1 1 2\n",
      " 2 1 1 0 1 1 1 1 0 1 0 0 0 1 2 0 2 0 0 1 1 1 1 1 0 0 0 1 2 1 1 0 1 1 2 0 0\n",
      " 0 0 1 1 0 1 0 0 0 1 1 2 1 1 1 2 2 2 2 0 2 0 2 1 0 0 1 0 2 2 0 0 1 2 1 0 0\n",
      " 2 0 2 2 1 0 2 0 2 1 1 2 0 2 2 2 1 1 1 0 1 2 2 2 0 0 1 1 2 1 1 1 2 2 1 2 2\n",
      " 0 1 1 2 2 1 0 2 1 2 2 1 0 1 0 2 0 2 0 2 0 2 0 1 2 0 1 1 2 1 0 0 1 1 2 1 0\n",
      " 0 0 1 0 2 1 2 1 2 0 2 1 1 0 0 1 1 1 0 0 2 1 1 2 0 1 2 0 2 0 0 1 1 2 1 1 0\n",
      " 1 2 1 0 0 2 0 1 2 2 2 1 0 1 2 0 0 1 1 0 0 0 2]\n"
     ]
    }
   ],
   "source": [
    "# 模型預測後的標籤\n",
    "predict_label = np.argmax(y_pred,axis=1)\n",
    "print(predict_label)\n",
    "# print(len(predict_label))"
   ]
  },
  {
   "cell_type": "code",
   "execution_count": 43,
   "metadata": {},
   "outputs": [
    {
     "data": {
      "text/html": [
       "<div>\n",
       "<style scoped>\n",
       "    .dataframe tbody tr th:only-of-type {\n",
       "        vertical-align: middle;\n",
       "    }\n",
       "\n",
       "    .dataframe tbody tr th {\n",
       "        vertical-align: top;\n",
       "    }\n",
       "\n",
       "    .dataframe thead th {\n",
       "        text-align: right;\n",
       "    }\n",
       "</style>\n",
       "<table border=\"1\" class=\"dataframe\">\n",
       "  <thead>\n",
       "    <tr style=\"text-align: right;\">\n",
       "      <th>預測值</th>\n",
       "      <th>0</th>\n",
       "      <th>1</th>\n",
       "      <th>2</th>\n",
       "    </tr>\n",
       "    <tr>\n",
       "      <th>實際值</th>\n",
       "      <th></th>\n",
       "      <th></th>\n",
       "      <th></th>\n",
       "    </tr>\n",
       "  </thead>\n",
       "  <tbody>\n",
       "    <tr>\n",
       "      <th>0</th>\n",
       "      <td>199</td>\n",
       "      <td>42</td>\n",
       "      <td>2</td>\n",
       "    </tr>\n",
       "    <tr>\n",
       "      <th>1</th>\n",
       "      <td>43</td>\n",
       "      <td>231</td>\n",
       "      <td>19</td>\n",
       "    </tr>\n",
       "    <tr>\n",
       "      <th>2</th>\n",
       "      <td>6</td>\n",
       "      <td>37</td>\n",
       "      <td>221</td>\n",
       "    </tr>\n",
       "  </tbody>\n",
       "</table>\n",
       "</div>"
      ],
      "text/plain": [
       "預測值    0    1    2\n",
       "實際值               \n",
       "0    199   42    2\n",
       "1     43  231   19\n",
       "2      6   37  221"
      ]
     },
     "execution_count": 43,
     "metadata": {},
     "output_type": "execute_result"
    }
   ],
   "source": [
    "pd.crosstab(true_label,predict_label,rownames=['實際值'],colnames=['預測值'])"
   ]
  },
  {
   "cell_type": "code",
   "execution_count": 44,
   "metadata": {},
   "outputs": [
    {
     "name": "stdout",
     "output_type": "stream",
     "text": [
      "正确率为:81.38%\n"
     ]
    }
   ],
   "source": [
    "# 整體準確度\n",
    "count = 0\n",
    "for i in range(len(y_pred)):\n",
    "    if(np.argmax(y_pred[i]) == np.argmax(y_test[i])): #argmax函数找到最大值的索引，即为其类别\n",
    "        count += 1\n",
    "score = count/len(y_pred)\n",
    "print('正确率为:%.2f%s' % (score*100,'%'))"
   ]
  },
  {
   "cell_type": "markdown",
   "metadata": {},
   "source": [
    "## Test 4"
   ]
  },
  {
   "cell_type": "code",
   "execution_count": 45,
   "metadata": {},
   "outputs": [
    {
     "name": "stdout",
     "output_type": "stream",
     "text": [
      "芒果圖片數量:  5600\n",
      "x_l:  33600\n",
      "y_l:  33600\n"
     ]
    }
   ],
   "source": [
    "flip = 1; rotate = 1\n",
    "x_train, y_train = imgGenFunc(image_size, flip, rotate, \"train.csv\", \"C1-P1_Train/\")"
   ]
  },
  {
   "cell_type": "code",
   "execution_count": 46,
   "metadata": {},
   "outputs": [
    {
     "name": "stdout",
     "output_type": "stream",
     "text": [
      "Start Time 2020-05-29 18:58:58.551646+08:00\n"
     ]
    }
   ],
   "source": [
    "# Print Start time\n",
    "from datetime import datetime, timezone\n",
    "import pytz\n",
    "\n",
    "tpe = pytz.timezone('Asia/Taipei')\n",
    "utc_start = datetime.now()\n",
    "print(\"Start Time\", tpe.fromutc(utc_start))"
   ]
  },
  {
   "cell_type": "code",
   "execution_count": 47,
   "metadata": {},
   "outputs": [],
   "source": [
    "datagen.fit(x_train)"
   ]
  },
  {
   "cell_type": "code",
   "execution_count": 48,
   "metadata": {},
   "outputs": [
    {
     "name": "stdout",
     "output_type": "stream",
     "text": [
      "Epoch 1/7\n",
      "524/525 [============================>.] - ETA: 1s - loss: 0.4796 - acc: 0.7881Epoch 1/7\n",
      "800/525 [=============================================] - 15s 19ms/sample - loss: 0.5217 - acc: 0.7563\n",
      "525/525 [==============================] - 611s 1s/step - loss: 0.4794 - acc: 0.7882 - val_loss: 0.5413 - val_acc: 0.7563\n",
      "Epoch 2/7\n",
      "524/525 [============================>.] - ETA: 0s - loss: 0.5146 - acc: 0.7704Epoch 1/7\n",
      "800/525 [=============================================] - 3s 4ms/sample - loss: 0.5788 - acc: 0.7613\n",
      "525/525 [==============================] - 528s 1s/step - loss: 0.5147 - acc: 0.7704 - val_loss: 0.5795 - val_acc: 0.7613\n",
      "Epoch 3/7\n",
      "524/525 [============================>.] - ETA: 0s - loss: 0.5343 - acc: 0.7714Epoch 1/7\n",
      "800/525 [=============================================] - 3s 4ms/sample - loss: 1.2299 - acc: 0.7538\n",
      "525/525 [==============================] - 525s 999ms/step - loss: 0.5341 - acc: 0.7715 - val_loss: 1.2142 - val_acc: 0.7538\n",
      "Epoch 4/7\n",
      "524/525 [============================>.] - ETA: 0s - loss: 0.4883 - acc: 0.7889Epoch 1/7\n",
      "800/525 [=============================================] - 3s 4ms/sample - loss: 0.4851 - acc: 0.7925\n",
      "525/525 [==============================] - 524s 998ms/step - loss: 0.4883 - acc: 0.7889 - val_loss: 0.4851 - val_acc: 0.7925\n",
      "Epoch 5/7\n",
      "524/525 [============================>.] - ETA: 0s - loss: 0.4502 - acc: 0.8063Epoch 1/7\n",
      "800/525 [=============================================] - 3s 4ms/sample - loss: 0.4735 - acc: 0.8012\n",
      "525/525 [==============================] - 524s 999ms/step - loss: 0.4502 - acc: 0.8062 - val_loss: 0.4655 - val_acc: 0.8012\n",
      "Epoch 6/7\n",
      "524/525 [============================>.] - ETA: 0s - loss: 0.4487 - acc: 0.8077Epoch 1/7\n",
      "800/525 [=============================================] - 3s 4ms/sample - loss: 0.5149 - acc: 0.7812\n",
      "525/525 [==============================] - 525s 999ms/step - loss: 0.4489 - acc: 0.8075 - val_loss: 0.5114 - val_acc: 0.7812\n",
      "Epoch 7/7\n",
      "524/525 [============================>.] - ETA: 0s - loss: 0.4506 - acc: 0.8044Epoch 1/7\n",
      "800/525 [=============================================] - 3s 4ms/sample - loss: 0.4909 - acc: 0.7975\n",
      "525/525 [==============================] - 526s 1s/step - loss: 0.4506 - acc: 0.8045 - val_loss: 0.4812 - val_acc: 0.7975\n"
     ]
    }
   ],
   "source": [
    "### Start Training\n",
    "history_4 = model_4.fit(\n",
    "    datagen.flow(x_train , y_train, batch_size=batch_size),\n",
    "    epochs = epochs,\n",
    "    validation_data = (x_test, y_test)\n",
    ")"
   ]
  },
  {
   "cell_type": "code",
   "execution_count": 49,
   "metadata": {},
   "outputs": [
    {
     "name": "stdout",
     "output_type": "stream",
     "text": [
      "Finish Training Time 2020-05-29 20:01:48.979443+08:00\n"
     ]
    },
    {
     "data": {
      "text/plain": [
       "(62, 50)"
      ]
     },
     "execution_count": 49,
     "metadata": {},
     "output_type": "execute_result"
    }
   ],
   "source": [
    "# Print Finish Training time\n",
    "tpe = pytz.timezone('Asia/Taipei')\n",
    "utc_finish = datetime.now()\n",
    "print(\"Finish Training Time\", tpe.fromutc(utc_finish))\n",
    "\n",
    "difference = utc_finish-utc_start\n",
    "seconds_in_day = 24 * 60 * 60\n",
    "divmod(difference.days * seconds_in_day + difference.seconds, 60)"
   ]
  },
  {
   "cell_type": "code",
   "execution_count": 50,
   "metadata": {},
   "outputs": [
    {
     "data": {
      "image/png": "[encoded data removed]",
      "text/plain": [
       "<Figure size 576x360 with 1 Axes>"
      ]
     },
     "metadata": {},
     "output_type": "display_data"
    }
   ],
   "source": [
    "plot_learning_curves(history_4)"
   ]
  },
  {
   "cell_type": "code",
   "execution_count": 51,
   "metadata": {},
   "outputs": [],
   "source": [
    "# 測試集標籤預測\n",
    "y_pred = model_4.predict(x_test)"
   ]
  },
  {
   "cell_type": "code",
   "execution_count": 52,
   "metadata": {},
   "outputs": [
    {
     "name": "stdout",
     "output_type": "stream",
     "text": [
      "[2 1 0 0 0 1 2 0 0 0 1 2 0 0 2 0 0 1 0 0 0 0 2 1 0 1 1 2 1 2 0 0 2 0 0 0 2\n",
      " 1 0 2 0 0 2 0 2 0 2 1 2 2 0 1 1 1 1 1 1 1 1 2 0 0 1 0 0 0 0 2 1 0 2 1 0 1\n",
      " 0 0 2 0 2 2 1 1 2 0 1 1 1 1 0 1 1 2 1 0 1 0 2 0 2 2 1 2 1 1 0 2 2 0 1 1 0\n",
      " 1 1 0 1 2 2 0 2 2 1 1 0 0 2 2 2 1 0 0 0 1 1 0 2 1 0 0 0 0 0 1 2 1 0 2 1 1\n",
      " 0 1 1 2 0 0 2 1 2 2 2 0 2 0 0 0 1 0 1 1 0 2 0 0 0 1 1 1 0 0 0 2 2 2 2 0 2\n",
      " 1 0 1 1 1 2 2 2 0 0 1 2 1 0 0 1 1 0 1 0 2 2 2 1 1 1 2 2 2 1 2 2 2 2 1 2 0\n",
      " 2 2 0 1 0 2 2 1 0 0 1 1 2 0 0 2 1 2 0 0 0 0 2 2 1 1 0 0 1 2 1 0 1 1 0 2 1\n",
      " 0 2 2 2 1 0 1 2 0 2 0 2 1 2 1 0 0 1 0 2 1 0 0 0 2 2 1 0 0 1 2 1 0 1 0 1 2\n",
      " 0 0 1 0 0 1 2 0 2 0 1 2 2 2 1 2 1 1 2 2 0 1 2 0 1 1 2 2 0 2 1 0 1 1 1 2 1\n",
      " 1 1 2 1 1 0 1 2 1 0 2 1 1 1 1 2 1 0 0 2 0 2 0 1 0 1 1 0 2 0 2 0 0 1 0 1 0\n",
      " 2 0 1 1 2 0 0 1 0 1 2 1 1 2 2 1 2 0 2 0 1 0 0 1 2 2 0 0 0 2 1 0 2 2 2 0 2\n",
      " 2 1 2 1 1 0 0 0 2 0 2 0 2 1 2 0 0 0 1 2 1 0 0 1 2 2 2 0 2 1 0 1 1 1 1 2 2\n",
      " 2 2 2 1 0 2 0 0 1 1 2 1 1 1 0 1 2 2 1 0 2 2 0 0 1 1 2 1 0 1 2 0 2 1 1 1 2\n",
      " 1 0 1 1 1 1 2 0 2 0 1 2 0 1 2 1 2 0 1 1 1 1 2 0 0 0 2 2 1 2 1 1 1 0 1 2 1\n",
      " 1 0 2 2 2 1 0 1 1 2 2 1 0 2 2 0 0 0 2 2 2 0 0 2 1 2 0 1 2 1 2 0 0 0 1 1 2\n",
      " 1 2 1 0 0 1 0 0 0 0 1 2 1 1 2 2 1 0 1 2 1 2 2 0 1 2 0 1 2 0 1 0 2 2 1 1 2\n",
      " 2 1 1 1 1 2 0 1 0 1 0 0 0 1 2 0 2 0 0 1 1 1 1 1 0 0 0 1 2 1 1 0 1 1 2 0 0\n",
      " 0 0 1 1 0 1 0 0 0 1 1 2 1 1 1 2 2 2 2 2 2 0 2 0 0 0 1 0 2 2 0 0 1 2 1 1 0\n",
      " 2 0 2 2 1 0 2 0 2 1 1 2 0 2 2 2 0 1 1 0 1 2 2 2 0 0 0 1 2 1 1 0 2 2 1 2 2\n",
      " 0 1 0 2 2 2 0 2 1 2 2 1 1 1 0 2 0 2 0 2 0 2 0 1 2 0 1 1 1 0 1 0 1 1 0 1 0\n",
      " 0 0 1 0 2 1 2 0 2 1 2 2 2 0 0 0 1 0 0 0 2 1 1 2 1 1 2 0 1 0 0 1 1 2 1 0 0\n",
      " 0 2 1 0 0 2 0 1 2 2 2 2 0 1 2 0 0 0 1 1 0 0 2]\n"
     ]
    }
   ],
   "source": [
    "# 模型預測後的標籤\n",
    "predict_label = np.argmax(y_pred,axis=1)\n",
    "print(predict_label)\n",
    "# print(len(predict_label))"
   ]
  },
  {
   "cell_type": "code",
   "execution_count": 53,
   "metadata": {},
   "outputs": [
    {
     "data": {
      "text/html": [
       "<div>\n",
       "<style scoped>\n",
       "    .dataframe tbody tr th:only-of-type {\n",
       "        vertical-align: middle;\n",
       "    }\n",
       "\n",
       "    .dataframe tbody tr th {\n",
       "        vertical-align: top;\n",
       "    }\n",
       "\n",
       "    .dataframe thead th {\n",
       "        text-align: right;\n",
       "    }\n",
       "</style>\n",
       "<table border=\"1\" class=\"dataframe\">\n",
       "  <thead>\n",
       "    <tr style=\"text-align: right;\">\n",
       "      <th>預測值</th>\n",
       "      <th>0</th>\n",
       "      <th>1</th>\n",
       "      <th>2</th>\n",
       "    </tr>\n",
       "    <tr>\n",
       "      <th>實際值</th>\n",
       "      <th></th>\n",
       "      <th></th>\n",
       "      <th></th>\n",
       "    </tr>\n",
       "  </thead>\n",
       "  <tbody>\n",
       "    <tr>\n",
       "      <th>0</th>\n",
       "      <td>212</td>\n",
       "      <td>31</td>\n",
       "      <td>0</td>\n",
       "    </tr>\n",
       "    <tr>\n",
       "      <th>1</th>\n",
       "      <td>57</td>\n",
       "      <td>206</td>\n",
       "      <td>30</td>\n",
       "    </tr>\n",
       "    <tr>\n",
       "      <th>2</th>\n",
       "      <td>7</td>\n",
       "      <td>37</td>\n",
       "      <td>220</td>\n",
       "    </tr>\n",
       "  </tbody>\n",
       "</table>\n",
       "</div>"
      ],
      "text/plain": [
       "預測值    0    1    2\n",
       "實際值               \n",
       "0    212   31    0\n",
       "1     57  206   30\n",
       "2      7   37  220"
      ]
     },
     "execution_count": 53,
     "metadata": {},
     "output_type": "execute_result"
    }
   ],
   "source": [
    "pd.crosstab(true_label,predict_label,rownames=['實際值'],colnames=['預測值'])"
   ]
  },
  {
   "cell_type": "code",
   "execution_count": 54,
   "metadata": {},
   "outputs": [
    {
     "name": "stdout",
     "output_type": "stream",
     "text": [
      "正确率为:79.75%\n"
     ]
    }
   ],
   "source": [
    "# 整體準確度\n",
    "count = 0\n",
    "for i in range(len(y_pred)):\n",
    "    if(np.argmax(y_pred[i]) == np.argmax(y_test[i])): #argmax函数找到最大值的索引，即为其类别\n",
    "        count += 1\n",
    "score = count/len(y_pred)\n",
    "print('正确率为:%.2f%s' % (score*100,'%'))"
   ]
  }
 ],
 "metadata": {
  "environment": {
   "name": "tf2-gpu.2-1.m46",
   "type": "gcloud",
   "uri": "gcr.io/deeplearning-platform-release/tf2-gpu.2-1:m46"
  },
  "kernelspec": {
   "display_name": "conda_tensorflow_p36",
   "language": "python",
   "name": "conda_tensorflow_p36"
  },
  "language_info": {
   "codemirror_mode": {
    "name": "ipython",
    "version": 3
   },
   "file_extension": ".py",
   "mimetype": "text/x-python",
   "name": "python",
   "nbconvert_exporter": "python",
   "pygments_lexer": "ipython3",
   "version": "3.6.6"
  }
 },
 "nbformat": 4,
 "nbformat_minor": 4
}
