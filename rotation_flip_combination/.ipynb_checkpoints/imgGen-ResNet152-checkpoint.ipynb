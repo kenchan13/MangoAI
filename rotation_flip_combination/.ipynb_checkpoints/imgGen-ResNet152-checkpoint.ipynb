{
 "cells": [
  {
   "cell_type": "code",
   "execution_count": 1,
   "metadata": {},
   "outputs": [],
   "source": [
    "# 設定超參數HyperParameters \n",
    "batch_size =  64 #128\n",
    "epochs = 7\n",
    "image_size = 128\n",
    "lr=0.01\n",
    "\n",
    "imageGen = True"
   ]
  },
  {
   "cell_type": "markdown",
   "metadata": {},
   "source": [
    "## 一、載入相關套件"
   ]
  },
  {
   "cell_type": "code",
   "execution_count": 2,
   "metadata": {},
   "outputs": [],
   "source": [
    "import os\n",
    "import cv2\n",
    "import csv\n",
    "import random\n",
    "import time\n",
    "import numpy as np\n",
    "import pandas as pd\n",
    "import matplotlib.image as mpimg # mpimg 用於讀取圖片\n",
    "import matplotlib.pyplot as plt # plt 用於顯示圖片\n",
    "import seaborn as sns"
   ]
  },
  {
   "cell_type": "code",
   "execution_count": 3,
   "metadata": {},
   "outputs": [
    {
     "name": "stdout",
     "output_type": "stream",
     "text": [
      "WARNING:tensorflow:From /home/ec2-user/anaconda3/envs/tensorflow_p36/lib/python3.6/site-packages/tensorflow_core/__init__.py:1467: The name tf.estimator.inputs is deprecated. Please use tf.compat.v1.estimator.inputs instead.\n",
      "\n"
     ]
    }
   ],
   "source": [
    "import tensorflow as tf\n",
    "\n",
    "from tensorflow.keras.applications import ResNet152V2\n",
    "from tensorflow.keras.preprocessing import image\n",
    "from tensorflow.keras.applications.resnet_v2 import preprocess_input\n",
    "from tensorflow.keras import Model\n",
    "from tensorflow.keras.preprocessing.image import ImageDataGenerator, array_to_img, img_to_array, load_img\n",
    "from tensorflow.keras.utils import to_categorical\n",
    "from tensorflow.keras import utils as np_utils\n",
    "from tensorflow import keras\n",
    "from tensorflow.keras import optimizers\n",
    "from tensorflow.keras.layers import Input, Dropout, Flatten, Convolution2D, MaxPooling2D, ZeroPadding2D, Dense, Activation, Conv2DTranspose"
   ]
  },
  {
   "cell_type": "code",
   "execution_count": 4,
   "metadata": {},
   "outputs": [
    {
     "name": "stdout",
     "output_type": "stream",
     "text": [
      "1 Physical GPUs, 1 Logical GPUs\n"
     ]
    }
   ],
   "source": [
    "gpus = tf.config.experimental.list_physical_devices('GPU')\n",
    "if gpus:\n",
    "    try:\n",
    "        # Currently, memory growth needs to be the same across GPUs\n",
    "        for gpu in gpus:\n",
    "            tf.config.experimental.set_memory_growth(gpu, True)\n",
    "        tf.config.experimental.set_visible_devices(gpus[0], 'GPU')\n",
    "        logical_gpus = tf.config.experimental.list_logical_devices('GPU')\n",
    "        print(len(gpus), \"Physical GPUs,\", len(logical_gpus), \"Logical GPUs\")\n",
    "    except RuntimeError as e:\n",
    "        # Memory growth must be set before GPUs have been initialized\n",
    "        print(e)"
   ]
  },
  {
   "cell_type": "code",
   "execution_count": 5,
   "metadata": {},
   "outputs": [
    {
     "name": "stdout",
     "output_type": "stream",
     "text": [
      "Start Time 2020-05-28 18:22:09.386604+08:00\n"
     ]
    }
   ],
   "source": [
    "# Print Start time\n",
    "from datetime import datetime, timezone\n",
    "import pytz\n",
    "\n",
    "tpe = pytz.timezone('Asia/Taipei')\n",
    "utc_start = datetime.now()\n",
    "print(\"Start Time\", tpe.fromutc(utc_start))"
   ]
  },
  {
   "cell_type": "markdown",
   "metadata": {},
   "source": [
    "## 製作標籤&資料集"
   ]
  },
  {
   "cell_type": "code",
   "execution_count": 6,
   "metadata": {},
   "outputs": [],
   "source": [
    "from imgGen import imgGenFunc"
   ]
  },
  {
   "cell_type": "code",
   "execution_count": 7,
   "metadata": {},
   "outputs": [
    {
     "name": "stdout",
     "output_type": "stream",
     "text": [
      "芒果圖片數量:  5600\n",
      "x_l:  5600\n",
      "y_l:  5600\n"
     ]
    }
   ],
   "source": [
    "flip = 0; rotate = 0\n",
    "x_train, y_train = imgGenFunc(image_size, flip, rotate)"
   ]
  },
  {
   "cell_type": "markdown",
   "metadata": {},
   "source": [
    "## 建立Model"
   ]
  },
  {
   "cell_type": "code",
   "execution_count": 8,
   "metadata": {},
   "outputs": [
    {
     "name": "stdout",
     "output_type": "stream",
     "text": [
      "WARNING:tensorflow:From /home/ec2-user/anaconda3/envs/tensorflow_p36/lib/python3.6/site-packages/tensorflow_core/python/ops/resource_variable_ops.py:1630: calling BaseResourceVariable.__init__ (from tensorflow.python.ops.resource_variable_ops) with constraint is deprecated and will be removed in a future version.\n",
      "Instructions for updating:\n",
      "If using Keras pass *_constraint arguments to layers.\n"
     ]
    }
   ],
   "source": [
    "model_resnet = ResNet152V2(weights='imagenet', include_top=False)\n",
    "\n",
    "input = Input( shape=(image_size,image_size,3),name = 'image_input' )\n",
    "output_conv = model_resnet(input)"
   ]
  },
  {
   "cell_type": "code",
   "execution_count": 9,
   "metadata": {},
   "outputs": [],
   "source": [
    "## 由於該問題是分 3 類，需要在最後修改 Dense(3)，softmax 代表 output 是機率  \n",
    "#Add the fully-connected layers \n",
    "p = Flatten()(output_conv)\n",
    "p = Dense(256,activation = 'relu')(p)\n",
    "p = Dropout(0.2)(p)\n",
    "p = Dense(3, activation='softmax', name='predictions')(p)\n",
    "\n",
    "model = Model(inputs=input, outputs=p)\n",
    "\n",
    "model_2 = Model(inputs=input, outputs=p)\n",
    "model_3 = Model(inputs=input, outputs=p)\n",
    "model_4 = Model(inputs=input, outputs=p)"
   ]
  },
  {
   "cell_type": "code",
   "execution_count": 10,
   "metadata": {},
   "outputs": [],
   "source": [
    "adam = optimizers.Adam(lr=lr)\n",
    "model.compile(optimizer='adam',\n",
    "              loss=tf.keras.losses.CategoricalCrossentropy(),\n",
    "              metrics=['acc'])\n",
    "\n",
    "\n",
    "model_2.compile(optimizer='adam',\n",
    "              loss=tf.keras.losses.CategoricalCrossentropy(),\n",
    "              metrics=['acc'])\n",
    "\n",
    "model_3.compile(optimizer='adam',\n",
    "              loss=tf.keras.losses.CategoricalCrossentropy(),\n",
    "              metrics=['acc'])\n",
    "\n",
    "model_4.compile(optimizer='adam',\n",
    "              loss=tf.keras.losses.CategoricalCrossentropy(),\n",
    "              metrics=['acc'])"
   ]
  },
  {
   "cell_type": "markdown",
   "metadata": {},
   "source": [
    "## 訓練"
   ]
  },
  {
   "cell_type": "code",
   "execution_count": 11,
   "metadata": {},
   "outputs": [],
   "source": [
    "# Model檔名設定\n",
    "file_name = str(epochs)+'_'+str(batch_size)"
   ]
  },
  {
   "cell_type": "code",
   "execution_count": 12,
   "metadata": {},
   "outputs": [],
   "source": [
    "# 加入EarlyStopping以及Tensorboard等回調函數\n",
    "CB = tf.keras.callbacks.EarlyStopping(monitor='val_loss', patience=10)\n",
    "TB = keras.callbacks.TensorBoard(log_dir='./log'+\"_\"+file_name, histogram_freq=1)"
   ]
  },
  {
   "cell_type": "code",
   "execution_count": 13,
   "metadata": {
    "scrolled": true
   },
   "outputs": [
    {
     "name": "stdout",
     "output_type": "stream",
     "text": [
      "Train on 5040 samples, validate on 560 samples\n",
      "Epoch 1/7\n",
      "5040/5040 [==============================] - 141s 28ms/sample - loss: 0.9969 - acc: 0.6252 - val_loss: 852.8178 - val_acc: 0.3018\n",
      "Epoch 2/7\n",
      "5040/5040 [==============================] - 105s 21ms/sample - loss: 0.9386 - acc: 0.6597 - val_loss: 8712.1261 - val_acc: 0.3518\n",
      "Epoch 3/7\n",
      "5040/5040 [==============================] - 105s 21ms/sample - loss: 0.7369 - acc: 0.6750 - val_loss: 2.6055 - val_acc: 0.5036\n",
      "Epoch 4/7\n",
      "5040/5040 [==============================] - 105s 21ms/sample - loss: 0.7637 - acc: 0.6762 - val_loss: 4006.2291 - val_acc: 0.3821\n",
      "Epoch 5/7\n",
      "5040/5040 [==============================] - 105s 21ms/sample - loss: 0.6611 - acc: 0.7224 - val_loss: 0.9185 - val_acc: 0.6036\n",
      "Epoch 6/7\n",
      "5040/5040 [==============================] - 105s 21ms/sample - loss: 0.6573 - acc: 0.7153 - val_loss: 2.5831 - val_acc: 0.5661\n",
      "Epoch 7/7\n",
      "5040/5040 [==============================] - 105s 21ms/sample - loss: 0.6089 - acc: 0.7333 - val_loss: 1.0697 - val_acc: 0.5339\n"
     ]
    }
   ],
   "source": [
    "### Start Training\n",
    "history_1 = model.fit(\n",
    "    x = x_train, \n",
    "    y = y_train, \n",
    "    batch_size = batch_size,\n",
    "    shuffle=True,\n",
    "    epochs = epochs,\n",
    "    validation_split=0.1\n",
    ")"
   ]
  },
  {
   "cell_type": "code",
   "execution_count": 14,
   "metadata": {},
   "outputs": [
    {
     "name": "stdout",
     "output_type": "stream",
     "text": [
      "Finish Training Time 2020-05-28 18:36:59.039381+08:00\n"
     ]
    },
    {
     "data": {
      "text/plain": [
       "(14, 49)"
      ]
     },
     "execution_count": 14,
     "metadata": {},
     "output_type": "execute_result"
    }
   ],
   "source": [
    "# Print Finish Training time\n",
    "tpe = pytz.timezone('Asia/Taipei')\n",
    "utc_finish = datetime.now()\n",
    "print(\"Finish Training Time\", tpe.fromutc(utc_finish))\n",
    "\n",
    "difference = utc_finish-utc_start\n",
    "seconds_in_day = 24 * 60 * 60\n",
    "divmod(difference.days * seconds_in_day + difference.seconds, 60)"
   ]
  },
  {
   "cell_type": "markdown",
   "metadata": {},
   "source": [
    "## 繪製Model學習成效"
   ]
  },
  {
   "cell_type": "code",
   "execution_count": 15,
   "metadata": {},
   "outputs": [
    {
     "data": {
      "image/png": "[encoded data removed]",
      "text/plain": [
       "<Figure size 576x360 with 1 Axes>"
      ]
     },
     "metadata": {},
     "output_type": "display_data"
    }
   ],
   "source": [
    "def plot_learning_curves(history):\n",
    "    pd.DataFrame(history.history).plot(figsize=(8,5))\n",
    "    plt.grid(True)\n",
    "    plt.gca().set_ylim(0,2)\n",
    "    plt.show()\n",
    "    \n",
    "plot_learning_curves(history_1)"
   ]
  },
  {
   "cell_type": "markdown",
   "metadata": {},
   "source": [
    "## 測試集預測準確度"
   ]
  },
  {
   "cell_type": "code",
   "execution_count": 16,
   "metadata": {},
   "outputs": [],
   "source": [
    "csvfile_test = open('dev.csv')\n",
    "reader_test = csv.reader(csvfile_test)"
   ]
  },
  {
   "cell_type": "code",
   "execution_count": 17,
   "metadata": {},
   "outputs": [],
   "source": [
    "# 讀取csv標籤\n",
    "labels = []\n",
    "for line in reader_test:\n",
    "    tmp = [line[0],line[1]]\n",
    "    # print tmp\n",
    "    labels.append(tmp)\n",
    "csvfile_test.close() "
   ]
  },
  {
   "cell_type": "code",
   "execution_count": 18,
   "metadata": {},
   "outputs": [
    {
     "name": "stdout",
     "output_type": "stream",
     "text": [
      "芒果圖片數量:  800\n"
     ]
    }
   ],
   "source": [
    "labels = labels[1:]  # remove the first row\n",
    "print(\"芒果圖片數量: \",len(labels))"
   ]
  },
  {
   "cell_type": "code",
   "execution_count": 19,
   "metadata": {},
   "outputs": [],
   "source": [
    "# 轉換圖片的標籤\n",
    "for i in range(len(labels)):\n",
    "    labels[i][1] = labels[i][1].replace(\"A\",\"0\")\n",
    "    labels[i][1] = labels[i][1].replace(\"B\",\"1\")\n",
    "    labels[i][1] = labels[i][1].replace(\"C\",\"2\")"
   ]
  },
  {
   "cell_type": "code",
   "execution_count": 20,
   "metadata": {},
   "outputs": [],
   "source": [
    "x_test = []\n",
    "y_test = []\n",
    "\n",
    "for i in range(len(labels)):\n",
    "    img = cv2.imread(\"C1-P1_Dev/\" + labels[i][0] )\n",
    "    res = cv2.resize(img,(image_size,image_size),interpolation=cv2.INTER_LINEAR)\n",
    "    res = img_to_array(res)\n",
    "    x_test.append(res)    \n",
    "    y_test.append(labels[i][1])"
   ]
  },
  {
   "cell_type": "code",
   "execution_count": 21,
   "metadata": {},
   "outputs": [],
   "source": [
    "y_test_org = y_test\n",
    "\n",
    "# 轉換至array的格式\n",
    "x_test = np.array(x_test)\n",
    "y_test = np.array(y_test)"
   ]
  },
  {
   "cell_type": "code",
   "execution_count": 22,
   "metadata": {},
   "outputs": [],
   "source": [
    "# 轉換至float的格式\n",
    "for i in range(len(x_test)):\n",
    "    x_test[i] = x_test[i].astype('float32')\n",
    "# x_test = x_test/255"
   ]
  },
  {
   "cell_type": "code",
   "execution_count": 23,
   "metadata": {},
   "outputs": [],
   "source": [
    "# 標籤進行one-hotencoding\n",
    "y_test = np_utils.to_categorical(y_test)"
   ]
  },
  {
   "cell_type": "code",
   "execution_count": 24,
   "metadata": {},
   "outputs": [],
   "source": [
    "# 測試集標籤預測\n",
    "y_pred = model.predict(x_test)"
   ]
  },
  {
   "cell_type": "code",
   "execution_count": null,
   "metadata": {},
   "outputs": [],
   "source": []
  },
  {
   "cell_type": "code",
   "execution_count": 25,
   "metadata": {},
   "outputs": [
    {
     "name": "stdout",
     "output_type": "stream",
     "text": [
      "[0 1 1 0 1 1 0 0 1 1 0 1 1 1 0 1 1 1 1 1 2 1 1 0 1 1 1 1 1 0 1 1 2 1 1 0 2\n",
      " 1 1 1 1 0 1 2 1 2 1 2 1 0 0 0 0 1 1 2 1 1 0 0 1 2 1 2 1 1 1 1 1 1 1 0 2 1\n",
      " 0 1 1 1 1 1 1 1 1 1 0 1 0 1 1 2 1 1 1 1 1 0 1 2 1 1 0 1 0 1 2 1 0 1 1 0 0\n",
      " 2 1 2 1 0 1 1 1 2 1 1 0 1 1 2 1 1 1 0 1 1 2 0 1 1 1 1 1 0 2 2 1 1 1 1 1 0\n",
      " 2 1 1 0 1 1 1 1 2 1 2 0 1 1 1 1 0 2 1 2 1 1 0 2 1 0 1 2 1 1 1 1 1 2 2 1 1\n",
      " 1 1 2 2 2 0 1 1 1 1 0 1 2 1 1 1 1 2 1 2 1 2 1 0 1 0 1 2 1 1 1 0 1 2 1 0 2\n",
      " 0 1 1 1 1 0 0 1 2 2 0 1 1 1 1 1 0 0 1 1 1 2 2 1 1 0 1 1 0 1 1 0 1 1 1 1 1\n",
      " 1 2 1 1 2 1 1 2 1 2 0 1 2 0 0 1 1 0 1 1 1 1 1 2 1 0 0 1 0 1 0 1 1 1 2 1 1\n",
      " 1 1 1 1 0 2 1 0 1 2 1 1 0 1 1 2 1 0 1 0 0 2 2 1 0 2 0 1 1 1 1 1 1 2 0 1 0\n",
      " 1 1 1 1 1 1 1 2 1 1 0 2 0 1 0 1 2 1 2 0 1 1 1 1 1 2 1 0 0 1 2 1 1 1 1 0 1\n",
      " 1 1 1 2 1 1 1 1 1 1 1 2 0 1 1 1 2 1 1 1 1 2 1 1 1 0 1 1 2 2 0 0 0 1 1 1 1\n",
      " 1 2 1 1 1 1 0 2 1 2 0 0 1 1 0 1 1 2 1 1 0 1 2 1 1 0 2 1 1 0 2 0 1 1 0 1 1\n",
      " 1 0 1 0 0 1 1 0 1 1 1 2 0 1 1 0 0 1 1 2 0 2 1 1 0 1 1 2 2 1 1 1 1 1 1 2 1\n",
      " 1 1 1 1 2 1 0 0 1 1 2 1 1 2 1 1 1 0 1 1 0 0 1 1 2 0 1 2 1 1 1 1 1 1 1 1 1\n",
      " 1 1 1 1 1 1 2 2 1 1 1 1 1 1 0 1 1 2 1 1 1 0 2 1 2 1 0 0 1 0 2 1 1 0 1 1 1\n",
      " 1 1 1 0 1 1 1 2 1 1 1 0 0 1 2 0 0 1 2 2 1 2 1 2 2 1 1 1 1 0 1 2 1 1 1 1 1\n",
      " 1 0 1 1 0 0 1 1 1 2 0 1 1 1 2 1 2 1 2 0 2 2 1 1 1 1 1 2 2 1 2 1 1 1 1 1 2\n",
      " 1 1 1 1 1 0 1 1 1 0 0 2 1 1 2 1 2 0 2 1 2 1 0 0 1 0 0 0 1 0 2 0 1 1 0 1 1\n",
      " 2 1 1 1 1 2 1 1 1 1 1 0 2 1 2 1 0 2 2 1 1 2 0 0 1 1 2 0 0 1 2 0 1 1 1 1 1\n",
      " 1 0 2 1 1 1 2 1 0 0 1 1 1 1 0 1 1 1 1 1 0 2 1 2 1 0 0 2 1 2 0 1 1 2 2 1 1\n",
      " 1 0 0 2 0 1 0 1 1 1 1 1 1 2 0 0 2 1 0 1 2 1 1 1 1 1 2 0 1 1 1 1 2 1 1 1 2\n",
      " 2 1 1 0 1 1 1 2 2 2 1 1 0 1 1 1 1 2 2 2 0 2 1]\n"
     ]
    }
   ],
   "source": [
    "# 模型預測後的標籤\n",
    "predict_label = np.argmax(y_pred,axis=1)\n",
    "print(predict_label)\n",
    "# print(len(predict_label))"
   ]
  },
  {
   "cell_type": "code",
   "execution_count": 26,
   "metadata": {},
   "outputs": [
    {
     "name": "stdout",
     "output_type": "stream",
     "text": [
      "['1' '0' '1' '1' '2' '1' '2' '0' '1' '0' '0' '1' '2' '1' '2' '1' '1' '0'\n",
      " '0' '1' '0' '0' '2' '0' '1' '0' '2' '2' '1' '1' '1' '0' '2' '2' '0' '0'\n",
      " '0' '0' '0' '0' '1' '2' '0' '2' '2' '2' '1' '0' '2' '0' '1' '1' '1' '2'\n",
      " '2' '0' '1' '0' '2' '0' '1' '1' '2' '0' '1' '2' '2' '0' '2' '1' '2' '1'\n",
      " '1' '2' '2' '2' '1' '0' '2' '0' '0' '2' '1' '1' '2' '2' '2' '2' '0' '1'\n",
      " '2' '2' '1' '2' '2' '2' '1' '0' '2' '2' '2' '1' '1' '2' '1' '1' '1' '1'\n",
      " '1' '2' '2' '0' '1' '0' '0' '2' '2' '0' '2' '0' '1' '0' '2' '1' '2' '1'\n",
      " '0' '1' '2' '1' '0' '0' '0' '1' '0' '2' '1' '1' '0' '2' '0' '1' '2' '0'\n",
      " '0' '0' '2' '1' '1' '1' '1' '1' '1' '1' '1' '1' '1' '0' '2' '1' '2' '1'\n",
      " '0' '1' '2' '2' '1' '2' '0' '2' '1' '2' '2' '2' '2' '1' '0' '0' '0' '1'\n",
      " '2' '2' '0' '2' '1' '2' '0' '0' '2' '1' '2' '2' '1' '1' '2' '1' '0' '2'\n",
      " '1' '0' '2' '2' '1' '0' '1' '2' '0' '1' '2' '2' '2' '1' '1' '2' '0' '2'\n",
      " '1' '2' '1' '1' '0' '1' '1' '1' '1' '1' '0' '0' '1' '1' '0' '2' '1' '1'\n",
      " '0' '1' '2' '0' '2' '0' '1' '2' '2' '0' '1' '0' '2' '2' '2' '1' '0' '1'\n",
      " '2' '2' '2' '1' '1' '1' '2' '2' '2' '1' '1' '0' '2' '1' '2' '0' '1' '2'\n",
      " '2' '1' '1' '1' '1' '2' '2' '0' '2' '0' '1' '0' '0' '1' '1' '1' '1' '2'\n",
      " '1' '2' '2' '0' '2' '2' '1' '1' '0' '1' '1' '2' '2' '0' '2' '0' '2' '2'\n",
      " '1' '2' '1' '2' '2' '0' '2' '1' '0' '2' '0' '1' '1' '0' '0' '1' '1' '2'\n",
      " '2' '1' '1' '1' '0' '2' '1' '1' '2' '0' '2' '1' '1' '2' '1' '1' '1' '2'\n",
      " '0' '2' '0' '0' '0' '0' '0' '1' '2' '1' '2' '0' '1' '0' '1' '2' '1' '0'\n",
      " '0' '1' '0' '0' '2' '1' '1' '1' '1' '1' '2' '2' '1' '2' '0' '2' '1' '2'\n",
      " '0' '2' '0' '1' '0' '1' '1' '2' '1' '1' '0' '2' '2' '2' '1' '2' '1' '0'\n",
      " '1' '1' '1' '1' '0' '0' '2' '1' '0' '2' '1' '1' '2' '0' '0' '2' '1' '0'\n",
      " '1' '1' '1' '2' '2' '1' '1' '0' '0' '2' '0' '2' '1' '1' '1' '2' '2' '0'\n",
      " '2' '0' '1' '2' '2' '1' '1' '0' '1' '0' '1' '0' '0' '1' '0' '1' '1' '1'\n",
      " '2' '2' '2' '2' '0' '0' '0' '1' '0' '2' '2' '1' '2' '2' '0' '1' '1' '0'\n",
      " '1' '0' '1' '2' '2' '1' '0' '1' '2' '1' '1' '1' '0' '0' '0' '0' '1' '2'\n",
      " '1' '1' '2' '2' '1' '2' '1' '1' '0' '0' '0' '0' '0' '0' '0' '0' '2' '2'\n",
      " '0' '0' '0' '0' '0' '1' '1' '2' '1' '0' '0' '2' '2' '1' '0' '1' '0' '1'\n",
      " '2' '2' '2' '1' '1' '2' '2' '1' '2' '1' '1' '1' '2' '0' '1' '0' '2' '0'\n",
      " '0' '0' '2' '1' '0' '2' '0' '1' '0' '2' '1' '0' '2' '0' '2' '1' '0' '0'\n",
      " '0' '0' '2' '1' '1' '1' '0' '1' '0' '0' '1' '0' '1' '1' '0' '1' '2' '0'\n",
      " '1' '1' '1' '1' '2' '1' '1' '1' '1' '0' '1' '2' '2' '2' '0' '0' '1' '1'\n",
      " '0' '1' '2' '2' '0' '1' '2' '2' '1' '2' '1' '0' '0' '2' '2' '1' '2' '2'\n",
      " '2' '2' '2' '0' '2' '1' '1' '1' '1' '0' '0' '2' '0' '0' '0' '0' '0' '0'\n",
      " '2' '1' '1' '0' '1' '2' '2' '0' '0' '0' '2' '1' '1' '0' '0' '0' '1' '0'\n",
      " '1' '2' '2' '2' '1' '2' '1' '1' '2' '2' '1' '1' '2' '1' '2' '1' '2' '2'\n",
      " '0' '0' '2' '0' '2' '2' '2' '1' '0' '0' '2' '0' '0' '0' '1' '2' '2' '1'\n",
      " '1' '0' '0' '1' '2' '1' '0' '2' '2' '0' '2' '1' '0' '2' '2' '0' '0' '1'\n",
      " '0' '0' '2' '2' '1' '1' '0' '2' '0' '0' '0' '1' '1' '0' '2' '0' '2' '0'\n",
      " '1' '1' '1' '2' '2' '0' '2' '1' '0' '2' '2' '1' '0' '2' '1' '2' '1' '2'\n",
      " '2' '0' '1' '1' '2' '2' '1' '1' '0' '0' '1' '0' '1' '2' '0' '0' '0' '1'\n",
      " '1' '0' '1' '2' '0' '1' '0' '0' '2' '0' '1' '0' '0' '1' '1' '1' '2' '2'\n",
      " '0' '0' '1' '2' '2' '2' '1' '0' '2' '2' '0' '0' '2' '2' '1' '2' '2' '1'\n",
      " '1' '1' '0' '1' '0' '2' '0' '2']\n"
     ]
    }
   ],
   "source": [
    "# 模型原標籤\n",
    "true_label = y_test_org\n",
    "true_label = np.array(true_label)\n",
    "print(true_label)\n",
    "# print(len(true_label))"
   ]
  },
  {
   "cell_type": "code",
   "execution_count": 27,
   "metadata": {},
   "outputs": [
    {
     "data": {
      "text/html": [
       "<div>\n",
       "<style scoped>\n",
       "    .dataframe tbody tr th:only-of-type {\n",
       "        vertical-align: middle;\n",
       "    }\n",
       "\n",
       "    .dataframe tbody tr th {\n",
       "        vertical-align: top;\n",
       "    }\n",
       "\n",
       "    .dataframe thead th {\n",
       "        text-align: right;\n",
       "    }\n",
       "</style>\n",
       "<table border=\"1\" class=\"dataframe\">\n",
       "  <thead>\n",
       "    <tr style=\"text-align: right;\">\n",
       "      <th>預測值</th>\n",
       "      <th>0</th>\n",
       "      <th>1</th>\n",
       "      <th>2</th>\n",
       "    </tr>\n",
       "    <tr>\n",
       "      <th>實際值</th>\n",
       "      <th></th>\n",
       "      <th></th>\n",
       "      <th></th>\n",
       "    </tr>\n",
       "  </thead>\n",
       "  <tbody>\n",
       "    <tr>\n",
       "      <th>0</th>\n",
       "      <td>45</td>\n",
       "      <td>149</td>\n",
       "      <td>49</td>\n",
       "    </tr>\n",
       "    <tr>\n",
       "      <th>1</th>\n",
       "      <td>57</td>\n",
       "      <td>183</td>\n",
       "      <td>53</td>\n",
       "    </tr>\n",
       "    <tr>\n",
       "      <th>2</th>\n",
       "      <td>59</td>\n",
       "      <td>158</td>\n",
       "      <td>47</td>\n",
       "    </tr>\n",
       "  </tbody>\n",
       "</table>\n",
       "</div>"
      ],
      "text/plain": [
       "預測值   0    1   2\n",
       "實際值             \n",
       "0    45  149  49\n",
       "1    57  183  53\n",
       "2    59  158  47"
      ]
     },
     "execution_count": 27,
     "metadata": {},
     "output_type": "execute_result"
    }
   ],
   "source": [
    "pd.crosstab(true_label,predict_label,rownames=['實際值'],colnames=['預測值'])"
   ]
  },
  {
   "cell_type": "code",
   "execution_count": 28,
   "metadata": {},
   "outputs": [
    {
     "name": "stdout",
     "output_type": "stream",
     "text": [
      "正确率为:34.38%\n"
     ]
    }
   ],
   "source": [
    "# 整體準確度\n",
    "count = 0\n",
    "for i in range(len(y_pred)):\n",
    "    if(np.argmax(y_pred[i]) == np.argmax(y_test[i])): #argmax函数找到最大值的索引，即为其类别\n",
    "        count += 1\n",
    "score = count/len(y_pred)\n",
    "print('正确率为:%.2f%s' % (score*100,'%'))"
   ]
  },
  {
   "cell_type": "code",
   "execution_count": 29,
   "metadata": {},
   "outputs": [],
   "source": [
    "# 儲存模型相關參數\n",
    "# model.save('h5/'+file_name+'.h5')"
   ]
  },
  {
   "cell_type": "raw",
   "metadata": {},
   "source": [
    "### https://github.com/linsamtw/cifar10_vgg16_kaggle"
   ]
  },
  {
   "cell_type": "code",
   "execution_count": null,
   "metadata": {},
   "outputs": [],
   "source": []
  },
  {
   "cell_type": "markdown",
   "metadata": {},
   "source": [
    "## Test 2"
   ]
  },
  {
   "cell_type": "code",
   "execution_count": 30,
   "metadata": {},
   "outputs": [
    {
     "name": "stdout",
     "output_type": "stream",
     "text": [
      "芒果圖片數量:  5600\n",
      "x_l:  16800\n",
      "y_l:  16800\n"
     ]
    }
   ],
   "source": [
    "flip = 0; rotate = 1\n",
    "x_train, y_train = imgGenFunc(image_size, flip, rotate)"
   ]
  },
  {
   "cell_type": "code",
   "execution_count": 31,
   "metadata": {},
   "outputs": [
    {
     "name": "stdout",
     "output_type": "stream",
     "text": [
      "Start Time 2020-05-28 18:38:30.018696+08:00\n"
     ]
    }
   ],
   "source": [
    "# Print Start time\n",
    "from datetime import datetime, timezone\n",
    "import pytz\n",
    "\n",
    "tpe = pytz.timezone('Asia/Taipei')\n",
    "utc_start = datetime.now()\n",
    "print(\"Start Time\", tpe.fromutc(utc_start))"
   ]
  },
  {
   "cell_type": "code",
   "execution_count": 32,
   "metadata": {},
   "outputs": [
    {
     "name": "stdout",
     "output_type": "stream",
     "text": [
      "Train on 15120 samples, validate on 1680 samples\n",
      "Epoch 1/7\n",
      "15120/15120 [==============================] - 347s 23ms/sample - loss: 0.7227 - acc: 0.6915 - val_loss: 11.6263 - val_acc: 0.5607\n",
      "Epoch 2/7\n",
      "15120/15120 [==============================] - 315s 21ms/sample - loss: 0.7484 - acc: 0.6759 - val_loss: 1.6127 - val_acc: 0.6315\n",
      "Epoch 3/7\n",
      "15120/15120 [==============================] - 315s 21ms/sample - loss: 0.6514 - acc: 0.7151 - val_loss: 11.6354 - val_acc: 0.4185\n",
      "Epoch 4/7\n",
      "15120/15120 [==============================] - 315s 21ms/sample - loss: 0.6095 - acc: 0.7329 - val_loss: 0.7325 - val_acc: 0.6946\n",
      "Epoch 5/7\n",
      "15120/15120 [==============================] - 315s 21ms/sample - loss: 0.6048 - acc: 0.7372 - val_loss: 0.6660 - val_acc: 0.7363\n",
      "Epoch 6/7\n",
      "15120/15120 [==============================] - 314s 21ms/sample - loss: 0.5404 - acc: 0.7585 - val_loss: 0.7774 - val_acc: 0.7024\n",
      "Epoch 7/7\n",
      "15120/15120 [==============================] - 315s 21ms/sample - loss: 0.5199 - acc: 0.7677 - val_loss: 0.7137 - val_acc: 0.7089\n"
     ]
    }
   ],
   "source": [
    "### Start Training\n",
    "history_2 = model_2.fit(\n",
    "    x = x_train, \n",
    "    y = y_train, \n",
    "    batch_size = batch_size,\n",
    "    shuffle=True,\n",
    "    epochs = epochs,\n",
    "    validation_split=0.1\n",
    ")"
   ]
  },
  {
   "cell_type": "code",
   "execution_count": 33,
   "metadata": {},
   "outputs": [
    {
     "name": "stdout",
     "output_type": "stream",
     "text": [
      "Finish Training Time 2020-05-28 19:16:09.257851+08:00\n"
     ]
    },
    {
     "data": {
      "text/plain": [
       "(37, 39)"
      ]
     },
     "execution_count": 33,
     "metadata": {},
     "output_type": "execute_result"
    }
   ],
   "source": [
    "# Print Finish Training time\n",
    "tpe = pytz.timezone('Asia/Taipei')\n",
    "utc_finish = datetime.now()\n",
    "print(\"Finish Training Time\", tpe.fromutc(utc_finish))\n",
    "\n",
    "difference = utc_finish-utc_start\n",
    "seconds_in_day = 24 * 60 * 60\n",
    "divmod(difference.days * seconds_in_day + difference.seconds, 60)"
   ]
  },
  {
   "cell_type": "code",
   "execution_count": 34,
   "metadata": {},
   "outputs": [
    {
     "data": {
      "image/png": "[encoded data removed]",
      "text/plain": [
       "<Figure size 576x360 with 1 Axes>"
      ]
     },
     "metadata": {},
     "output_type": "display_data"
    }
   ],
   "source": [
    "plot_learning_curves(history_2)"
   ]
  },
  {
   "cell_type": "code",
   "execution_count": 35,
   "metadata": {},
   "outputs": [],
   "source": [
    "# 測試集標籤預測\n",
    "y_pred = model_2.predict(x_test)"
   ]
  },
  {
   "cell_type": "code",
   "execution_count": 36,
   "metadata": {},
   "outputs": [
    {
     "name": "stdout",
     "output_type": "stream",
     "text": [
      "[1 1 1 1 1 1 1 1 1 1 1 1 1 1 1 1 1 1 1 1 1 1 1 1 1 1 1 1 1 1 1 1 1 1 1 1 1\n",
      " 1 1 1 1 1 1 1 1 1 1 1 1 1 1 1 1 1 1 1 1 1 1 1 1 1 1 1 1 1 1 1 1 1 1 1 1 1\n",
      " 1 1 1 1 1 1 1 1 1 1 1 1 1 1 1 1 1 1 1 1 1 1 1 1 1 1 1 1 1 1 1 1 1 1 1 1 1\n",
      " 1 1 1 1 1 1 1 1 1 1 1 1 1 1 1 1 1 1 1 1 1 1 1 1 1 1 1 1 1 1 1 1 1 1 1 1 1\n",
      " 1 1 1 1 1 1 1 1 1 1 1 1 1 1 1 1 1 1 1 1 1 1 1 1 1 1 1 1 1 1 1 1 1 1 1 1 1\n",
      " 1 1 1 1 1 1 1 1 1 1 1 1 1 1 1 1 1 1 1 1 1 1 1 1 1 1 1 0 1 1 1 1 1 1 1 1 1\n",
      " 1 1 1 1 1 1 1 1 1 1 1 1 1 1 1 1 1 1 1 1 1 1 1 1 1 1 1 1 1 1 1 1 1 1 1 1 1\n",
      " 1 1 1 1 1 1 1 1 1 1 1 1 1 1 1 1 1 1 1 1 1 1 1 1 1 1 1 1 1 1 1 1 1 1 1 1 1\n",
      " 1 1 1 1 1 1 1 1 1 1 1 1 1 1 1 1 1 1 1 1 1 1 2 1 1 1 1 1 1 1 1 1 1 1 1 1 1\n",
      " 1 1 1 1 1 1 1 1 1 1 1 1 1 1 1 1 2 1 1 1 1 1 1 1 1 1 1 1 1 1 1 1 1 1 1 1 1\n",
      " 1 1 1 1 1 1 1 1 1 1 1 1 1 1 1 1 1 1 1 1 1 1 1 1 1 1 1 1 1 1 1 1 1 1 1 1 1\n",
      " 1 1 1 1 1 1 1 1 1 1 1 1 1 1 1 1 1 1 1 1 1 1 1 1 1 1 1 1 1 1 1 1 1 1 1 1 1\n",
      " 1 1 1 1 1 1 1 1 1 1 1 1 1 1 1 1 1 1 1 1 1 1 1 1 1 1 1 1 1 1 1 1 1 1 1 1 1\n",
      " 1 1 1 1 1 1 1 1 1 1 1 1 1 1 1 1 1 1 1 1 1 1 1 1 1 1 1 1 1 1 1 1 1 1 1 1 1\n",
      " 1 1 1 1 1 1 1 1 1 1 1 1 1 1 1 1 1 1 1 1 1 1 1 1 1 1 1 1 1 1 1 1 1 1 1 1 1\n",
      " 1 1 1 1 1 1 1 1 1 1 1 1 1 1 1 1 1 1 1 1 1 1 1 1 1 1 1 1 1 1 1 1 1 1 1 1 1\n",
      " 1 1 1 1 1 1 1 1 1 1 1 1 1 1 1 1 1 1 1 1 1 1 1 1 1 1 1 1 1 1 1 1 1 1 1 1 1\n",
      " 1 1 1 1 1 1 1 1 1 1 1 1 1 1 1 1 1 1 1 1 1 1 1 1 1 1 1 1 1 1 1 1 1 1 1 1 1\n",
      " 1 1 1 1 1 1 1 1 1 1 1 1 1 1 1 1 1 1 1 1 1 1 1 1 1 1 1 1 1 1 1 1 1 1 1 1 1\n",
      " 1 1 1 1 1 1 1 1 1 1 1 1 1 1 1 1 1 1 1 1 1 1 1 1 1 1 1 1 1 1 1 1 1 1 1 1 1\n",
      " 1 1 1 1 1 1 1 1 1 1 1 1 1 1 1 1 1 1 1 1 1 1 1 1 1 1 1 1 1 1 1 1 1 1 1 1 1\n",
      " 1 1 1 1 1 1 1 1 1 1 1 1 1 1 1 1 1 1 1 1 1 1 1]\n"
     ]
    }
   ],
   "source": [
    "# 模型預測後的標籤\n",
    "predict_label = np.argmax(y_pred,axis=1)\n",
    "print(predict_label)\n",
    "# print(len(predict_label))"
   ]
  },
  {
   "cell_type": "code",
   "execution_count": 37,
   "metadata": {},
   "outputs": [
    {
     "data": {
      "text/html": [
       "<div>\n",
       "<style scoped>\n",
       "    .dataframe tbody tr th:only-of-type {\n",
       "        vertical-align: middle;\n",
       "    }\n",
       "\n",
       "    .dataframe tbody tr th {\n",
       "        vertical-align: top;\n",
       "    }\n",
       "\n",
       "    .dataframe thead th {\n",
       "        text-align: right;\n",
       "    }\n",
       "</style>\n",
       "<table border=\"1\" class=\"dataframe\">\n",
       "  <thead>\n",
       "    <tr style=\"text-align: right;\">\n",
       "      <th>預測值</th>\n",
       "      <th>0</th>\n",
       "      <th>1</th>\n",
       "      <th>2</th>\n",
       "    </tr>\n",
       "    <tr>\n",
       "      <th>實際值</th>\n",
       "      <th></th>\n",
       "      <th></th>\n",
       "      <th></th>\n",
       "    </tr>\n",
       "  </thead>\n",
       "  <tbody>\n",
       "    <tr>\n",
       "      <th>0</th>\n",
       "      <td>0</td>\n",
       "      <td>243</td>\n",
       "      <td>0</td>\n",
       "    </tr>\n",
       "    <tr>\n",
       "      <th>1</th>\n",
       "      <td>1</td>\n",
       "      <td>290</td>\n",
       "      <td>2</td>\n",
       "    </tr>\n",
       "    <tr>\n",
       "      <th>2</th>\n",
       "      <td>0</td>\n",
       "      <td>264</td>\n",
       "      <td>0</td>\n",
       "    </tr>\n",
       "  </tbody>\n",
       "</table>\n",
       "</div>"
      ],
      "text/plain": [
       "預測值  0    1  2\n",
       "實際值           \n",
       "0    0  243  0\n",
       "1    1  290  2\n",
       "2    0  264  0"
      ]
     },
     "execution_count": 37,
     "metadata": {},
     "output_type": "execute_result"
    }
   ],
   "source": [
    "pd.crosstab(true_label,predict_label,rownames=['實際值'],colnames=['預測值'])"
   ]
  },
  {
   "cell_type": "code",
   "execution_count": 38,
   "metadata": {},
   "outputs": [
    {
     "name": "stdout",
     "output_type": "stream",
     "text": [
      "正确率为:36.25%\n"
     ]
    }
   ],
   "source": [
    "# 整體準確度\n",
    "count = 0\n",
    "for i in range(len(y_pred)):\n",
    "    if(np.argmax(y_pred[i]) == np.argmax(y_test[i])): #argmax函数找到最大值的索引，即为其类别\n",
    "        count += 1\n",
    "score = count/len(y_pred)\n",
    "print('正确率为:%.2f%s' % (score*100,'%'))"
   ]
  },
  {
   "cell_type": "markdown",
   "metadata": {},
   "source": [
    "## Test 3"
   ]
  },
  {
   "cell_type": "code",
   "execution_count": 39,
   "metadata": {},
   "outputs": [
    {
     "name": "stdout",
     "output_type": "stream",
     "text": [
      "芒果圖片數量:  5600\n",
      "x_l:  22400\n",
      "y_l:  22400\n"
     ]
    }
   ],
   "source": [
    "flip = 1; rotate = 0\n",
    "x_train, y_train = imgGenFunc(image_size, flip, rotate)"
   ]
  },
  {
   "cell_type": "code",
   "execution_count": 40,
   "metadata": {},
   "outputs": [
    {
     "name": "stdout",
     "output_type": "stream",
     "text": [
      "Start Time 2020-05-28 19:17:32.306679+08:00\n"
     ]
    }
   ],
   "source": [
    "# Print Start time\n",
    "from datetime import datetime, timezone\n",
    "import pytz\n",
    "\n",
    "tpe = pytz.timezone('Asia/Taipei')\n",
    "utc_start = datetime.now()\n",
    "print(\"Start Time\", tpe.fromutc(utc_start))"
   ]
  },
  {
   "cell_type": "code",
   "execution_count": 41,
   "metadata": {},
   "outputs": [
    {
     "name": "stdout",
     "output_type": "stream",
     "text": [
      "Train on 20160 samples, validate on 2240 samples\n",
      "Epoch 1/7\n",
      "20160/20160 [==============================] - 455s 23ms/sample - loss: 0.5557 - acc: 0.7579 - val_loss: 2.7903 - val_acc: 0.5478\n",
      "Epoch 2/7\n",
      "20160/20160 [==============================] - 422s 21ms/sample - loss: 0.5114 - acc: 0.7741 - val_loss: 0.7569 - val_acc: 0.6897\n",
      "Epoch 3/7\n",
      "20160/20160 [==============================] - 422s 21ms/sample - loss: 0.4961 - acc: 0.7789 - val_loss: 0.5956 - val_acc: 0.7496\n",
      "Epoch 4/7\n",
      "20160/20160 [==============================] - 422s 21ms/sample - loss: 0.4558 - acc: 0.7979 - val_loss: 0.7358 - val_acc: 0.7188\n",
      "Epoch 5/7\n",
      "20160/20160 [==============================] - 421s 21ms/sample - loss: 0.7026 - acc: 0.7190 - val_loss: 2.3169 - val_acc: 0.6580\n",
      "Epoch 6/7\n",
      "20160/20160 [==============================] - 421s 21ms/sample - loss: 0.5859 - acc: 0.7383 - val_loss: 0.6308 - val_acc: 0.7321\n",
      "Epoch 7/7\n",
      "20160/20160 [==============================] - 421s 21ms/sample - loss: 0.5029 - acc: 0.7755 - val_loss: 0.6112 - val_acc: 0.7286\n"
     ]
    }
   ],
   "source": [
    "### Start Training\n",
    "history_3 = model_3.fit(\n",
    "    x = x_train, \n",
    "    y = y_train, \n",
    "    batch_size = batch_size,\n",
    "    shuffle=True,\n",
    "    epochs = epochs,\n",
    "    validation_split=0.1\n",
    ")"
   ]
  },
  {
   "cell_type": "code",
   "execution_count": 42,
   "metadata": {},
   "outputs": [
    {
     "name": "stdout",
     "output_type": "stream",
     "text": [
      "Finish Training Time 2020-05-28 20:07:44.451280+08:00\n"
     ]
    },
    {
     "data": {
      "text/plain": [
       "(50, 12)"
      ]
     },
     "execution_count": 42,
     "metadata": {},
     "output_type": "execute_result"
    }
   ],
   "source": [
    "# Print Finish Training time\n",
    "tpe = pytz.timezone('Asia/Taipei')\n",
    "utc_finish = datetime.now()\n",
    "print(\"Finish Training Time\", tpe.fromutc(utc_finish))\n",
    "\n",
    "difference = utc_finish-utc_start\n",
    "seconds_in_day = 24 * 60 * 60\n",
    "divmod(difference.days * seconds_in_day + difference.seconds, 60)"
   ]
  },
  {
   "cell_type": "code",
   "execution_count": 43,
   "metadata": {},
   "outputs": [
    {
     "data": {
      "image/png": "[encoded data removed]",
      "text/plain": [
       "<Figure size 576x360 with 1 Axes>"
      ]
     },
     "metadata": {},
     "output_type": "display_data"
    }
   ],
   "source": [
    "plot_learning_curves(history_3)"
   ]
  },
  {
   "cell_type": "code",
   "execution_count": 44,
   "metadata": {},
   "outputs": [],
   "source": [
    "# 測試集標籤預測\n",
    "y_pred = model_3.predict(x_test)"
   ]
  },
  {
   "cell_type": "code",
   "execution_count": 45,
   "metadata": {},
   "outputs": [
    {
     "name": "stdout",
     "output_type": "stream",
     "text": [
      "[2 2 1 2 2 1 1 1 2 1 1 1 1 1 2 2 1 1 1 1 1 1 1 2 1 1 2 1 1 2 1 1 2 1 2 0 1\n",
      " 1 1 1 2 2 1 2 1 1 2 2 2 1 2 0 1 1 2 2 2 1 1 1 2 1 2 1 2 1 1 2 2 1 2 1 1 1\n",
      " 1 1 2 2 1 2 2 2 1 1 2 2 2 1 1 2 2 2 2 1 2 1 1 1 2 1 1 2 2 2 1 2 1 1 2 2 1\n",
      " 1 2 1 2 2 1 2 1 2 2 1 1 2 2 2 1 1 1 2 1 1 2 1 2 1 2 2 1 2 1 1 1 2 1 1 1 2\n",
      " 1 1 1 1 1 2 1 2 2 1 2 2 2 2 1 2 2 2 1 2 1 2 1 2 2 2 2 2 1 2 1 1 2 1 2 1 2\n",
      " 1 1 2 1 1 2 2 2 2 2 2 1 2 2 1 2 1 2 2 1 1 1 2 2 1 1 1 1 1 2 2 2 2 1 2 1 1\n",
      " 1 2 2 2 2 2 2 2 1 1 1 2 2 1 2 1 1 1 1 1 1 0 1 0 1 1 1 1 1 1 1 1 2 1 1 1 2\n",
      " 1 1 2 2 1 2 2 2 2 2 1 2 2 2 1 1 1 2 2 2 1 1 1 1 1 2 1 2 2 1 1 1 2 2 2 1 2\n",
      " 1 2 1 1 2 1 1 1 2 2 2 1 2 1 2 1 2 2 1 1 1 2 2 1 2 1 1 1 1 2 1 1 1 2 1 2 2\n",
      " 1 1 2 2 2 2 2 1 1 1 1 2 1 1 1 1 2 2 1 1 1 1 1 1 1 2 1 1 1 2 1 1 1 1 1 1 1\n",
      " 2 1 1 1 1 2 2 2 2 1 1 2 2 1 1 2 1 2 2 1 2 1 1 2 1 2 1 1 1 1 1 1 2 1 1 2 2\n",
      " 1 2 1 2 2 1 1 1 2 2 2 2 1 2 1 2 1 1 1 2 2 2 1 1 1 1 2 2 2 2 1 2 2 1 2 1 1\n",
      " 1 1 1 1 1 2 2 2 2 1 1 1 1 2 1 2 1 2 1 1 1 2 2 2 1 1 1 2 2 2 0 2 1 1 1 1 1\n",
      " 2 1 1 1 1 1 1 2 1 1 2 1 1 1 1 1 2 2 1 1 2 1 2 2 1 2 1 1 1 2 2 2 2 2 1 1 2\n",
      " 1 2 2 2 1 2 2 2 2 2 2 1 2 2 2 2 2 1 2 2 1 1 1 1 2 1 0 1 2 2 2 1 1 1 1 1 2\n",
      " 1 1 1 1 1 1 1 1 1 1 1 1 1 1 2 1 2 1 2 1 1 1 1 1 2 1 1 2 1 2 1 2 1 2 1 2 1\n",
      " 1 2 2 1 1 1 1 1 2 2 1 2 2 1 1 2 2 1 2 1 1 2 1 1 2 1 2 2 2 1 2 1 1 2 1 1 1\n",
      " 1 2 1 2 1 1 2 1 1 1 1 2 1 2 2 2 2 1 1 1 1 1 1 2 1 2 2 2 2 1 1 1 1 1 2 2 2\n",
      " 1 2 2 2 2 1 2 1 1 1 2 1 2 2 2 1 1 1 2 2 1 1 1 1 2 2 2 1 2 1 2 2 1 1 1 1 2\n",
      " 1 1 1 1 1 2 1 1 2 1 1 1 1 2 1 2 1 2 2 2 1 2 1 2 2 1 2 1 2 1 2 2 2 1 1 1 1\n",
      " 1 1 2 2 1 1 1 2 2 2 1 1 1 1 2 2 1 2 1 1 1 2 1 2 2 1 1 1 2 1 1 2 1 2 1 1 1\n",
      " 2 1 2 2 1 2 2 1 1 2 2 1 1 2 2 1 1 1 2 1 2 1 2]\n"
     ]
    }
   ],
   "source": [
    "# 模型預測後的標籤\n",
    "predict_label = np.argmax(y_pred,axis=1)\n",
    "print(predict_label)\n",
    "# print(len(predict_label))"
   ]
  },
  {
   "cell_type": "code",
   "execution_count": 46,
   "metadata": {},
   "outputs": [
    {
     "data": {
      "text/html": [
       "<div>\n",
       "<style scoped>\n",
       "    .dataframe tbody tr th:only-of-type {\n",
       "        vertical-align: middle;\n",
       "    }\n",
       "\n",
       "    .dataframe tbody tr th {\n",
       "        vertical-align: top;\n",
       "    }\n",
       "\n",
       "    .dataframe thead th {\n",
       "        text-align: right;\n",
       "    }\n",
       "</style>\n",
       "<table border=\"1\" class=\"dataframe\">\n",
       "  <thead>\n",
       "    <tr style=\"text-align: right;\">\n",
       "      <th>預測值</th>\n",
       "      <th>0</th>\n",
       "      <th>1</th>\n",
       "      <th>2</th>\n",
       "    </tr>\n",
       "    <tr>\n",
       "      <th>實際值</th>\n",
       "      <th></th>\n",
       "      <th></th>\n",
       "      <th></th>\n",
       "    </tr>\n",
       "  </thead>\n",
       "  <tbody>\n",
       "    <tr>\n",
       "      <th>0</th>\n",
       "      <td>5</td>\n",
       "      <td>163</td>\n",
       "      <td>75</td>\n",
       "    </tr>\n",
       "    <tr>\n",
       "      <th>1</th>\n",
       "      <td>1</td>\n",
       "      <td>158</td>\n",
       "      <td>134</td>\n",
       "    </tr>\n",
       "    <tr>\n",
       "      <th>2</th>\n",
       "      <td>0</td>\n",
       "      <td>125</td>\n",
       "      <td>139</td>\n",
       "    </tr>\n",
       "  </tbody>\n",
       "</table>\n",
       "</div>"
      ],
      "text/plain": [
       "預測值  0    1    2\n",
       "實際值             \n",
       "0    5  163   75\n",
       "1    1  158  134\n",
       "2    0  125  139"
      ]
     },
     "execution_count": 46,
     "metadata": {},
     "output_type": "execute_result"
    }
   ],
   "source": [
    "pd.crosstab(true_label,predict_label,rownames=['實際值'],colnames=['預測值'])"
   ]
  },
  {
   "cell_type": "code",
   "execution_count": 47,
   "metadata": {},
   "outputs": [
    {
     "name": "stdout",
     "output_type": "stream",
     "text": [
      "正确率为:37.75%\n"
     ]
    }
   ],
   "source": [
    "# 整體準確度\n",
    "count = 0\n",
    "for i in range(len(y_pred)):\n",
    "    if(np.argmax(y_pred[i]) == np.argmax(y_test[i])): #argmax函数找到最大值的索引，即为其类别\n",
    "        count += 1\n",
    "score = count/len(y_pred)\n",
    "print('正确率为:%.2f%s' % (score*100,'%'))"
   ]
  },
  {
   "cell_type": "markdown",
   "metadata": {},
   "source": [
    "## Test 4"
   ]
  },
  {
   "cell_type": "code",
   "execution_count": 48,
   "metadata": {},
   "outputs": [
    {
     "name": "stdout",
     "output_type": "stream",
     "text": [
      "芒果圖片數量:  5600\n",
      "x_l:  33600\n",
      "y_l:  33600\n"
     ]
    }
   ],
   "source": [
    "flip = 1; rotate = 1\n",
    "x_train, y_train = imgGenFunc(image_size, flip, rotate)"
   ]
  },
  {
   "cell_type": "code",
   "execution_count": 49,
   "metadata": {},
   "outputs": [
    {
     "name": "stdout",
     "output_type": "stream",
     "text": [
      "Start Time 2020-05-28 20:09:15.345326+08:00\n"
     ]
    }
   ],
   "source": [
    "# Print Start time\n",
    "from datetime import datetime, timezone\n",
    "import pytz\n",
    "\n",
    "tpe = pytz.timezone('Asia/Taipei')\n",
    "utc_start = datetime.now()\n",
    "print(\"Start Time\", tpe.fromutc(utc_start))"
   ]
  },
  {
   "cell_type": "code",
   "execution_count": 50,
   "metadata": {},
   "outputs": [
    {
     "name": "stdout",
     "output_type": "stream",
     "text": [
      "Train on 30240 samples, validate on 3360 samples\n",
      "Epoch 1/7\n",
      "30240/30240 [==============================] - 668s 22ms/sample - loss: 0.5188 - acc: 0.7706 - val_loss: 0.6939 - val_acc: 0.7196\n",
      "Epoch 2/7\n",
      "30240/30240 [==============================] - 632s 21ms/sample - loss: 0.4700 - acc: 0.7945 - val_loss: 0.5104 - val_acc: 0.7818\n",
      "Epoch 3/7\n",
      "30240/30240 [==============================] - 632s 21ms/sample - loss: 0.4318 - acc: 0.8106 - val_loss: 0.7071 - val_acc: 0.6792\n",
      "Epoch 4/7\n",
      "30240/30240 [==============================] - 632s 21ms/sample - loss: 0.4779 - acc: 0.8019 - val_loss: 0.8347 - val_acc: 0.7000\n",
      "Epoch 5/7\n",
      "30240/30240 [==============================] - 632s 21ms/sample - loss: 0.4553 - acc: 0.8021 - val_loss: 0.6234 - val_acc: 0.7598\n",
      "Epoch 6/7\n",
      "30240/30240 [==============================] - 633s 21ms/sample - loss: 0.3667 - acc: 0.8423 - val_loss: 0.8451 - val_acc: 0.6744\n",
      "Epoch 7/7\n",
      "30240/30240 [==============================] - 633s 21ms/sample - loss: 0.3122 - acc: 0.8673 - val_loss: 1.0941 - val_acc: 0.6673\n"
     ]
    }
   ],
   "source": [
    "### Start Training\n",
    "history_4 = model_4.fit(\n",
    "    x = x_train, \n",
    "    y = y_train, \n",
    "    batch_size = batch_size,\n",
    "    shuffle=True,\n",
    "    epochs = epochs,\n",
    "    validation_split=0.1\n",
    ")"
   ]
  },
  {
   "cell_type": "code",
   "execution_count": 51,
   "metadata": {},
   "outputs": [
    {
     "name": "stdout",
     "output_type": "stream",
     "text": [
      "Finish Training Time 2020-05-28 21:24:07.044799+08:00\n"
     ]
    },
    {
     "data": {
      "text/plain": [
       "(74, 51)"
      ]
     },
     "execution_count": 51,
     "metadata": {},
     "output_type": "execute_result"
    }
   ],
   "source": [
    "# Print Finish Training time\n",
    "tpe = pytz.timezone('Asia/Taipei')\n",
    "utc_finish = datetime.now()\n",
    "print(\"Finish Training Time\", tpe.fromutc(utc_finish))\n",
    "\n",
    "difference = utc_finish-utc_start\n",
    "seconds_in_day = 24 * 60 * 60\n",
    "divmod(difference.days * seconds_in_day + difference.seconds, 60)"
   ]
  },
  {
   "cell_type": "code",
   "execution_count": 52,
   "metadata": {},
   "outputs": [
    {
     "data": {
      "image/png": "[encoded data removed]",
      "text/plain": [
       "<Figure size 576x360 with 1 Axes>"
      ]
     },
     "metadata": {},
     "output_type": "display_data"
    }
   ],
   "source": [
    "plot_learning_curves(history_4)"
   ]
  },
  {
   "cell_type": "code",
   "execution_count": 53,
   "metadata": {},
   "outputs": [],
   "source": [
    "# 測試集標籤預測\n",
    "y_pred = model_4.predict(x_test)"
   ]
  },
  {
   "cell_type": "code",
   "execution_count": 54,
   "metadata": {},
   "outputs": [
    {
     "name": "stdout",
     "output_type": "stream",
     "text": [
      "[2 1 2 2 2 2 1 1 1 1 1 2 2 1 1 1 2 2 1 1 1 2 1 0 1 1 1 1 0 1 1 2 2 1 0 1 0\n",
      " 0 1 2 2 2 1 2 1 1 2 1 1 2 1 1 1 1 1 2 1 1 1 1 1 1 1 1 1 2 1 1 1 1 1 2 1 1\n",
      " 1 2 0 1 1 2 1 2 1 2 1 1 2 1 1 2 1 2 1 2 1 1 1 0 1 1 2 2 1 1 1 2 2 1 1 2 1\n",
      " 1 1 2 1 1 1 2 1 1 1 2 2 1 1 1 1 1 1 2 2 1 2 1 2 1 1 1 1 1 0 2 1 0 1 1 1 2\n",
      " 1 1 1 1 1 1 1 1 2 0 2 2 1 2 1 1 1 1 2 2 1 1 1 1 1 1 1 1 1 2 1 1 1 1 1 2 2\n",
      " 1 0 1 1 1 1 1 2 1 1 1 2 1 1 2 1 1 1 2 0 1 1 2 2 1 1 1 1 0 1 1 2 1 1 1 1 0\n",
      " 1 1 1 2 1 1 2 1 1 0 1 1 2 2 2 0 0 1 1 1 1 0 1 1 1 1 2 2 2 2 1 2 1 2 1 2 1\n",
      " 1 2 1 1 1 1 1 2 1 1 2 1 2 1 1 2 2 2 2 1 0 1 1 1 0 2 2 2 1 1 2 1 2 1 1 1 0\n",
      " 0 2 1 0 2 1 1 0 2 1 1 1 2 2 1 1 2 2 1 0 0 1 2 0 2 1 1 1 1 1 1 1 0 1 1 1 2\n",
      " 1 1 1 2 2 2 2 1 2 1 1 2 1 2 1 0 2 1 2 1 1 2 1 1 1 1 2 2 1 2 0 0 1 1 1 1 1\n",
      " 1 2 1 2 1 2 2 1 2 2 0 1 1 1 1 1 1 2 2 2 1 1 0 1 1 1 2 1 2 1 0 0 1 0 2 1 2\n",
      " 1 1 1 2 1 1 2 2 2 1 2 1 1 1 2 1 1 1 1 2 1 2 1 1 2 2 0 1 2 2 1 1 2 1 2 1 0\n",
      " 0 0 1 1 0 1 1 1 2 0 0 0 2 2 1 1 2 1 1 1 1 1 2 0 1 2 1 2 1 1 2 1 1 1 0 2 1\n",
      " 1 2 0 1 2 1 1 2 1 1 1 1 0 1 1 0 2 2 1 1 1 0 1 1 1 1 2 1 2 1 2 1 0 2 2 1 1\n",
      " 1 1 1 1 2 1 2 1 2 2 1 1 1 1 1 1 2 2 1 2 1 0 1 1 1 1 2 1 1 1 1 0 2 0 1 0 1\n",
      " 0 1 2 1 2 0 1 1 2 1 1 0 0 1 1 2 2 2 1 1 1 1 1 2 1 1 1 2 1 1 0 1 1 1 2 1 2\n",
      " 1 2 2 1 0 1 1 1 1 1 2 1 1 2 1 1 2 1 1 1 1 1 1 1 2 1 2 2 1 1 2 1 0 1 1 2 1\n",
      " 1 1 1 1 2 1 2 2 0 1 1 2 1 1 1 1 1 0 1 1 1 1 2 1 1 1 1 1 1 1 1 2 1 1 2 1 2\n",
      " 0 1 2 1 1 1 2 2 2 1 2 0 2 2 1 1 1 1 2 2 1 1 2 2 1 1 1 2 1 1 2 1 1 1 1 1 2\n",
      " 2 2 2 1 2 1 1 1 1 0 2 1 1 1 1 1 2 2 1 1 1 2 1 2 1 1 1 2 2 1 1 2 0 1 1 1 1\n",
      " 1 0 1 1 1 1 2 2 2 1 1 1 0 0 2 1 1 2 1 1 1 1 0 2 2 1 2 1 1 1 1 1 1 1 0 1 2\n",
      " 1 2 1 2 0 1 2 1 1 2 1 1 2 2 2 1 1 2 1 1 1 1 0]\n"
     ]
    }
   ],
   "source": [
    "# 模型預測後的標籤\n",
    "predict_label = np.argmax(y_pred,axis=1)\n",
    "print(predict_label)\n",
    "# print(len(predict_label))"
   ]
  },
  {
   "cell_type": "code",
   "execution_count": 55,
   "metadata": {},
   "outputs": [
    {
     "data": {
      "text/html": [
       "<div>\n",
       "<style scoped>\n",
       "    .dataframe tbody tr th:only-of-type {\n",
       "        vertical-align: middle;\n",
       "    }\n",
       "\n",
       "    .dataframe tbody tr th {\n",
       "        vertical-align: top;\n",
       "    }\n",
       "\n",
       "    .dataframe thead th {\n",
       "        text-align: right;\n",
       "    }\n",
       "</style>\n",
       "<table border=\"1\" class=\"dataframe\">\n",
       "  <thead>\n",
       "    <tr style=\"text-align: right;\">\n",
       "      <th>預測值</th>\n",
       "      <th>0</th>\n",
       "      <th>1</th>\n",
       "      <th>2</th>\n",
       "    </tr>\n",
       "    <tr>\n",
       "      <th>實際值</th>\n",
       "      <th></th>\n",
       "      <th></th>\n",
       "      <th></th>\n",
       "    </tr>\n",
       "  </thead>\n",
       "  <tbody>\n",
       "    <tr>\n",
       "      <th>0</th>\n",
       "      <td>47</td>\n",
       "      <td>125</td>\n",
       "      <td>71</td>\n",
       "    </tr>\n",
       "    <tr>\n",
       "      <th>1</th>\n",
       "      <td>15</td>\n",
       "      <td>193</td>\n",
       "      <td>85</td>\n",
       "    </tr>\n",
       "    <tr>\n",
       "      <th>2</th>\n",
       "      <td>13</td>\n",
       "      <td>173</td>\n",
       "      <td>78</td>\n",
       "    </tr>\n",
       "  </tbody>\n",
       "</table>\n",
       "</div>"
      ],
      "text/plain": [
       "預測值   0    1   2\n",
       "實際值             \n",
       "0    47  125  71\n",
       "1    15  193  85\n",
       "2    13  173  78"
      ]
     },
     "execution_count": 55,
     "metadata": {},
     "output_type": "execute_result"
    }
   ],
   "source": [
    "pd.crosstab(true_label,predict_label,rownames=['實際值'],colnames=['預測值'])"
   ]
  },
  {
   "cell_type": "code",
   "execution_count": 56,
   "metadata": {},
   "outputs": [
    {
     "name": "stdout",
     "output_type": "stream",
     "text": [
      "正确率为:39.75%\n"
     ]
    }
   ],
   "source": [
    "# 整體準確度\n",
    "count = 0\n",
    "for i in range(len(y_pred)):\n",
    "    if(np.argmax(y_pred[i]) == np.argmax(y_test[i])): #argmax函数找到最大值的索引，即为其类别\n",
    "        count += 1\n",
    "score = count/len(y_pred)\n",
    "print('正确率为:%.2f%s' % (score*100,'%'))"
   ]
  }
 ],
 "metadata": {
  "environment": {
   "name": "tf2-gpu.2-1.m46",
   "type": "gcloud",
   "uri": "gcr.io/deeplearning-platform-release/tf2-gpu.2-1:m46"
  },
  "kernelspec": {
   "display_name": "conda_tensorflow_p36",
   "language": "python",
   "name": "conda_tensorflow_p36"
  },
  "language_info": {
   "codemirror_mode": {
    "name": "ipython",
    "version": 3
   },
   "file_extension": ".py",
   "mimetype": "text/x-python",
   "name": "python",
   "nbconvert_exporter": "python",
   "pygments_lexer": "ipython3",
   "version": "3.6.6"
  }
 },
 "nbformat": 4,
 "nbformat_minor": 4
}
