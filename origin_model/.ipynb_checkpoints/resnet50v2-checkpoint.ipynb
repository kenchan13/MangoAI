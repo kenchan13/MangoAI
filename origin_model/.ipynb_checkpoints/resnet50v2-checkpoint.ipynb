{
 "cells": [
  {
   "cell_type": "code",
   "execution_count": 25,
   "metadata": {},
   "outputs": [],
   "source": [
    "# 設定超參數HyperParameters \n",
    "batch_size =  128\n",
    "epochs = 1000\n",
    "image_size = 128\n",
    "lr=0.01"
   ]
  },
  {
   "cell_type": "markdown",
   "metadata": {},
   "source": [
    "## 一、載入相關套件"
   ]
  },
  {
   "cell_type": "code",
   "execution_count": 2,
   "metadata": {},
   "outputs": [],
   "source": [
    "import os\n",
    "import cv2\n",
    "import csv\n",
    "import random\n",
    "import time\n",
    "import numpy as np\n",
    "import pandas as pd\n",
    "import matplotlib.image as mpimg # mpimg 用於讀取圖片\n",
    "import matplotlib.pyplot as plt # plt 用於顯示圖片\n",
    "import seaborn as sns"
   ]
  },
  {
   "cell_type": "code",
   "execution_count": 3,
   "metadata": {},
   "outputs": [
    {
     "name": "stdout",
     "output_type": "stream",
     "text": [
      "WARNING:tensorflow:From /home/ec2-user/anaconda3/envs/tensorflow_p36/lib/python3.6/site-packages/tensorflow_core/__init__.py:1473: The name tf.estimator.inputs is deprecated. Please use tf.compat.v1.estimator.inputs instead.\n",
      "\n"
     ]
    }
   ],
   "source": [
    "import tensorflow as tf\n",
    "\n",
    "from tensorflow.keras.applications.vgg19 import VGG19\n",
    "from tensorflow.keras.preprocessing import image\n",
    "from tensorflow.keras.applications.vgg19 import preprocess_input\n",
    "from tensorflow.keras import Model\n",
    "from tensorflow.keras.preprocessing.image import ImageDataGenerator, array_to_img, img_to_array, load_img\n",
    "from tensorflow.keras.utils import to_categorical\n",
    "from tensorflow.keras import utils as np_utils\n",
    "from tensorflow import keras\n",
    "from tensorflow.keras import optimizers\n",
    "from tensorflow.keras.layers import Input, Dropout, Flatten, Convolution2D, MaxPooling2D, ZeroPadding2D, Dense, Activation, Conv2DTranspose"
   ]
  },
  {
   "cell_type": "code",
   "execution_count": 4,
   "metadata": {},
   "outputs": [
    {
     "name": "stdout",
     "output_type": "stream",
     "text": [
      "1 Physical GPUs, 1 Logical GPUs\n"
     ]
    }
   ],
   "source": [
    "gpus = tf.config.experimental.list_physical_devices('GPU')\n",
    "if gpus:\n",
    "    try:\n",
    "        # Currently, memory growth needs to be the same across GPUs\n",
    "        for gpu in gpus:\n",
    "            tf.config.experimental.set_memory_growth(gpu, True)\n",
    "        tf.config.experimental.set_visible_devices(gpus[0], 'GPU')\n",
    "        logical_gpus = tf.config.experimental.list_logical_devices('GPU')\n",
    "        print(len(gpus), \"Physical GPUs,\", len(logical_gpus), \"Logical GPUs\")\n",
    "    except RuntimeError as e:\n",
    "        # Memory growth must be set before GPUs have been initialized\n",
    "        print(e)"
   ]
  },
  {
   "cell_type": "code",
   "execution_count": 5,
   "metadata": {},
   "outputs": [
    {
     "name": "stdout",
     "output_type": "stream",
     "text": [
      "Start Time 2020-05-21 00:15:36.188361+08:00\n"
     ]
    }
   ],
   "source": [
    "# Print Start time\n",
    "from datetime import datetime, timezone\n",
    "import pytz\n",
    "\n",
    "tpe = pytz.timezone('Asia/Taipei')\n",
    "utc_start = datetime.now()\n",
    "print(\"Start Time\", tpe.fromutc(utc_start))"
   ]
  },
  {
   "cell_type": "markdown",
   "metadata": {},
   "source": [
    "## 製作標籤&資料集"
   ]
  },
  {
   "cell_type": "code",
   "execution_count": 6,
   "metadata": {},
   "outputs": [],
   "source": [
    "csvfile = open('train.csv')\n",
    "reader = csv.reader(csvfile)"
   ]
  },
  {
   "cell_type": "code",
   "execution_count": 7,
   "metadata": {},
   "outputs": [],
   "source": [
    "# 讀取csv標籤\n",
    "labels = []\n",
    "for line in reader:\n",
    "    tmp = [line[0],line[1]]\n",
    "    # print tmp\n",
    "    labels.append(tmp)\n",
    "csvfile.close() "
   ]
  },
  {
   "cell_type": "code",
   "execution_count": 8,
   "metadata": {},
   "outputs": [
    {
     "name": "stdout",
     "output_type": "stream",
     "text": [
      "芒果圖片數量:  5600\n"
     ]
    }
   ],
   "source": [
    "# remove the first row\n",
    "labels = labels[1:]\n",
    "print(\"芒果圖片數量: \",len(labels))"
   ]
  },
  {
   "cell_type": "code",
   "execution_count": 9,
   "metadata": {},
   "outputs": [],
   "source": [
    "# 轉換圖片的標籤\n",
    "for i in range(len(labels)):\n",
    "    labels[i][1] = labels[i][1].replace(\"A\",\"0\")\n",
    "    labels[i][1] = labels[i][1].replace(\"B\",\"1\")\n",
    "    labels[i][1] = labels[i][1].replace(\"C\",\"2\")"
   ]
  },
  {
   "cell_type": "code",
   "execution_count": 10,
   "metadata": {},
   "outputs": [],
   "source": [
    "# 隨機讀取圖片\n",
    "a = 0\n",
    "items= []\n",
    "import random\n",
    "for a in range(0,len(labels)):\n",
    "    items.append(a)"
   ]
  },
  {
   "cell_type": "code",
   "execution_count": 26,
   "metadata": {},
   "outputs": [],
   "source": [
    "# 製作訓練用資料集及標籤\n",
    "# Wait for a while\n",
    "X = []\n",
    "y = []\n",
    "\n",
    "for i in random.sample(items, round(len(items))):\n",
    "    img = cv2.imread(\"C1-P1_Train/\" + labels[i][0] )\n",
    "    res = cv2.resize(img,(image_size,image_size),interpolation=cv2.INTER_LINEAR)\n",
    "    res = img_to_array(res)\n",
    "    X.append(res)    \n",
    "    y.append(labels[i][1])"
   ]
  },
  {
   "cell_type": "code",
   "execution_count": 27,
   "metadata": {},
   "outputs": [],
   "source": [
    "# 轉換至array的格式\n",
    "X = np.array(X)\n",
    "y = np.array(y)"
   ]
  },
  {
   "cell_type": "code",
   "execution_count": 28,
   "metadata": {},
   "outputs": [],
   "source": [
    "# 轉換至float的格式\n",
    "for i in range(len(X)):\n",
    "    X[i] = X[i].astype('float32')"
   ]
  },
  {
   "cell_type": "code",
   "execution_count": 29,
   "metadata": {},
   "outputs": [],
   "source": [
    "# 標籤進行one-hotencoding\n",
    "y = np_utils.to_categorical(y)"
   ]
  },
  {
   "cell_type": "code",
   "execution_count": 30,
   "metadata": {},
   "outputs": [],
   "source": [
    "# 分配訓練集及測試集比例\n",
    "x_train = X\n",
    "y_train = y"
   ]
  },
  {
   "cell_type": "markdown",
   "metadata": {},
   "source": [
    "## 建立Model"
   ]
  },
  {
   "cell_type": "code",
   "execution_count": 31,
   "metadata": {},
   "outputs": [],
   "source": [
    "model_vgg16 = VGG19(weights='imagenet', include_top=False)\n",
    "\n",
    "input = Input( shape=(image_size,image_size,3),name = 'image_input' )\n",
    "output_vgg16_conv = model_vgg16(input)"
   ]
  },
  {
   "cell_type": "code",
   "execution_count": 32,
   "metadata": {},
   "outputs": [],
   "source": [
    "## 由於該問題是分 3 類，需要在最後修改 Dense(3)，softmax 代表 output 是機率  \n",
    "#Add the fully-connected layers \n",
    "p = Flatten()(output_vgg16_conv)\n",
    "p = Dense(256,activation = 'relu')(p)\n",
    "p = Dropout(0.2)(p)\n",
    "p = Dense(3, activation='softmax', name='predictions')(p)\n",
    "\n",
    "model = Model(inputs=input, outputs=p)"
   ]
  },
  {
   "cell_type": "code",
   "execution_count": 33,
   "metadata": {},
   "outputs": [],
   "source": [
    "adam = optimizers.Adam(lr=lr)\n",
    "model.compile(optimizer='adam',\n",
    "              loss=tf.keras.losses.CategoricalCrossentropy(),\n",
    "              metrics=['acc'])"
   ]
  },
  {
   "cell_type": "code",
   "execution_count": 34,
   "metadata": {},
   "outputs": [],
   "source": [
    "# model.summary()"
   ]
  },
  {
   "cell_type": "markdown",
   "metadata": {},
   "source": [
    "## 訓練"
   ]
  },
  {
   "cell_type": "code",
   "execution_count": 35,
   "metadata": {},
   "outputs": [],
   "source": [
    "# zca_whitening 對輸入數據施加ZCA白化\n",
    "# rotation_range 數據提升時圖片隨機轉動的角度\n",
    "# width_shift_range 圖片寬度的某個比例，數據提升時圖片水平偏移的幅度\n",
    "# shear_range 剪切強度（逆時針方向的剪切變換角度）\n",
    "# zoom_range 隨機縮放的幅度\n",
    "# horizontal_flip 進行隨機水平翻轉\n",
    "# fill_mode ‘constant’，‘nearest’，‘reflect’或‘wrap’之一，當進行變換時超出邊界的點將根據本參數給定的方法進行處理\n",
    "\n",
    "datagen = ImageDataGenerator(\n",
    "    zca_whitening=False,\n",
    "    rotation_range=40,\n",
    "    width_shift_range=0.2,\n",
    "    height_shift_range=0.2,\n",
    "    shear_range=0.2,\n",
    "    zoom_range=0.2,\n",
    "    horizontal_flip=True,\n",
    "    vertical_flip=True,\n",
    "    fill_mode='nearest')"
   ]
  },
  {
   "cell_type": "code",
   "execution_count": 36,
   "metadata": {},
   "outputs": [
    {
     "name": "stdout",
     "output_type": "stream",
     "text": [
      "rescale！done!\n"
     ]
    }
   ],
   "source": [
    "# 導入圖像增強參數\n",
    "datagen.fit(x_train)\n",
    "# x_train = x_train/255\n",
    "print('rescale！done!')"
   ]
  },
  {
   "cell_type": "code",
   "execution_count": 37,
   "metadata": {},
   "outputs": [],
   "source": [
    "# 檔名設定\n",
    "file_name = str(epochs)+'_'+str(batch_size)"
   ]
  },
  {
   "cell_type": "code",
   "execution_count": 38,
   "metadata": {},
   "outputs": [],
   "source": [
    "# 加入EarlyStopping以及Tensorboard等回調函數\n",
    "CB = tf.keras.callbacks.EarlyStopping(monitor='val_loss', patience=10)\n",
    "TB = keras.callbacks.TensorBoard(log_dir='./log'+\"_\"+file_name, histogram_freq=1)"
   ]
  },
  {
   "cell_type": "raw",
   "metadata": {
    "scrolled": true
   },
   "source": [
    "### Start Training\n",
    "history = model.fit(\n",
    "    x = x_train , y = y_train,\n",
    "    batch_size = batch_size,\n",
    "    epochs = epochs,\n",
    "    validation_split = 0.1\n",
    ")"
   ]
  },
  {
   "cell_type": "code",
   "execution_count": null,
   "metadata": {
    "scrolled": true
   },
   "outputs": [
    {
     "name": "stdout",
     "output_type": "stream",
     "text": [
      "Epoch 1/1000\n",
      "44/44 [==============================] - 70s 2s/step - loss: 4.2700 - acc: 0.3595\n",
      "Epoch 2/1000\n",
      "44/44 [==============================] - 51s 1s/step - loss: 1.0926 - acc: 0.3746\n",
      "Epoch 3/1000\n",
      "44/44 [==============================] - 51s 1s/step - loss: 1.0492 - acc: 0.4275\n",
      "Epoch 4/1000\n",
      "44/44 [==============================] - 51s 1s/step - loss: 0.9729 - acc: 0.4902\n",
      "Epoch 5/1000\n",
      "44/44 [==============================] - 51s 1s/step - loss: 0.9659 - acc: 0.5052\n",
      "Epoch 6/1000\n",
      "44/44 [==============================] - 51s 1s/step - loss: 0.9678 - acc: 0.5036\n",
      "Epoch 7/1000\n",
      "44/44 [==============================] - 51s 1s/step - loss: 0.9492 - acc: 0.5136\n",
      "Epoch 8/1000\n",
      "44/44 [==============================] - 51s 1s/step - loss: 0.9408 - acc: 0.5261\n",
      "Epoch 9/1000\n",
      "44/44 [==============================] - 51s 1s/step - loss: 0.9412 - acc: 0.5314\n",
      "Epoch 10/1000\n",
      "44/44 [==============================] - 51s 1s/step - loss: 0.9366 - acc: 0.5409\n",
      "Epoch 11/1000\n",
      "44/44 [==============================] - 51s 1s/step - loss: 0.9364 - acc: 0.5387\n",
      "Epoch 12/1000\n",
      "44/44 [==============================] - 52s 1s/step - loss: 0.9335 - acc: 0.5373\n",
      "Epoch 13/1000\n",
      "44/44 [==============================] - 52s 1s/step - loss: 0.9638 - acc: 0.5191\n",
      "Epoch 14/1000\n",
      "44/44 [==============================] - 52s 1s/step - loss: 0.9267 - acc: 0.5377\n",
      "Epoch 15/1000\n",
      "44/44 [==============================] - 52s 1s/step - loss: 0.9163 - acc: 0.5487\n",
      "Epoch 16/1000\n",
      "44/44 [==============================] - 52s 1s/step - loss: 0.9140 - acc: 0.5577\n",
      "Epoch 17/1000\n",
      "44/44 [==============================] - 52s 1s/step - loss: 0.9131 - acc: 0.5604\n",
      "Epoch 18/1000\n",
      "44/44 [==============================] - 53s 1s/step - loss: 0.8707 - acc: 0.5993\n",
      "Epoch 19/1000\n",
      "44/44 [==============================] - 53s 1s/step - loss: 0.9324 - acc: 0.5238\n",
      "Epoch 20/1000\n",
      "44/44 [==============================] - 52s 1s/step - loss: 0.9526 - acc: 0.4975\n",
      "Epoch 21/1000\n",
      "44/44 [==============================] - 52s 1s/step - loss: 0.9461 - acc: 0.5086\n",
      "Epoch 22/1000\n",
      "44/44 [==============================] - 53s 1s/step - loss: 0.9364 - acc: 0.5173\n",
      "Epoch 23/1000\n",
      "44/44 [==============================] - 52s 1s/step - loss: 0.9328 - acc: 0.5227\n",
      "Epoch 24/1000\n",
      "44/44 [==============================] - 53s 1s/step - loss: 0.9005 - acc: 0.5587\n",
      "Epoch 25/1000\n",
      "44/44 [==============================] - 53s 1s/step - loss: 0.8331 - acc: 0.6187\n",
      "Epoch 26/1000\n",
      "44/44 [==============================] - 53s 1s/step - loss: 0.7784 - acc: 0.6598\n",
      "Epoch 27/1000\n",
      "44/44 [==============================] - 53s 1s/step - loss: 0.7376 - acc: 0.6698\n",
      "Epoch 28/1000\n",
      "44/44 [==============================] - 53s 1s/step - loss: 0.7063 - acc: 0.6830\n",
      "Epoch 29/1000\n",
      "44/44 [==============================] - 53s 1s/step - loss: 0.6927 - acc: 0.6879\n",
      "Epoch 30/1000\n",
      "44/44 [==============================] - 53s 1s/step - loss: 0.6941 - acc: 0.6855\n",
      "Epoch 31/1000\n",
      "44/44 [==============================] - 53s 1s/step - loss: 0.6538 - acc: 0.7073\n",
      "Epoch 32/1000\n",
      "44/44 [==============================] - 53s 1s/step - loss: 0.6507 - acc: 0.7088\n",
      "Epoch 33/1000\n",
      "44/44 [==============================] - 53s 1s/step - loss: 0.6335 - acc: 0.7180\n",
      "Epoch 34/1000\n",
      "44/44 [==============================] - 53s 1s/step - loss: 0.6216 - acc: 0.7209\n",
      "Epoch 35/1000\n",
      "44/44 [==============================] - 53s 1s/step - loss: 0.6122 - acc: 0.7284\n",
      "Epoch 36/1000\n",
      "44/44 [==============================] - 53s 1s/step - loss: 0.6459 - acc: 0.7095\n",
      "Epoch 37/1000\n",
      "44/44 [==============================] - 53s 1s/step - loss: 0.6297 - acc: 0.7179\n",
      "Epoch 38/1000\n",
      "44/44 [==============================] - 53s 1s/step - loss: 0.6041 - acc: 0.7273\n",
      "Epoch 39/1000\n",
      "44/44 [==============================] - 53s 1s/step - loss: 0.5932 - acc: 0.7339\n",
      "Epoch 40/1000\n",
      "44/44 [==============================] - 53s 1s/step - loss: 0.6155 - acc: 0.7214\n",
      "Epoch 41/1000\n",
      "44/44 [==============================] - 53s 1s/step - loss: 0.5957 - acc: 0.7339\n",
      "Epoch 42/1000\n",
      "44/44 [==============================] - 52s 1s/step - loss: 0.6049 - acc: 0.7225\n",
      "Epoch 43/1000\n",
      "44/44 [==============================] - 53s 1s/step - loss: 0.5949 - acc: 0.7337\n",
      "Epoch 44/1000\n",
      "44/44 [==============================] - 53s 1s/step - loss: 0.6143 - acc: 0.7316\n",
      "Epoch 45/1000\n",
      "44/44 [==============================] - 53s 1s/step - loss: 0.5904 - acc: 0.7300\n",
      "Epoch 46/1000\n",
      "44/44 [==============================] - 53s 1s/step - loss: 0.5918 - acc: 0.7339\n",
      "Epoch 47/1000\n",
      "44/44 [==============================] - 53s 1s/step - loss: 0.5804 - acc: 0.7395\n",
      "Epoch 48/1000\n",
      "44/44 [==============================] - 53s 1s/step - loss: 0.5785 - acc: 0.7404\n",
      "Epoch 49/1000\n",
      "44/44 [==============================] - 53s 1s/step - loss: 0.5847 - acc: 0.7350\n",
      "Epoch 50/1000\n",
      "44/44 [==============================] - 53s 1s/step - loss: 0.5712 - acc: 0.7430\n",
      "Epoch 51/1000\n",
      "44/44 [==============================] - 53s 1s/step - loss: 0.5753 - acc: 0.7429\n",
      "Epoch 52/1000\n",
      "44/44 [==============================] - 53s 1s/step - loss: 0.5823 - acc: 0.7398\n",
      "Epoch 53/1000\n",
      "44/44 [==============================] - 53s 1s/step - loss: 0.5738 - acc: 0.7429\n",
      "Epoch 54/1000\n",
      "44/44 [==============================] - 53s 1s/step - loss: 0.5739 - acc: 0.7352\n",
      "Epoch 55/1000\n",
      "44/44 [==============================] - 53s 1s/step - loss: 0.5956 - acc: 0.7368\n",
      "Epoch 56/1000\n",
      "44/44 [==============================] - 53s 1s/step - loss: 0.5730 - acc: 0.7434\n",
      "Epoch 57/1000\n",
      "44/44 [==============================] - 53s 1s/step - loss: 0.5691 - acc: 0.7461\n",
      "Epoch 58/1000\n",
      "44/44 [==============================] - 53s 1s/step - loss: 0.5777 - acc: 0.7364\n",
      "Epoch 59/1000\n",
      "44/44 [==============================] - 53s 1s/step - loss: 0.5608 - acc: 0.7530\n",
      "Epoch 60/1000\n",
      "44/44 [==============================] - 53s 1s/step - loss: 0.5807 - acc: 0.7359\n",
      "Epoch 61/1000\n",
      "44/44 [==============================] - 53s 1s/step - loss: 0.5678 - acc: 0.7462\n",
      "Epoch 62/1000\n",
      "44/44 [==============================] - 52s 1s/step - loss: 0.5597 - acc: 0.7561\n",
      "Epoch 63/1000\n",
      "44/44 [==============================] - 52s 1s/step - loss: 0.5498 - acc: 0.7507\n",
      "Epoch 64/1000\n",
      "44/44 [==============================] - 52s 1s/step - loss: 0.5752 - acc: 0.7482\n",
      "Epoch 65/1000\n",
      "44/44 [==============================] - 52s 1s/step - loss: 0.5482 - acc: 0.7577\n",
      "Epoch 66/1000\n",
      "44/44 [==============================] - 52s 1s/step - loss: 0.5457 - acc: 0.7571\n",
      "Epoch 67/1000\n",
      "44/44 [==============================] - 51s 1s/step - loss: 0.5516 - acc: 0.7479\n",
      "Epoch 68/1000\n",
      "44/44 [==============================] - 51s 1s/step - loss: 0.5380 - acc: 0.7614\n",
      "Epoch 69/1000\n",
      "44/44 [==============================] - 52s 1s/step - loss: 0.5485 - acc: 0.7541\n",
      "Epoch 70/1000\n",
      "44/44 [==============================] - 52s 1s/step - loss: 0.5350 - acc: 0.7548\n",
      "Epoch 71/1000\n",
      "44/44 [==============================] - 52s 1s/step - loss: 0.5331 - acc: 0.7600\n",
      "Epoch 72/1000\n",
      "44/44 [==============================] - 52s 1s/step - loss: 0.5450 - acc: 0.7536\n",
      "Epoch 73/1000\n",
      "44/44 [==============================] - 52s 1s/step - loss: 0.5432 - acc: 0.7613\n",
      "Epoch 74/1000\n",
      "44/44 [==============================] - 52s 1s/step - loss: 0.5567 - acc: 0.7470\n",
      "Epoch 75/1000\n",
      "44/44 [==============================] - 52s 1s/step - loss: 0.5554 - acc: 0.7605\n",
      "Epoch 76/1000\n",
      "44/44 [==============================] - 52s 1s/step - loss: 0.5208 - acc: 0.7679\n",
      "Epoch 77/1000\n",
      "44/44 [==============================] - 52s 1s/step - loss: 0.5374 - acc: 0.7623\n",
      "Epoch 78/1000\n",
      "44/44 [==============================] - 52s 1s/step - loss: 0.5290 - acc: 0.7586\n",
      "Epoch 79/1000\n",
      "44/44 [==============================] - 52s 1s/step - loss: 0.5272 - acc: 0.7620\n",
      "Epoch 80/1000\n",
      "44/44 [==============================] - 53s 1s/step - loss: 0.5397 - acc: 0.7613\n",
      "Epoch 81/1000\n",
      "44/44 [==============================] - 53s 1s/step - loss: 0.5226 - acc: 0.7636\n",
      "Epoch 82/1000\n",
      "44/44 [==============================] - 53s 1s/step - loss: 0.5322 - acc: 0.7664\n",
      "Epoch 83/1000\n",
      "44/44 [==============================] - 52s 1s/step - loss: 0.5255 - acc: 0.7679\n",
      "Epoch 84/1000\n",
      "44/44 [==============================] - 52s 1s/step - loss: 0.5230 - acc: 0.7673\n",
      "Epoch 85/1000\n",
      "44/44 [==============================] - 53s 1s/step - loss: 0.5332 - acc: 0.7643\n",
      "Epoch 86/1000\n"
     ]
    },
    {
     "name": "stdout",
     "output_type": "stream",
     "text": [
      "44/44 [==============================] - 52s 1s/step - loss: 0.5387 - acc: 0.7625\n",
      "Epoch 87/1000\n",
      "44/44 [==============================] - 52s 1s/step - loss: 0.5214 - acc: 0.7659\n",
      "Epoch 88/1000\n",
      "44/44 [==============================] - 53s 1s/step - loss: 0.5245 - acc: 0.7643\n",
      "Epoch 89/1000\n",
      "44/44 [==============================] - 53s 1s/step - loss: 0.5378 - acc: 0.7514\n",
      "Epoch 90/1000\n",
      "44/44 [==============================] - 52s 1s/step - loss: 0.5201 - acc: 0.7691\n",
      "Epoch 91/1000\n",
      "44/44 [==============================] - 52s 1s/step - loss: 0.5159 - acc: 0.7716\n",
      "Epoch 92/1000\n",
      "44/44 [==============================] - 52s 1s/step - loss: 0.5221 - acc: 0.7691\n",
      "Epoch 93/1000\n",
      "44/44 [==============================] - 52s 1s/step - loss: 0.5104 - acc: 0.7743\n",
      "Epoch 94/1000\n",
      "44/44 [==============================] - 52s 1s/step - loss: 0.5115 - acc: 0.7713\n",
      "Epoch 95/1000\n",
      "44/44 [==============================] - 52s 1s/step - loss: 0.5335 - acc: 0.7589\n",
      "Epoch 96/1000\n",
      "44/44 [==============================] - 52s 1s/step - loss: 0.5251 - acc: 0.7684\n",
      "Epoch 97/1000\n",
      "44/44 [==============================] - 52s 1s/step - loss: 0.5136 - acc: 0.7752\n",
      "Epoch 98/1000\n",
      "44/44 [==============================] - 52s 1s/step - loss: 0.5276 - acc: 0.7632\n",
      "Epoch 99/1000\n",
      "44/44 [==============================] - 52s 1s/step - loss: 0.5297 - acc: 0.7714\n",
      "Epoch 100/1000\n",
      "44/44 [==============================] - 52s 1s/step - loss: 0.5165 - acc: 0.7689\n",
      "Epoch 101/1000\n",
      "44/44 [==============================] - 52s 1s/step - loss: 0.5137 - acc: 0.7755\n",
      "Epoch 102/1000\n",
      "44/44 [==============================] - 52s 1s/step - loss: 0.5239 - acc: 0.7729\n",
      "Epoch 103/1000\n",
      "44/44 [==============================] - 52s 1s/step - loss: 0.5129 - acc: 0.7757\n",
      "Epoch 104/1000\n",
      "44/44 [==============================] - 52s 1s/step - loss: 0.5048 - acc: 0.7745\n",
      "Epoch 105/1000\n",
      "44/44 [==============================] - 52s 1s/step - loss: 0.5073 - acc: 0.7698\n",
      "Epoch 106/1000\n",
      "44/44 [==============================] - 52s 1s/step - loss: 0.5253 - acc: 0.7664\n",
      "Epoch 107/1000\n",
      "44/44 [==============================] - 52s 1s/step - loss: 0.5276 - acc: 0.7682\n",
      "Epoch 108/1000\n",
      "44/44 [==============================] - 52s 1s/step - loss: 0.5119 - acc: 0.7714\n",
      "Epoch 109/1000\n",
      "44/44 [==============================] - 52s 1s/step - loss: 0.5397 - acc: 0.7595\n",
      "Epoch 110/1000\n",
      "44/44 [==============================] - 52s 1s/step - loss: 0.5217 - acc: 0.7707\n",
      "Epoch 111/1000\n",
      "44/44 [==============================] - 52s 1s/step - loss: 0.5522 - acc: 0.7602\n",
      "Epoch 112/1000\n",
      "44/44 [==============================] - 52s 1s/step - loss: 0.5142 - acc: 0.7730\n",
      "Epoch 113/1000\n",
      "44/44 [==============================] - 52s 1s/step - loss: 0.5035 - acc: 0.7791\n",
      "Epoch 114/1000\n",
      "44/44 [==============================] - 52s 1s/step - loss: 0.4976 - acc: 0.7832\n",
      "Epoch 115/1000\n",
      "44/44 [==============================] - 52s 1s/step - loss: 0.5049 - acc: 0.7780\n",
      "Epoch 116/1000\n",
      "44/44 [==============================] - 52s 1s/step - loss: 0.5054 - acc: 0.7793\n",
      "Epoch 117/1000\n",
      "44/44 [==============================] - 52s 1s/step - loss: 0.5287 - acc: 0.7679\n",
      "Epoch 118/1000\n",
      "44/44 [==============================] - 52s 1s/step - loss: 0.4931 - acc: 0.7757\n",
      "Epoch 119/1000\n",
      "44/44 [==============================] - 52s 1s/step - loss: 0.5150 - acc: 0.7743\n",
      "Epoch 120/1000\n",
      "44/44 [==============================] - 52s 1s/step - loss: 0.5017 - acc: 0.7773\n",
      "Epoch 121/1000\n",
      "44/44 [==============================] - 52s 1s/step - loss: 0.5025 - acc: 0.7793\n",
      "Epoch 122/1000\n",
      "44/44 [==============================] - 52s 1s/step - loss: 0.5081 - acc: 0.7757\n",
      "Epoch 123/1000\n",
      "44/44 [==============================] - 52s 1s/step - loss: 0.5230 - acc: 0.7650\n",
      "Epoch 124/1000\n",
      "44/44 [==============================] - 51s 1s/step - loss: 0.5047 - acc: 0.7716\n",
      "Epoch 125/1000\n",
      "44/44 [==============================] - 52s 1s/step - loss: 0.4994 - acc: 0.7809\n",
      "Epoch 126/1000\n",
      "44/44 [==============================] - 52s 1s/step - loss: 0.4946 - acc: 0.7771\n",
      "Epoch 127/1000\n",
      "44/44 [==============================] - 52s 1s/step - loss: 0.5013 - acc: 0.7745\n",
      "Epoch 128/1000\n",
      "44/44 [==============================] - 52s 1s/step - loss: 0.4971 - acc: 0.7852\n",
      "Epoch 129/1000\n",
      "44/44 [==============================] - 51s 1s/step - loss: 0.4954 - acc: 0.7832\n",
      "Epoch 130/1000\n",
      "44/44 [==============================] - 52s 1s/step - loss: 0.4968 - acc: 0.7770\n",
      "Epoch 131/1000\n",
      "44/44 [==============================] - 52s 1s/step - loss: 0.4950 - acc: 0.7832\n",
      "Epoch 132/1000\n",
      "44/44 [==============================] - 52s 1s/step - loss: 0.4823 - acc: 0.7852\n",
      "Epoch 133/1000\n",
      "44/44 [==============================] - 52s 1s/step - loss: 0.4993 - acc: 0.7770\n",
      "Epoch 134/1000\n",
      "44/44 [==============================] - 52s 1s/step - loss: 0.4907 - acc: 0.7825\n",
      "Epoch 135/1000\n",
      "44/44 [==============================] - 52s 1s/step - loss: 0.4935 - acc: 0.7780\n",
      "Epoch 136/1000\n",
      "44/44 [==============================] - 52s 1s/step - loss: 0.5006 - acc: 0.7818\n",
      "Epoch 137/1000\n",
      "44/44 [==============================] - 52s 1s/step - loss: 0.4938 - acc: 0.7809\n",
      "Epoch 138/1000\n",
      "44/44 [==============================] - 52s 1s/step - loss: 0.4995 - acc: 0.7802\n",
      "Epoch 139/1000\n",
      "44/44 [==============================] - 52s 1s/step - loss: 0.4844 - acc: 0.7886\n",
      "Epoch 140/1000\n",
      "44/44 [==============================] - 52s 1s/step - loss: 0.4854 - acc: 0.7862\n",
      "Epoch 141/1000\n",
      "44/44 [==============================] - 52s 1s/step - loss: 0.4998 - acc: 0.7718\n",
      "Epoch 142/1000\n",
      "44/44 [==============================] - 52s 1s/step - loss: 0.4950 - acc: 0.7795\n",
      "Epoch 143/1000\n",
      "44/44 [==============================] - 52s 1s/step - loss: 0.4890 - acc: 0.7848\n",
      "Epoch 144/1000\n",
      "44/44 [==============================] - 52s 1s/step - loss: 0.4874 - acc: 0.7825\n",
      "Epoch 145/1000\n",
      "44/44 [==============================] - 52s 1s/step - loss: 0.4897 - acc: 0.7848\n",
      "Epoch 146/1000\n",
      "44/44 [==============================] - 52s 1s/step - loss: 0.4869 - acc: 0.7893\n",
      "Epoch 147/1000\n",
      "44/44 [==============================] - 52s 1s/step - loss: 0.4961 - acc: 0.7861\n",
      "Epoch 148/1000\n",
      "44/44 [==============================] - 52s 1s/step - loss: 0.4910 - acc: 0.7854\n",
      "Epoch 149/1000\n",
      "44/44 [==============================] - 52s 1s/step - loss: 0.4774 - acc: 0.7911\n",
      "Epoch 150/1000\n",
      "44/44 [==============================] - 52s 1s/step - loss: 0.4857 - acc: 0.7859\n",
      "Epoch 151/1000\n",
      "44/44 [==============================] - 52s 1s/step - loss: 0.4887 - acc: 0.7866\n",
      "Epoch 152/1000\n",
      "35/44 [======================>.......] - ETA: 10s - loss: 0.4846 - acc: 0.7857"
     ]
    }
   ],
   "source": [
    "### Start Training\n",
    "history = model.fit(\n",
    "    datagen.flow(x_train , y_train, batch_size=batch_size),\n",
    "    epochs = epochs\n",
    ")"
   ]
  },
  {
   "cell_type": "code",
   "execution_count": null,
   "metadata": {},
   "outputs": [],
   "source": [
    "# Print Finish Training time\n",
    "tpe = pytz.timezone('Asia/Taipei')\n",
    "utc_finish = datetime.now()\n",
    "print(\"Finish Training Time\", tpe.fromutc(utc_finish))\n",
    "\n",
    "difference = utc_finish-utc_start\n",
    "seconds_in_day = 24 * 60 * 60\n",
    "divmod(difference.days * seconds_in_day + difference.seconds, 60)"
   ]
  },
  {
   "cell_type": "markdown",
   "metadata": {},
   "source": [
    "## 繪製Model學習成效"
   ]
  },
  {
   "cell_type": "code",
   "execution_count": null,
   "metadata": {},
   "outputs": [],
   "source": [
    "def plot_learning_curves(history):\n",
    "    pd.DataFrame(history.history).plot(figsize=(8,5))\n",
    "    plt.grid(True)\n",
    "    plt.gca().set_ylim(0,2)\n",
    "    plt.show()\n",
    "    \n",
    "plot_learning_curves(history)"
   ]
  },
  {
   "cell_type": "markdown",
   "metadata": {},
   "source": [
    "## 測試集預測準確度"
   ]
  },
  {
   "cell_type": "code",
   "execution_count": null,
   "metadata": {},
   "outputs": [],
   "source": [
    "csvfile_test = open('dev.csv')\n",
    "reader_test = csv.reader(csvfile_test)"
   ]
  },
  {
   "cell_type": "code",
   "execution_count": null,
   "metadata": {},
   "outputs": [],
   "source": [
    "# 讀取csv標籤\n",
    "labels = []\n",
    "for line in reader_test:\n",
    "    tmp = [line[0],line[1]]\n",
    "    # print tmp\n",
    "    labels.append(tmp)\n",
    "csvfile_test.close() "
   ]
  },
  {
   "cell_type": "code",
   "execution_count": null,
   "metadata": {},
   "outputs": [],
   "source": [
    "labels = labels[1:]  # remove the first row\n",
    "print(\"芒果圖片數量: \",len(labels))"
   ]
  },
  {
   "cell_type": "code",
   "execution_count": null,
   "metadata": {},
   "outputs": [],
   "source": [
    "# 轉換圖片的標籤\n",
    "for i in range(len(labels)):\n",
    "    labels[i][1] = labels[i][1].replace(\"A\",\"0\")\n",
    "    labels[i][1] = labels[i][1].replace(\"B\",\"1\")\n",
    "    labels[i][1] = labels[i][1].replace(\"C\",\"2\")"
   ]
  },
  {
   "cell_type": "code",
   "execution_count": null,
   "metadata": {},
   "outputs": [],
   "source": [
    "x_test = []\n",
    "y_test = []\n",
    "\n",
    "for i in range(len(labels)):\n",
    "    img = cv2.imread(\"C1-P1_Dev/\" + labels[i][0] )\n",
    "    res = cv2.resize(img,(image_size,image_size),interpolation=cv2.INTER_LINEAR)\n",
    "    res = img_to_array(res)\n",
    "    x_test.append(res)    \n",
    "    y_test.append(labels[i][1])"
   ]
  },
  {
   "cell_type": "code",
   "execution_count": null,
   "metadata": {},
   "outputs": [],
   "source": [
    "y_test_org = y_test\n",
    "\n",
    "# 轉換至array的格式\n",
    "x_test = np.array(x_test)\n",
    "y_test = np.array(y_test)"
   ]
  },
  {
   "cell_type": "code",
   "execution_count": null,
   "metadata": {},
   "outputs": [],
   "source": [
    "# 轉換至float的格式\n",
    "for i in range(len(x_test)):\n",
    "    x_test[i] = x_test[i].astype('float32')\n",
    "# x_test = x_test/255"
   ]
  },
  {
   "cell_type": "code",
   "execution_count": null,
   "metadata": {},
   "outputs": [],
   "source": [
    "# 標籤進行one-hotencoding\n",
    "y_test = np_utils.to_categorical(y_test)"
   ]
  },
  {
   "cell_type": "code",
   "execution_count": null,
   "metadata": {},
   "outputs": [],
   "source": [
    "# 測試集標籤預測\n",
    "y_pred = model.predict(x_test)"
   ]
  },
  {
   "cell_type": "code",
   "execution_count": null,
   "metadata": {},
   "outputs": [],
   "source": [
    "# 模型預測後的標籤\n",
    "predict_label = np.argmax(y_pred,axis=1)\n",
    "print(predict_label)\n",
    "# print(len(predict_label))"
   ]
  },
  {
   "cell_type": "code",
   "execution_count": null,
   "metadata": {},
   "outputs": [],
   "source": [
    "# 模型原標籤\n",
    "true_label = y_test_org\n",
    "true_label = np.array(true_label)\n",
    "print(true_label)\n",
    "# print(len(true_label))"
   ]
  },
  {
   "cell_type": "code",
   "execution_count": null,
   "metadata": {},
   "outputs": [],
   "source": [
    "pd.crosstab(true_label,predict_label,rownames=['實際值'],colnames=['預測值'])"
   ]
  },
  {
   "cell_type": "code",
   "execution_count": null,
   "metadata": {},
   "outputs": [],
   "source": [
    "# 整體準確度\n",
    "count = 0\n",
    "for i in range(len(y_pred)):\n",
    "    if(np.argmax(y_pred[i]) == np.argmax(y_test[i])): #argmax函数找到最大值的索引，即为其类别\n",
    "        count += 1\n",
    "score = count/len(y_pred)\n",
    "print('正确率为:%.2f%s' % (score*100,'%'))"
   ]
  },
  {
   "cell_type": "code",
   "execution_count": null,
   "metadata": {},
   "outputs": [],
   "source": [
    "# 儲存模型相關參數\n",
    "# model.save('h5/'+file_name+'.h5')"
   ]
  },
  {
   "cell_type": "code",
   "execution_count": null,
   "metadata": {},
   "outputs": [],
   "source": []
  },
  {
   "cell_type": "raw",
   "metadata": {},
   "source": [
    "### https://github.com/linsamtw/cifar10_vgg16_kaggle"
   ]
  }
 ],
 "metadata": {
  "kernelspec": {
   "display_name": "conda_tensorflow_p36",
   "language": "python",
   "name": "conda_tensorflow_p36"
  },
  "language_info": {
   "codemirror_mode": {
    "name": "ipython",
    "version": 3
   },
   "file_extension": ".py",
   "mimetype": "text/x-python",
   "name": "python",
   "nbconvert_exporter": "python",
   "pygments_lexer": "ipython3",
   "version": "3.6.10"
  }
 },
 "nbformat": 4,
 "nbformat_minor": 4
}
