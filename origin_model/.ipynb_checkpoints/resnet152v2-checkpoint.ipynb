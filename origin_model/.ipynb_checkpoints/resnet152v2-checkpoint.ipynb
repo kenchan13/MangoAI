{
 "cells": [
  {
   "cell_type": "code",
   "execution_count": 28,
   "metadata": {},
   "outputs": [],
   "source": [
    "# 設定超參數HyperParameters \n",
    "batch_size =  64\n",
    "epochs = 30\n",
    "image_size = 128\n",
    "lr=0.01"
   ]
  },
  {
   "cell_type": "markdown",
   "metadata": {},
   "source": [
    "## 一、載入相關套件"
   ]
  },
  {
   "cell_type": "code",
   "execution_count": 5,
   "metadata": {},
   "outputs": [],
   "source": [
    "import os\n",
    "import cv2\n",
    "import csv\n",
    "import random\n",
    "import time\n",
    "import numpy as np\n",
    "import pandas as pd\n",
    "import matplotlib.image as mpimg # mpimg 用於讀取圖片\n",
    "import matplotlib.pyplot as plt # plt 用於顯示圖片\n",
    "import seaborn as sns"
   ]
  },
  {
   "cell_type": "code",
   "execution_count": 6,
   "metadata": {},
   "outputs": [],
   "source": [
    "import tensorflow as tf\n",
    "\n",
    "from tensorflow.keras.applications import ResNet152V2\n",
    "from tensorflow.keras.preprocessing import image\n",
    "from tensorflow.keras.applications.resnet_v2 import preprocess_input\n",
    "from tensorflow.keras import Model\n",
    "from tensorflow.keras.preprocessing.image import ImageDataGenerator, array_to_img, img_to_array, load_img\n",
    "from tensorflow.keras.utils import to_categorical\n",
    "from tensorflow.keras import utils as np_utils\n",
    "from tensorflow import keras\n",
    "from tensorflow.keras import optimizers\n",
    "from tensorflow.keras.layers import Input, Dropout, Flatten, Convolution2D, MaxPooling2D, ZeroPadding2D, Dense, Activation, Conv2DTranspose"
   ]
  },
  {
   "cell_type": "code",
   "execution_count": 7,
   "metadata": {},
   "outputs": [
    {
     "name": "stdout",
     "output_type": "stream",
     "text": [
      "1 Physical GPUs, 1 Logical GPUs\n"
     ]
    }
   ],
   "source": [
    "gpus = tf.config.experimental.list_physical_devices('GPU')\n",
    "if gpus:\n",
    "    try:\n",
    "        # Currently, memory growth needs to be the same across GPUs\n",
    "        for gpu in gpus:\n",
    "            tf.config.experimental.set_memory_growth(gpu, True)\n",
    "        tf.config.experimental.set_visible_devices(gpus[0], 'GPU')\n",
    "        logical_gpus = tf.config.experimental.list_logical_devices('GPU')\n",
    "        print(len(gpus), \"Physical GPUs,\", len(logical_gpus), \"Logical GPUs\")\n",
    "    except RuntimeError as e:\n",
    "        # Memory growth must be set before GPUs have been initialized\n",
    "        print(e)"
   ]
  },
  {
   "cell_type": "code",
   "execution_count": 8,
   "metadata": {},
   "outputs": [
    {
     "name": "stdout",
     "output_type": "stream",
     "text": [
      "Start Time 2020-05-24 18:28:34.885988+08:00\n"
     ]
    }
   ],
   "source": [
    "# Print Start time\n",
    "from datetime import datetime, timezone\n",
    "import pytz\n",
    "\n",
    "tpe = pytz.timezone('Asia/Taipei')\n",
    "utc_start = datetime.now()\n",
    "print(\"Start Time\", tpe.fromutc(utc_start))"
   ]
  },
  {
   "cell_type": "markdown",
   "metadata": {},
   "source": [
    "## 製作標籤&資料集"
   ]
  },
  {
   "cell_type": "code",
   "execution_count": 9,
   "metadata": {},
   "outputs": [],
   "source": [
    "csvfile = open('train.csv')\n",
    "reader = csv.reader(csvfile)"
   ]
  },
  {
   "cell_type": "code",
   "execution_count": 10,
   "metadata": {},
   "outputs": [],
   "source": [
    "# 讀取csv標籤\n",
    "labels = []\n",
    "for line in reader:\n",
    "    tmp = [line[0],line[1]]\n",
    "    # print tmp\n",
    "    labels.append(tmp)\n",
    "csvfile.close() "
   ]
  },
  {
   "cell_type": "code",
   "execution_count": 11,
   "metadata": {},
   "outputs": [
    {
     "name": "stdout",
     "output_type": "stream",
     "text": [
      "芒果圖片數量:  5600\n"
     ]
    }
   ],
   "source": [
    "# remove the first row\n",
    "labels = labels[1:]\n",
    "print(\"芒果圖片數量: \",len(labels))"
   ]
  },
  {
   "cell_type": "code",
   "execution_count": 12,
   "metadata": {},
   "outputs": [],
   "source": [
    "# 轉換圖片的標籤\n",
    "for i in range(len(labels)):\n",
    "    labels[i][1] = labels[i][1].replace(\"A\",\"0\")\n",
    "    labels[i][1] = labels[i][1].replace(\"B\",\"1\")\n",
    "    labels[i][1] = labels[i][1].replace(\"C\",\"2\")"
   ]
  },
  {
   "cell_type": "code",
   "execution_count": 13,
   "metadata": {},
   "outputs": [],
   "source": [
    "# 隨機讀取圖片\n",
    "a = 0\n",
    "items= []\n",
    "import random\n",
    "for a in range(0,len(labels)):\n",
    "    items.append(a)"
   ]
  },
  {
   "cell_type": "code",
   "execution_count": 14,
   "metadata": {},
   "outputs": [],
   "source": [
    "# 製作訓練用資料集及標籤\n",
    "# Wait for a while\n",
    "X = []\n",
    "y = []\n",
    "\n",
    "for i in random.sample(items, round(len(items))):\n",
    "    img = cv2.imread(\"C1-P1_Train/\" + labels[i][0] )\n",
    "    res = cv2.resize(img,(image_size,image_size),interpolation=cv2.INTER_LINEAR)\n",
    "    res = img_to_array(res)\n",
    "    X.append(res)    \n",
    "    y.append(labels[i][1])"
   ]
  },
  {
   "cell_type": "code",
   "execution_count": 15,
   "metadata": {},
   "outputs": [],
   "source": [
    "# 轉換至array的格式\n",
    "X = np.array(X)\n",
    "y = np.array(y)"
   ]
  },
  {
   "cell_type": "code",
   "execution_count": 16,
   "metadata": {},
   "outputs": [],
   "source": [
    "# 轉換至float的格式\n",
    "for i in range(len(X)):\n",
    "    X[i] = X[i].astype('float32')"
   ]
  },
  {
   "cell_type": "code",
   "execution_count": 17,
   "metadata": {},
   "outputs": [],
   "source": [
    "# 標籤進行one-hotencoding\n",
    "y = np_utils.to_categorical(y)"
   ]
  },
  {
   "cell_type": "code",
   "execution_count": 18,
   "metadata": {},
   "outputs": [],
   "source": [
    "# 分配訓練集及測試集比例\n",
    "x_train = X\n",
    "y_train = y"
   ]
  },
  {
   "cell_type": "markdown",
   "metadata": {},
   "source": [
    "## 建立Model"
   ]
  },
  {
   "cell_type": "code",
   "execution_count": 19,
   "metadata": {},
   "outputs": [
    {
     "name": "stdout",
     "output_type": "stream",
     "text": [
      "WARNING:tensorflow:From /home/ec2-user/anaconda3/envs/tensorflow_p36/lib/python3.6/site-packages/tensorflow_core/python/ops/resource_variable_ops.py:1630: calling BaseResourceVariable.__init__ (from tensorflow.python.ops.resource_variable_ops) with constraint is deprecated and will be removed in a future version.\n",
      "Instructions for updating:\n",
      "If using Keras pass *_constraint arguments to layers.\n",
      "Downloading data from https://github.com/keras-team/keras-applications/releases/download/resnet/resnet152v2_weights_tf_dim_ordering_tf_kernels_notop.h5\n",
      "234553344/234545216 [==============================] - 2s 0us/step\n"
     ]
    }
   ],
   "source": [
    "model_resnet = ResNet152V2(weights='imagenet', include_top=False)\n",
    "\n",
    "input = Input( shape=(image_size,image_size,3),name = 'image_input' )\n",
    "output_conv = model_resnet(input)"
   ]
  },
  {
   "cell_type": "code",
   "execution_count": 20,
   "metadata": {},
   "outputs": [],
   "source": [
    "## 由於該問題是分 3 類，需要在最後修改 Dense(3)，softmax 代表 output 是機率  \n",
    "#Add the fully-connected layers \n",
    "p = Flatten()(output_conv)\n",
    "p = Dense(256,activation = 'relu')(p)\n",
    "p = Dropout(0.2)(p)\n",
    "p = Dense(3, activation='softmax', name='predictions')(p)\n",
    "\n",
    "model = Model(inputs=input, outputs=p)"
   ]
  },
  {
   "cell_type": "code",
   "execution_count": 21,
   "metadata": {},
   "outputs": [],
   "source": [
    "adam = optimizers.Adam(lr=lr)\n",
    "model.compile(optimizer='adam',\n",
    "              loss=tf.keras.losses.CategoricalCrossentropy(),\n",
    "              metrics=['acc'])"
   ]
  },
  {
   "cell_type": "code",
   "execution_count": 22,
   "metadata": {},
   "outputs": [],
   "source": [
    "# model.summary()"
   ]
  },
  {
   "cell_type": "markdown",
   "metadata": {},
   "source": [
    "## 訓練"
   ]
  },
  {
   "cell_type": "code",
   "execution_count": 23,
   "metadata": {},
   "outputs": [],
   "source": [
    "# zca_whitening 對輸入數據施加ZCA白化\n",
    "# rotation_range 數據提升時圖片隨機轉動的角度\n",
    "# width_shift_range 圖片寬度的某個比例，數據提升時圖片水平偏移的幅度\n",
    "# shear_range 剪切強度（逆時針方向的剪切變換角度）\n",
    "# zoom_range 隨機縮放的幅度\n",
    "# horizontal_flip 進行隨機水平翻轉\n",
    "# fill_mode ‘constant’，‘nearest’，‘reflect’或‘wrap’之一，當進行變換時超出邊界的點將根據本參數給定的方法進行處理\n",
    "\n",
    "datagen = ImageDataGenerator(\n",
    "    zca_whitening=False,\n",
    "    rotation_range=40,\n",
    "    width_shift_range=0.2,\n",
    "    height_shift_range=0.2,\n",
    "    shear_range=0.2,\n",
    "    zoom_range=0.2,\n",
    "    horizontal_flip=True,\n",
    "    vertical_flip=True,\n",
    "    fill_mode='nearest')"
   ]
  },
  {
   "cell_type": "code",
   "execution_count": 24,
   "metadata": {},
   "outputs": [
    {
     "name": "stdout",
     "output_type": "stream",
     "text": [
      "rescale！done!\n"
     ]
    }
   ],
   "source": [
    "# 導入圖像增強參數\n",
    "datagen.fit(x_train)\n",
    "# x_train = x_train/255\n",
    "print('rescale！done!')"
   ]
  },
  {
   "cell_type": "code",
   "execution_count": 25,
   "metadata": {},
   "outputs": [],
   "source": [
    "# 檔名設定\n",
    "file_name = str(epochs)+'_'+str(batch_size)"
   ]
  },
  {
   "cell_type": "code",
   "execution_count": 26,
   "metadata": {},
   "outputs": [],
   "source": [
    "# 加入EarlyStopping以及Tensorboard等回調函數\n",
    "CB = tf.keras.callbacks.EarlyStopping(monitor='val_loss', patience=10)\n",
    "TB = keras.callbacks.TensorBoard(log_dir='./log'+\"_\"+file_name, histogram_freq=1)"
   ]
  },
  {
   "cell_type": "raw",
   "metadata": {},
   "source": [
    "### Start Training\n",
    "history = model.fit(\n",
    "    x = x_train , y = y_train,\n",
    "    batch_size = batch_size,\n",
    "    epochs = epochs,\n",
    "    validation_split = 0.1\n",
    ")"
   ]
  },
  {
   "cell_type": "code",
   "execution_count": 29,
   "metadata": {
    "scrolled": true
   },
   "outputs": [
    {
     "name": "stdout",
     "output_type": "stream",
     "text": [
      "Epoch 1/30\n",
      "88/88 [==============================] - 121s 1s/step - loss: 1.1045 - acc: 0.5307\n",
      "Epoch 2/30\n",
      "88/88 [==============================] - 116s 1s/step - loss: 0.7831 - acc: 0.6691\n",
      "Epoch 3/30\n",
      "88/88 [==============================] - 116s 1s/step - loss: 0.7992 - acc: 0.6546\n",
      "Epoch 4/30\n",
      "88/88 [==============================] - 116s 1s/step - loss: 0.8690 - acc: 0.6170\n",
      "Epoch 5/30\n",
      "88/88 [==============================] - 116s 1s/step - loss: 0.7796 - acc: 0.6529\n",
      "Epoch 6/30\n",
      "88/88 [==============================] - 116s 1s/step - loss: 0.7166 - acc: 0.6902\n",
      "Epoch 7/30\n",
      "88/88 [==============================] - 116s 1s/step - loss: 0.6799 - acc: 0.6986\n",
      "Epoch 8/30\n",
      "88/88 [==============================] - 116s 1s/step - loss: 0.6427 - acc: 0.7105\n",
      "Epoch 9/30\n",
      "88/88 [==============================] - 116s 1s/step - loss: 0.6718 - acc: 0.7038\n",
      "Epoch 10/30\n",
      "88/88 [==============================] - 116s 1s/step - loss: 0.6496 - acc: 0.7129\n",
      "Epoch 11/30\n",
      "88/88 [==============================] - 116s 1s/step - loss: 0.6366 - acc: 0.7136\n",
      "Epoch 12/30\n",
      "88/88 [==============================] - 116s 1s/step - loss: 0.6464 - acc: 0.7329\n",
      "Epoch 13/30\n",
      "88/88 [==============================] - 116s 1s/step - loss: 0.5907 - acc: 0.7418\n",
      "Epoch 14/30\n",
      "88/88 [==============================] - 116s 1s/step - loss: 0.5710 - acc: 0.7477\n",
      "Epoch 15/30\n",
      "88/88 [==============================] - 116s 1s/step - loss: 0.5713 - acc: 0.7470\n",
      "Epoch 16/30\n",
      "88/88 [==============================] - 116s 1s/step - loss: 0.5946 - acc: 0.7371\n",
      "Epoch 17/30\n",
      "88/88 [==============================] - 116s 1s/step - loss: 0.5930 - acc: 0.7343\n",
      "Epoch 18/30\n",
      "88/88 [==============================] - 116s 1s/step - loss: 0.5742 - acc: 0.7418\n",
      "Epoch 19/30\n",
      "88/88 [==============================] - 116s 1s/step - loss: 0.5648 - acc: 0.7600\n",
      "Epoch 20/30\n",
      "88/88 [==============================] - 116s 1s/step - loss: 0.5697 - acc: 0.7525\n",
      "Epoch 21/30\n",
      "88/88 [==============================] - 116s 1s/step - loss: 0.5676 - acc: 0.7452\n",
      "Epoch 22/30\n",
      "88/88 [==============================] - 116s 1s/step - loss: 0.5790 - acc: 0.7586\n",
      "Epoch 23/30\n",
      "88/88 [==============================] - 116s 1s/step - loss: 0.5538 - acc: 0.7545\n",
      "Epoch 24/30\n",
      "88/88 [==============================] - 116s 1s/step - loss: 0.5514 - acc: 0.7600\n",
      "Epoch 25/30\n",
      "88/88 [==============================] - 116s 1s/step - loss: 0.5394 - acc: 0.7625\n",
      "Epoch 26/30\n",
      "88/88 [==============================] - 116s 1s/step - loss: 0.5379 - acc: 0.7568\n",
      "Epoch 27/30\n",
      "88/88 [==============================] - 116s 1s/step - loss: 0.5357 - acc: 0.7625\n",
      "Epoch 28/30\n",
      "88/88 [==============================] - 116s 1s/step - loss: 0.5246 - acc: 0.7695\n",
      "Epoch 29/30\n",
      "88/88 [==============================] - 116s 1s/step - loss: 0.5323 - acc: 0.7618\n",
      "Epoch 30/30\n",
      "88/88 [==============================] - 116s 1s/step - loss: 0.5247 - acc: 0.7641\n"
     ]
    }
   ],
   "source": [
    "### Start Training\n",
    "history = model.fit(\n",
    "    datagen.flow(x_train , y_train, batch_size=batch_size),\n",
    "    epochs = epochs\n",
    ")"
   ]
  },
  {
   "cell_type": "code",
   "execution_count": 30,
   "metadata": {},
   "outputs": [
    {
     "name": "stdout",
     "output_type": "stream",
     "text": [
      "Finish Training Time 2020-05-24 20:07:40.280052+08:00\n"
     ]
    },
    {
     "data": {
      "text/plain": [
       "(99, 5)"
      ]
     },
     "execution_count": 30,
     "metadata": {},
     "output_type": "execute_result"
    }
   ],
   "source": [
    "# Print Finish Training time\n",
    "tpe = pytz.timezone('Asia/Taipei')\n",
    "utc_finish = datetime.now()\n",
    "print(\"Finish Training Time\", tpe.fromutc(utc_finish))\n",
    "\n",
    "difference = utc_finish-utc_start\n",
    "seconds_in_day = 24 * 60 * 60\n",
    "divmod(difference.days * seconds_in_day + difference.seconds, 60)"
   ]
  },
  {
   "cell_type": "markdown",
   "metadata": {},
   "source": [
    "## 繪製Model學習成效"
   ]
  },
  {
   "cell_type": "code",
   "execution_count": 31,
   "metadata": {},
   "outputs": [
    {
     "data": {
      "image/png": "[encoded data removed]",
      "text/plain": [
       "<Figure size 576x360 with 1 Axes>"
      ]
     },
     "metadata": {},
     "output_type": "display_data"
    }
   ],
   "source": [
    "def plot_learning_curves(history):\n",
    "    pd.DataFrame(history.history).plot(figsize=(8,5))\n",
    "    plt.grid(True)\n",
    "    plt.gca().set_ylim(0,2)\n",
    "    plt.show()\n",
    "    \n",
    "plot_learning_curves(history)"
   ]
  },
  {
   "cell_type": "markdown",
   "metadata": {},
   "source": [
    "## 測試集預測準確度"
   ]
  },
  {
   "cell_type": "code",
   "execution_count": 32,
   "metadata": {},
   "outputs": [],
   "source": [
    "csvfile_test = open('dev.csv')\n",
    "reader_test = csv.reader(csvfile_test)"
   ]
  },
  {
   "cell_type": "code",
   "execution_count": 33,
   "metadata": {},
   "outputs": [],
   "source": [
    "# 讀取csv標籤\n",
    "labels = []\n",
    "for line in reader_test:\n",
    "    tmp = [line[0],line[1]]\n",
    "    # print tmp\n",
    "    labels.append(tmp)\n",
    "csvfile_test.close() "
   ]
  },
  {
   "cell_type": "code",
   "execution_count": 34,
   "metadata": {},
   "outputs": [
    {
     "name": "stdout",
     "output_type": "stream",
     "text": [
      "芒果圖片數量:  800\n"
     ]
    }
   ],
   "source": [
    "labels = labels[1:]  # remove the first row\n",
    "print(\"芒果圖片數量: \",len(labels))"
   ]
  },
  {
   "cell_type": "code",
   "execution_count": 35,
   "metadata": {},
   "outputs": [],
   "source": [
    "# 轉換圖片的標籤\n",
    "for i in range(len(labels)):\n",
    "    labels[i][1] = labels[i][1].replace(\"A\",\"0\")\n",
    "    labels[i][1] = labels[i][1].replace(\"B\",\"1\")\n",
    "    labels[i][1] = labels[i][1].replace(\"C\",\"2\")"
   ]
  },
  {
   "cell_type": "code",
   "execution_count": 36,
   "metadata": {},
   "outputs": [],
   "source": [
    "x_test = []\n",
    "y_test = []\n",
    "\n",
    "for i in range(len(labels)):\n",
    "    img = cv2.imread(\"C1-P1_Dev/\" + labels[i][0] )\n",
    "    res = cv2.resize(img,(image_size,image_size),interpolation=cv2.INTER_LINEAR)\n",
    "    res = img_to_array(res)\n",
    "    x_test.append(res)    \n",
    "    y_test.append(labels[i][1])"
   ]
  },
  {
   "cell_type": "code",
   "execution_count": 37,
   "metadata": {},
   "outputs": [],
   "source": [
    "y_test_org = y_test\n",
    "\n",
    "# 轉換至array的格式\n",
    "x_test = np.array(x_test)\n",
    "y_test = np.array(y_test)"
   ]
  },
  {
   "cell_type": "code",
   "execution_count": 38,
   "metadata": {},
   "outputs": [],
   "source": [
    "# 轉換至float的格式\n",
    "for i in range(len(x_test)):\n",
    "    x_test[i] = x_test[i].astype('float32')\n",
    "# x_test = x_test/255"
   ]
  },
  {
   "cell_type": "code",
   "execution_count": 39,
   "metadata": {},
   "outputs": [],
   "source": [
    "# 標籤進行one-hotencoding\n",
    "y_test = np_utils.to_categorical(y_test)"
   ]
  },
  {
   "cell_type": "code",
   "execution_count": 40,
   "metadata": {},
   "outputs": [],
   "source": [
    "# 測試集標籤預測\n",
    "y_pred = model.predict(x_test)"
   ]
  },
  {
   "cell_type": "code",
   "execution_count": 41,
   "metadata": {},
   "outputs": [
    {
     "name": "stdout",
     "output_type": "stream",
     "text": [
      "[1 0 0 1 2 1 2 0 0 0 0 1 2 0 2 1 0 0 0 1 0 2 2 0 0 0 2 2 0 1 0 0 2 2 0 0 0\n",
      " 0 0 0 0 2 0 0 2 2 1 0 2 0 1 0 1 2 1 0 1 0 2 0 0 0 2 1 0 2 2 0 2 1 2 1 1 2\n",
      " 2 1 0 0 2 0 0 2 1 0 2 2 2 2 0 0 2 1 1 2 1 2 1 0 2 2 2 1 1 2 0 1 0 0 1 2 0\n",
      " 0 1 0 0 2 2 0 1 1 1 0 2 1 2 0 0 1 2 2 0 0 0 1 0 2 0 1 0 2 0 0 2 0 0 0 2 2\n",
      " 1 1 1 0 0 1 1 0 1 0 2 0 2 0 0 0 2 2 0 2 0 1 1 2 2 2 2 1 0 0 0 1 2 2 0 2 0\n",
      " 2 0 1 2 1 2 2 1 1 2 1 0 2 2 0 2 0 0 0 0 2 0 0 2 1 2 1 0 2 0 2 1 1 1 1 1 1\n",
      " 1 1 1 2 0 0 0 1 0 0 1 1 0 1 2 0 2 0 2 2 1 0 0 0 2 2 0 1 0 0 2 2 2 0 1 1 2\n",
      " 2 1 1 1 0 2 1 1 0 1 2 2 1 1 0 0 2 2 1 2 0 0 0 0 1 2 0 1 2 1 2 2 0 2 2 1 0\n",
      " 0 1 1 2 2 0 2 0 2 2 1 2 1 2 2 0 2 1 0 2 0 2 1 0 0 1 1 2 2 0 1 1 0 2 1 0 2\n",
      " 1 2 1 1 2 0 2 1 2 0 2 0 0 0 0 0 1 2 1 2 0 0 0 0 2 1 0 0 2 0 0 2 1 0 0 1 1\n",
      " 2 2 0 2 0 1 0 2 0 2 0 1 0 1 0 0 1 2 0 2 2 2 0 2 1 0 0 2 0 0 0 0 2 0 0 2 1\n",
      " 1 2 0 0 1 0 0 1 0 1 2 2 0 1 0 0 2 0 2 1 1 1 2 0 0 0 0 1 2 0 1 0 0 0 0 1 0\n",
      " 0 0 0 1 0 1 2 2 2 2 0 0 1 0 1 1 2 0 2 0 0 1 1 0 1 0 1 2 2 2 0 2 2 0 0 1 0\n",
      " 0 0 0 1 0 0 2 2 2 2 2 1 0 0 0 0 0 0 0 0 0 2 1 0 0 0 0 0 0 1 2 1 0 0 2 2 1\n",
      " 0 1 0 0 2 2 2 1 1 2 2 1 2 1 1 1 2 1 1 0 2 0 0 0 2 0 0 2 0 1 0 2 1 0 2 0 2\n",
      " 1 0 0 0 0 2 0 0 0 0 1 0 0 2 0 0 0 0 0 2 0 1 1 0 1 2 0 2 0 1 0 0 2 2 2 0 0\n",
      " 0 0 0 1 2 1 0 1 2 2 0 1 0 0 0 2 1 1 2 0 0 2 2 0 2 0 1 1 0 0 0 2 0 1 0 0 0\n",
      " 0 2 0 1 0 1 2 2 0 1 0 0 1 1 0 0 0 0 1 2 2 2 2 1 2 1 1 2 2 0 0 1 0 2 1 2 2\n",
      " 0 0 2 0 2 2 2 0 0 0 2 0 0 0 1 2 2 0 1 0 0 0 2 1 0 2 1 0 2 1 0 2 2 0 0 0 1\n",
      " 0 0 2 0 0 0 1 0 0 0 0 0 0 2 0 2 0 1 2 2 2 2 0 2 1 0 2 2 0 0 2 2 2 1 2 2 0\n",
      " 0 2 2 2 2 0 0 0 0 0 1 2 0 0 0 1 2 0 1 2 0 2 0 1 2 0 1 0 0 2 0 1 2 2 0 0 0\n",
      " 1 2 2 0 0 2 2 0 0 2 2 1 2 2 2 0 2 0 0 0 2 0 0]\n"
     ]
    }
   ],
   "source": [
    "# 模型預測後的標籤\n",
    "predict_label = np.argmax(y_pred,axis=1)\n",
    "print(predict_label)\n",
    "# print(len(predict_label))"
   ]
  },
  {
   "cell_type": "code",
   "execution_count": 42,
   "metadata": {},
   "outputs": [
    {
     "name": "stdout",
     "output_type": "stream",
     "text": [
      "['1' '0' '1' '1' '2' '1' '2' '0' '1' '0' '0' '1' '2' '1' '2' '1' '1' '0'\n",
      " '0' '1' '0' '0' '2' '0' '1' '0' '2' '2' '1' '1' '1' '0' '2' '2' '0' '0'\n",
      " '0' '0' '0' '0' '1' '2' '0' '2' '2' '2' '1' '0' '2' '0' '1' '1' '1' '2'\n",
      " '2' '0' '1' '0' '2' '0' '1' '1' '2' '0' '1' '2' '2' '0' '2' '1' '2' '1'\n",
      " '1' '2' '2' '2' '1' '0' '2' '0' '0' '2' '1' '1' '2' '2' '2' '2' '0' '1'\n",
      " '2' '2' '1' '2' '2' '2' '1' '0' '2' '2' '2' '1' '1' '2' '1' '1' '1' '1'\n",
      " '1' '2' '2' '0' '1' '0' '0' '2' '2' '0' '2' '0' '1' '0' '2' '1' '2' '1'\n",
      " '0' '1' '2' '1' '0' '0' '0' '1' '0' '2' '1' '1' '0' '2' '0' '1' '2' '0'\n",
      " '0' '0' '2' '1' '1' '1' '1' '1' '1' '1' '1' '1' '1' '0' '2' '1' '2' '1'\n",
      " '0' '1' '2' '2' '1' '2' '0' '2' '1' '2' '2' '2' '2' '1' '0' '0' '0' '1'\n",
      " '2' '2' '0' '2' '1' '2' '0' '0' '2' '1' '2' '2' '1' '1' '2' '1' '0' '2'\n",
      " '1' '0' '2' '2' '1' '0' '1' '2' '0' '1' '2' '2' '2' '1' '1' '2' '0' '2'\n",
      " '1' '2' '1' '1' '0' '1' '1' '1' '1' '1' '0' '0' '1' '1' '0' '2' '1' '1'\n",
      " '0' '1' '2' '0' '2' '0' '1' '2' '2' '0' '1' '0' '2' '2' '2' '1' '0' '1'\n",
      " '2' '2' '2' '1' '1' '1' '2' '2' '2' '1' '1' '0' '2' '1' '2' '0' '1' '2'\n",
      " '2' '1' '1' '1' '1' '2' '2' '0' '2' '0' '1' '0' '0' '1' '1' '1' '1' '2'\n",
      " '1' '2' '2' '0' '2' '2' '1' '1' '0' '1' '1' '2' '2' '0' '2' '0' '2' '2'\n",
      " '1' '2' '1' '2' '2' '0' '2' '1' '0' '2' '0' '1' '1' '0' '0' '1' '1' '2'\n",
      " '2' '1' '1' '1' '0' '2' '1' '1' '2' '0' '2' '1' '1' '2' '1' '1' '1' '2'\n",
      " '0' '2' '0' '0' '0' '0' '0' '1' '2' '1' '2' '0' '1' '0' '1' '2' '1' '0'\n",
      " '0' '1' '0' '0' '2' '1' '1' '1' '1' '1' '2' '2' '1' '2' '0' '2' '1' '2'\n",
      " '0' '2' '0' '1' '0' '1' '1' '2' '1' '1' '0' '2' '2' '2' '1' '2' '1' '0'\n",
      " '1' '1' '1' '1' '0' '0' '2' '1' '0' '2' '1' '1' '2' '0' '0' '2' '1' '0'\n",
      " '1' '1' '1' '2' '2' '1' '1' '0' '0' '2' '0' '2' '1' '1' '1' '2' '2' '0'\n",
      " '2' '0' '1' '2' '2' '1' '1' '0' '1' '0' '1' '0' '0' '1' '0' '1' '1' '1'\n",
      " '2' '2' '2' '2' '0' '0' '0' '1' '0' '2' '2' '1' '2' '2' '0' '1' '1' '0'\n",
      " '1' '0' '1' '2' '2' '1' '0' '1' '2' '1' '1' '1' '0' '0' '0' '0' '1' '2'\n",
      " '1' '1' '2' '2' '1' '2' '1' '1' '0' '0' '0' '0' '0' '0' '0' '0' '2' '2'\n",
      " '0' '0' '0' '0' '0' '1' '1' '2' '1' '0' '0' '2' '2' '1' '0' '1' '0' '1'\n",
      " '2' '2' '2' '1' '1' '2' '2' '1' '2' '1' '1' '1' '2' '0' '1' '0' '2' '0'\n",
      " '0' '0' '2' '1' '0' '2' '0' '1' '0' '2' '1' '0' '2' '0' '2' '1' '0' '0'\n",
      " '0' '0' '2' '1' '1' '1' '0' '1' '0' '0' '1' '0' '1' '1' '0' '1' '2' '0'\n",
      " '1' '1' '1' '1' '2' '1' '1' '1' '1' '0' '1' '2' '2' '2' '0' '0' '1' '1'\n",
      " '0' '1' '2' '2' '0' '1' '2' '2' '1' '2' '1' '0' '0' '2' '2' '1' '2' '2'\n",
      " '2' '2' '2' '0' '2' '1' '1' '1' '1' '0' '0' '2' '0' '0' '0' '0' '0' '0'\n",
      " '2' '1' '1' '0' '1' '2' '2' '0' '0' '0' '2' '1' '1' '0' '0' '0' '1' '0'\n",
      " '1' '2' '2' '2' '1' '2' '1' '1' '2' '2' '1' '1' '2' '1' '2' '1' '2' '2'\n",
      " '0' '0' '2' '0' '2' '2' '2' '1' '0' '0' '2' '0' '0' '0' '1' '2' '2' '1'\n",
      " '1' '0' '0' '1' '2' '1' '0' '2' '2' '0' '2' '1' '0' '2' '2' '0' '0' '1'\n",
      " '0' '0' '2' '2' '1' '1' '0' '2' '0' '0' '0' '1' '1' '0' '2' '0' '2' '0'\n",
      " '1' '1' '1' '2' '2' '0' '2' '1' '0' '2' '2' '1' '0' '2' '1' '2' '1' '2'\n",
      " '2' '0' '1' '1' '2' '2' '1' '1' '0' '0' '1' '0' '1' '2' '0' '0' '0' '1'\n",
      " '1' '0' '1' '2' '0' '1' '0' '0' '2' '0' '1' '0' '0' '1' '1' '1' '2' '2'\n",
      " '0' '0' '1' '2' '2' '2' '1' '0' '2' '2' '0' '0' '2' '2' '1' '2' '2' '1'\n",
      " '1' '1' '0' '1' '0' '2' '0' '2']\n"
     ]
    }
   ],
   "source": [
    "# 模型原標籤\n",
    "true_label = y_test_org\n",
    "true_label = np.array(true_label)\n",
    "print(true_label)\n",
    "# print(len(true_label))"
   ]
  },
  {
   "cell_type": "code",
   "execution_count": 43,
   "metadata": {},
   "outputs": [
    {
     "data": {
      "text/html": [
       "<div>\n",
       "<style scoped>\n",
       "    .dataframe tbody tr th:only-of-type {\n",
       "        vertical-align: middle;\n",
       "    }\n",
       "\n",
       "    .dataframe tbody tr th {\n",
       "        vertical-align: top;\n",
       "    }\n",
       "\n",
       "    .dataframe thead th {\n",
       "        text-align: right;\n",
       "    }\n",
       "</style>\n",
       "<table border=\"1\" class=\"dataframe\">\n",
       "  <thead>\n",
       "    <tr style=\"text-align: right;\">\n",
       "      <th>預測值</th>\n",
       "      <th>0</th>\n",
       "      <th>1</th>\n",
       "      <th>2</th>\n",
       "    </tr>\n",
       "    <tr>\n",
       "      <th>實際值</th>\n",
       "      <th></th>\n",
       "      <th></th>\n",
       "      <th></th>\n",
       "    </tr>\n",
       "  </thead>\n",
       "  <tbody>\n",
       "    <tr>\n",
       "      <th>0</th>\n",
       "      <td>228</td>\n",
       "      <td>14</td>\n",
       "      <td>1</td>\n",
       "    </tr>\n",
       "    <tr>\n",
       "      <th>1</th>\n",
       "      <td>111</td>\n",
       "      <td>154</td>\n",
       "      <td>28</td>\n",
       "    </tr>\n",
       "    <tr>\n",
       "      <th>2</th>\n",
       "      <td>16</td>\n",
       "      <td>22</td>\n",
       "      <td>226</td>\n",
       "    </tr>\n",
       "  </tbody>\n",
       "</table>\n",
       "</div>"
      ],
      "text/plain": [
       "預測值    0    1    2\n",
       "實際值               \n",
       "0    228   14    1\n",
       "1    111  154   28\n",
       "2     16   22  226"
      ]
     },
     "execution_count": 43,
     "metadata": {},
     "output_type": "execute_result"
    }
   ],
   "source": [
    "pd.crosstab(true_label,predict_label,rownames=['實際值'],colnames=['預測值'])"
   ]
  },
  {
   "cell_type": "code",
   "execution_count": 44,
   "metadata": {},
   "outputs": [
    {
     "name": "stdout",
     "output_type": "stream",
     "text": [
      "正确率为:76.00%\n"
     ]
    }
   ],
   "source": [
    "# 整體準確度\n",
    "count = 0\n",
    "for i in range(len(y_pred)):\n",
    "    if(np.argmax(y_pred[i]) == np.argmax(y_test[i])): #argmax函数找到最大值的索引，即为其类别\n",
    "        count += 1\n",
    "score = count/len(y_pred)\n",
    "print('正确率为:%.2f%s' % (score*100,'%'))"
   ]
  },
  {
   "cell_type": "code",
   "execution_count": null,
   "metadata": {},
   "outputs": [],
   "source": [
    "# 儲存模型相關參數\n",
    "# model.save('h5/'+file_name+'.h5')"
   ]
  },
  {
   "cell_type": "code",
   "execution_count": null,
   "metadata": {},
   "outputs": [],
   "source": []
  },
  {
   "cell_type": "raw",
   "metadata": {},
   "source": [
    "### https://github.com/linsamtw/cifar10_vgg16_kaggle"
   ]
  }
 ],
 "metadata": {
  "kernelspec": {
   "display_name": "conda_tensorflow_p36",
   "language": "python",
   "name": "conda_tensorflow_p36"
  },
  "language_info": {
   "codemirror_mode": {
    "name": "ipython",
    "version": 3
   },
   "file_extension": ".py",
   "mimetype": "text/x-python",
   "name": "python",
   "nbconvert_exporter": "python",
   "pygments_lexer": "ipython3",
   "version": "3.6.6"
  }
 },
 "nbformat": 4,
 "nbformat_minor": 4
}
