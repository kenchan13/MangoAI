{
 "cells": [
  {
   "cell_type": "code",
   "execution_count": 1,
   "metadata": {},
   "outputs": [],
   "source": [
    "# 設定超參數HyperParameters \n",
    "batch_size =  128\n",
    "epochs = 100\n",
    "image_size = 128\n",
    "lr=0.01"
   ]
  },
  {
   "cell_type": "markdown",
   "metadata": {},
   "source": [
    "## 一、載入相關套件"
   ]
  },
  {
   "cell_type": "code",
   "execution_count": 2,
   "metadata": {},
   "outputs": [
    {
     "name": "stderr",
     "output_type": "stream",
     "text": [
      "\n",
      "Bad key \"text.kerning_factor\" on line 4 in\n",
      "/home/ec2-user/anaconda3/envs/tensorflow_p36/lib/python3.6/site-packages/matplotlib/mpl-data/stylelib/_classic_test_patch.mplstyle.\n",
      "You probably need to get an updated matplotlibrc file from\n",
      "https://github.com/matplotlib/matplotlib/blob/v3.1.3/matplotlibrc.template\n",
      "or from the matplotlib source distribution\n"
     ]
    }
   ],
   "source": [
    "import os\n",
    "import cv2\n",
    "import csv\n",
    "import random\n",
    "import time\n",
    "import numpy as np\n",
    "import pandas as pd\n",
    "import matplotlib.image as mpimg # mpimg 用於讀取圖片\n",
    "import matplotlib.pyplot as plt # plt 用於顯示圖片\n",
    "import seaborn as sns"
   ]
  },
  {
   "cell_type": "code",
   "execution_count": 3,
   "metadata": {},
   "outputs": [],
   "source": [
    "import tensorflow as tf\n",
    "\n",
    "from tensorflow.keras.applications.vgg19 import VGG19\n",
    "from tensorflow.keras.preprocessing import image\n",
    "from tensorflow.keras.applications.vgg19 import preprocess_input\n",
    "from tensorflow.keras import Model\n",
    "from tensorflow.keras.preprocessing.image import ImageDataGenerator, array_to_img, img_to_array, load_img\n",
    "from tensorflow.keras.utils import to_categorical\n",
    "from tensorflow.keras import utils as np_utils\n",
    "from tensorflow import keras\n",
    "from tensorflow.keras import optimizers\n",
    "from tensorflow.keras import layers\n",
    "from tensorflow.keras.layers import Input, Dropout, Flatten, Convolution2D, MaxPooling2D, ZeroPadding2D, Dense, Activation, Conv2DTranspose"
   ]
  },
  {
   "cell_type": "code",
   "execution_count": 4,
   "metadata": {},
   "outputs": [],
   "source": [
    "import tensorflow_datasets as tfds"
   ]
  },
  {
   "cell_type": "code",
   "execution_count": 5,
   "metadata": {},
   "outputs": [
    {
     "name": "stdout",
     "output_type": "stream",
     "text": [
      "1 Physical GPUs, 1 Logical GPUs\n"
     ]
    }
   ],
   "source": [
    "gpus = tf.config.experimental.list_physical_devices('GPU')\n",
    "if gpus:\n",
    "    try:\n",
    "        # Currently, memory growth needs to be the same across GPUs\n",
    "        for gpu in gpus:\n",
    "            tf.config.experimental.set_memory_growth(gpu, True)\n",
    "        tf.config.experimental.set_visible_devices(gpus[0], 'GPU')\n",
    "        logical_gpus = tf.config.experimental.list_logical_devices('GPU')\n",
    "        print(len(gpus), \"Physical GPUs,\", len(logical_gpus), \"Logical GPUs\")\n",
    "    except RuntimeError as e:\n",
    "        # Memory growth must be set before GPUs have been initialized\n",
    "        print(e)"
   ]
  },
  {
   "cell_type": "code",
   "execution_count": 6,
   "metadata": {},
   "outputs": [
    {
     "name": "stdout",
     "output_type": "stream",
     "text": [
      "Start Time 2020-05-22 01:22:41.427854+08:00\n"
     ]
    }
   ],
   "source": [
    "# Print Start time\n",
    "from datetime import datetime, timezone\n",
    "import pytz\n",
    "\n",
    "tpe = pytz.timezone('Asia/Taipei')\n",
    "utc_start = datetime.now()\n",
    "print(\"Start Time\", tpe.fromutc(utc_start))"
   ]
  },
  {
   "cell_type": "markdown",
   "metadata": {},
   "source": [
    "## 製作標籤&資料集"
   ]
  },
  {
   "cell_type": "code",
   "execution_count": 7,
   "metadata": {},
   "outputs": [],
   "source": [
    "def preProcess(ds):\n",
    "    X = []\n",
    "    y = []\n",
    "    for ds_numpy in tfds.as_numpy(ds):\n",
    "        res = tf.image.resize(ds_numpy['image'],(image_size,image_size),method='bilinear')\n",
    "        X.append(res)\n",
    "        y.append(ds_numpy['label'])\n",
    "    X = tf.convert_to_tensor(X)\n",
    "    y = np_utils.to_categorical(y)\n",
    "    \n",
    "    return X, y"
   ]
  },
  {
   "cell_type": "code",
   "execution_count": 8,
   "metadata": {},
   "outputs": [],
   "source": [
    "# Build your input pipeline\n",
    "train_ds = tfds.load(\"beans\", split=\"train\", shuffle_files=True)\n",
    "valid_ds = tfds.load(\"beans\", split=\"validation\", shuffle_files=True)\n",
    "test_ds = tfds.load(\"beans\", split=\"test\", shuffle_files=True)"
   ]
  },
  {
   "cell_type": "code",
   "execution_count": 9,
   "metadata": {},
   "outputs": [],
   "source": [
    "x_train, y_train = preProcess(train_ds)\n",
    "x_valid, y_valid = preProcess(valid_ds)\n",
    "x_test, y_test = preProcess(test_ds)"
   ]
  },
  {
   "cell_type": "code",
   "execution_count": 10,
   "metadata": {},
   "outputs": [
    {
     "data": {
      "text/plain": [
       "TensorShape([128, 128, 128, 3])"
      ]
     },
     "execution_count": 10,
     "metadata": {},
     "output_type": "execute_result"
    }
   ],
   "source": [
    "x_test.shape"
   ]
  },
  {
   "cell_type": "markdown",
   "metadata": {},
   "source": [
    "## 建立Model"
   ]
  },
  {
   "cell_type": "code",
   "execution_count": 11,
   "metadata": {},
   "outputs": [],
   "source": [
    "# 建立深度學習CNN Model\n",
    "\n",
    "model = tf.keras.Sequential()\n",
    "\n",
    "model.add(layers.Conv2D(16,(3,3),\n",
    "                 strides=(1,1),\n",
    "                 input_shape=(image_size, image_size, 3),\n",
    "                 padding='same',\n",
    "                 activation='relu',\n",
    "                 ))\n",
    "\n",
    "model.add(layers.BatchNormalization())\n",
    "\n",
    "model.add(layers.MaxPooling2D(pool_size=(2,2),strides=None))\n",
    "\n",
    "model.add(layers.Conv2D(32,(3,3),\n",
    "                 strides=(1,1),\n",
    "                 padding='same',\n",
    "                 activation='relu',\n",
    "                 ))\n",
    "\n",
    "model.add(layers.MaxPooling2D(pool_size=(2,2),strides=None))\n",
    "\n",
    "model.add(layers.Conv2D(64,(3,3),\n",
    "                 strides=(1,1),\n",
    "                 padding='same',\n",
    "                 activation='relu',\n",
    "                 ))\n",
    "\n",
    "model.add(layers.MaxPooling2D(pool_size=(2,2),strides=None))\n",
    "\n",
    "model.add(layers.Flatten())\n",
    "\n",
    "model.add(layers.Dense(64,activation='relu'))\n",
    "\n",
    "model.add(layers.Dense(128,activation='relu'))\n",
    "\n",
    "\n",
    "model.add(layers.Dropout(0.2))\n",
    "\n",
    "model.add(layers.Dense(3,activation='softmax'))"
   ]
  },
  {
   "cell_type": "code",
   "execution_count": 12,
   "metadata": {},
   "outputs": [],
   "source": [
    "adam = optimizers.Adam(lr=lr)\n",
    "model.compile(optimizer=adam,\n",
    "              loss=tf.keras.losses.CategoricalCrossentropy(),\n",
    "              metrics=['acc'])"
   ]
  },
  {
   "cell_type": "code",
   "execution_count": 13,
   "metadata": {},
   "outputs": [],
   "source": [
    "# model.summary()"
   ]
  },
  {
   "cell_type": "markdown",
   "metadata": {},
   "source": [
    "## 訓練"
   ]
  },
  {
   "cell_type": "code",
   "execution_count": 14,
   "metadata": {},
   "outputs": [],
   "source": [
    "# zca_whitening 對輸入數據施加ZCA白化\n",
    "# rotation_range 數據提升時圖片隨機轉動的角度\n",
    "# width_shift_range 圖片寬度的某個比例，數據提升時圖片水平偏移的幅度\n",
    "# shear_range 剪切強度（逆時針方向的剪切變換角度）\n",
    "# zoom_range 隨機縮放的幅度\n",
    "# horizontal_flip 進行隨機水平翻轉\n",
    "# fill_mode ‘constant’，‘nearest’，‘reflect’或‘wrap’之一，當進行變換時超出邊界的點將根據本參數給定的方法進行處理\n",
    "\n",
    "datagen = ImageDataGenerator(\n",
    "    zca_whitening=False,\n",
    "    rotation_range=40,\n",
    "    width_shift_range=0.2,\n",
    "    height_shift_range=0.2,\n",
    "    shear_range=0.2,\n",
    "    zoom_range=0.2,\n",
    "    horizontal_flip=True,\n",
    "    vertical_flip=True,\n",
    "    fill_mode='nearest')"
   ]
  },
  {
   "cell_type": "code",
   "execution_count": 15,
   "metadata": {},
   "outputs": [],
   "source": [
    "# 檔名設定\n",
    "file_name = str(epochs)+'_'+str(batch_size)"
   ]
  },
  {
   "cell_type": "code",
   "execution_count": 16,
   "metadata": {},
   "outputs": [],
   "source": [
    "# 加入EarlyStopping以及Tensorboard等回調函數\n",
    "CB = tf.keras.callbacks.EarlyStopping(monitor='val_loss', patience=10)\n",
    "TB = keras.callbacks.TensorBoard(log_dir='./log'+\"_\"+file_name, histogram_freq=1)"
   ]
  },
  {
   "cell_type": "code",
   "execution_count": 17,
   "metadata": {
    "scrolled": true
   },
   "outputs": [
    {
     "name": "stdout",
     "output_type": "stream",
     "text": [
      "Epoch 1/100\n",
      "9/9 [==============================] - 1s 129ms/step - loss: 10.9969 - acc: 0.3752 - val_loss: 9.4783 - val_acc: 0.3308\n",
      "Epoch 2/100\n",
      "9/9 [==============================] - 1s 67ms/step - loss: 0.9966 - acc: 0.4913 - val_loss: 3.7847 - val_acc: 0.4361\n",
      "Epoch 3/100\n",
      "9/9 [==============================] - 1s 67ms/step - loss: 0.9468 - acc: 0.5203 - val_loss: 5.7000 - val_acc: 0.3308\n",
      "Epoch 4/100\n",
      "9/9 [==============================] - 1s 66ms/step - loss: 0.8900 - acc: 0.5658 - val_loss: 1.0623 - val_acc: 0.4586\n",
      "Epoch 5/100\n",
      "9/9 [==============================] - 1s 68ms/step - loss: 0.8191 - acc: 0.5803 - val_loss: 1.2321 - val_acc: 0.5263\n",
      "Epoch 6/100\n",
      "9/9 [==============================] - 1s 68ms/step - loss: 0.7494 - acc: 0.6344 - val_loss: 1.9786 - val_acc: 0.5338\n",
      "Epoch 7/100\n",
      "9/9 [==============================] - 1s 67ms/step - loss: 0.7554 - acc: 0.6702 - val_loss: 1.3783 - val_acc: 0.4812\n",
      "Epoch 8/100\n",
      "9/9 [==============================] - 1s 67ms/step - loss: 0.6783 - acc: 0.7002 - val_loss: 2.2904 - val_acc: 0.3985\n",
      "Epoch 9/100\n",
      "9/9 [==============================] - 1s 68ms/step - loss: 0.6382 - acc: 0.7360 - val_loss: 2.3380 - val_acc: 0.5113\n",
      "Epoch 10/100\n",
      "9/9 [==============================] - 1s 66ms/step - loss: 0.5457 - acc: 0.7795 - val_loss: 2.6299 - val_acc: 0.4060\n",
      "Epoch 11/100\n",
      "9/9 [==============================] - 1s 68ms/step - loss: 0.4621 - acc: 0.8143 - val_loss: 4.2730 - val_acc: 0.3759\n",
      "Epoch 12/100\n",
      "9/9 [==============================] - 1s 68ms/step - loss: 0.4031 - acc: 0.8308 - val_loss: 3.7114 - val_acc: 0.3609\n",
      "Epoch 13/100\n",
      "9/9 [==============================] - 1s 67ms/step - loss: 0.4173 - acc: 0.8250 - val_loss: 2.2130 - val_acc: 0.5940\n",
      "Epoch 14/100\n",
      "9/9 [==============================] - 1s 68ms/step - loss: 0.4659 - acc: 0.8017 - val_loss: 1.5943 - val_acc: 0.5414\n",
      "Epoch 15/100\n",
      "9/9 [==============================] - 1s 67ms/step - loss: 0.4314 - acc: 0.8269 - val_loss: 1.5057 - val_acc: 0.5639\n",
      "Epoch 16/100\n",
      "9/9 [==============================] - 1s 68ms/step - loss: 0.3572 - acc: 0.8656 - val_loss: 1.5155 - val_acc: 0.6015\n",
      "Epoch 17/100\n",
      "9/9 [==============================] - 1s 68ms/step - loss: 0.2580 - acc: 0.9091 - val_loss: 3.6917 - val_acc: 0.4286\n",
      "Epoch 18/100\n",
      "9/9 [==============================] - 1s 67ms/step - loss: 0.3398 - acc: 0.8781 - val_loss: 3.4820 - val_acc: 0.4662\n",
      "Epoch 19/100\n",
      "9/9 [==============================] - 1s 68ms/step - loss: 1.3969 - acc: 0.5957 - val_loss: 1.0513 - val_acc: 0.4211\n",
      "Epoch 20/100\n",
      "9/9 [==============================] - 1s 69ms/step - loss: 0.8513 - acc: 0.6103 - val_loss: 0.9962 - val_acc: 0.4962\n",
      "Epoch 21/100\n",
      "9/9 [==============================] - 1s 68ms/step - loss: 0.7957 - acc: 0.6422 - val_loss: 1.3454 - val_acc: 0.5113\n",
      "Epoch 22/100\n",
      "9/9 [==============================] - 1s 67ms/step - loss: 0.7426 - acc: 0.6789 - val_loss: 1.2074 - val_acc: 0.5263\n",
      "Epoch 23/100\n",
      "9/9 [==============================] - 1s 66ms/step - loss: 0.6411 - acc: 0.7224 - val_loss: 1.2512 - val_acc: 0.5113\n",
      "Epoch 24/100\n",
      "9/9 [==============================] - 1s 67ms/step - loss: 0.5391 - acc: 0.7747 - val_loss: 1.3633 - val_acc: 0.5263\n",
      "Epoch 25/100\n",
      "9/9 [==============================] - 1s 67ms/step - loss: 0.4737 - acc: 0.8037 - val_loss: 1.4812 - val_acc: 0.5489\n",
      "Epoch 26/100\n",
      "9/9 [==============================] - 1s 68ms/step - loss: 0.4178 - acc: 0.8404 - val_loss: 1.7696 - val_acc: 0.4737\n",
      "Epoch 27/100\n",
      "9/9 [==============================] - 1s 69ms/step - loss: 0.3347 - acc: 0.8675 - val_loss: 2.1529 - val_acc: 0.5113\n",
      "Epoch 28/100\n",
      "9/9 [==============================] - 1s 68ms/step - loss: 0.2907 - acc: 0.8907 - val_loss: 1.6685 - val_acc: 0.5714\n",
      "Epoch 29/100\n",
      "9/9 [==============================] - 1s 80ms/step - loss: 0.3936 - acc: 0.8569 - val_loss: 1.3835 - val_acc: 0.5564\n",
      "Epoch 30/100\n",
      "9/9 [==============================] - 1s 67ms/step - loss: 0.2786 - acc: 0.8975 - val_loss: 1.5793 - val_acc: 0.5714\n",
      "Epoch 31/100\n",
      "9/9 [==============================] - 1s 67ms/step - loss: 0.2356 - acc: 0.9091 - val_loss: 1.8824 - val_acc: 0.5714\n",
      "Epoch 32/100\n",
      "9/9 [==============================] - 1s 67ms/step - loss: 0.1552 - acc: 0.9410 - val_loss: 1.8199 - val_acc: 0.5639\n",
      "Epoch 33/100\n",
      "9/9 [==============================] - 1s 67ms/step - loss: 0.1156 - acc: 0.9603 - val_loss: 2.1281 - val_acc: 0.5489\n",
      "Epoch 34/100\n",
      "9/9 [==============================] - 1s 68ms/step - loss: 0.1600 - acc: 0.9507 - val_loss: 2.2597 - val_acc: 0.5338\n",
      "Epoch 35/100\n",
      "9/9 [==============================] - 1s 67ms/step - loss: 0.1271 - acc: 0.9613 - val_loss: 2.6154 - val_acc: 0.5263\n",
      "Epoch 36/100\n",
      "9/9 [==============================] - 1s 68ms/step - loss: 0.1412 - acc: 0.9574 - val_loss: 2.8672 - val_acc: 0.5263\n",
      "Epoch 37/100\n",
      "9/9 [==============================] - 1s 67ms/step - loss: 0.0806 - acc: 0.9749 - val_loss: 2.9167 - val_acc: 0.5564\n",
      "Epoch 38/100\n",
      "9/9 [==============================] - 1s 68ms/step - loss: 0.4255 - acc: 0.8810 - val_loss: 1.9317 - val_acc: 0.5789\n",
      "Epoch 39/100\n",
      "9/9 [==============================] - 1s 66ms/step - loss: 0.2254 - acc: 0.9304 - val_loss: 2.2174 - val_acc: 0.5263\n",
      "Epoch 40/100\n",
      "9/9 [==============================] - 1s 68ms/step - loss: 0.2014 - acc: 0.9362 - val_loss: 1.8051 - val_acc: 0.5564\n",
      "Epoch 41/100\n",
      "9/9 [==============================] - 1s 67ms/step - loss: 0.0892 - acc: 0.9729 - val_loss: 1.9159 - val_acc: 0.6165\n",
      "Epoch 42/100\n",
      "9/9 [==============================] - 1s 67ms/step - loss: 0.0766 - acc: 0.9807 - val_loss: 2.0622 - val_acc: 0.5338\n",
      "Epoch 43/100\n",
      "9/9 [==============================] - 1s 68ms/step - loss: 0.0848 - acc: 0.9749 - val_loss: 2.1373 - val_acc: 0.5414\n",
      "Epoch 44/100\n",
      "9/9 [==============================] - 1s 66ms/step - loss: 0.0675 - acc: 0.9739 - val_loss: 3.0517 - val_acc: 0.4812\n",
      "Epoch 45/100\n",
      "9/9 [==============================] - 1s 68ms/step - loss: 0.1329 - acc: 0.9623 - val_loss: 3.8271 - val_acc: 0.4812\n",
      "Epoch 46/100\n",
      "9/9 [==============================] - 1s 67ms/step - loss: 0.0760 - acc: 0.9691 - val_loss: 2.6472 - val_acc: 0.5489\n",
      "Epoch 47/100\n",
      "9/9 [==============================] - 1s 68ms/step - loss: 0.0926 - acc: 0.9778 - val_loss: 4.4897 - val_acc: 0.4662\n",
      "Epoch 48/100\n",
      "9/9 [==============================] - 1s 68ms/step - loss: 0.2025 - acc: 0.9439 - val_loss: 2.9119 - val_acc: 0.4586\n",
      "Epoch 49/100\n",
      "9/9 [==============================] - 1s 67ms/step - loss: 0.0890 - acc: 0.9662 - val_loss: 3.9520 - val_acc: 0.5489\n",
      "Epoch 50/100\n",
      "9/9 [==============================] - 1s 68ms/step - loss: 0.0665 - acc: 0.9826 - val_loss: 3.5265 - val_acc: 0.5489\n",
      "Epoch 51/100\n",
      "9/9 [==============================] - 1s 66ms/step - loss: 0.0590 - acc: 0.9845 - val_loss: 3.2287 - val_acc: 0.5338\n",
      "Epoch 52/100\n",
      "9/9 [==============================] - 1s 67ms/step - loss: 0.0319 - acc: 0.9923 - val_loss: 3.1954 - val_acc: 0.5113\n",
      "Epoch 53/100\n",
      "9/9 [==============================] - 1s 69ms/step - loss: 0.0221 - acc: 0.9942 - val_loss: 2.9750 - val_acc: 0.5564\n",
      "Epoch 54/100\n",
      "9/9 [==============================] - 1s 68ms/step - loss: 0.1001 - acc: 0.9758 - val_loss: 3.3141 - val_acc: 0.5639\n",
      "Epoch 55/100\n",
      "9/9 [==============================] - 1s 67ms/step - loss: 0.0681 - acc: 0.9758 - val_loss: 3.7873 - val_acc: 0.5489\n",
      "Epoch 56/100\n",
      "9/9 [==============================] - 1s 66ms/step - loss: 0.0706 - acc: 0.9749 - val_loss: 4.6364 - val_acc: 0.5338\n",
      "Epoch 57/100\n",
      "9/9 [==============================] - 1s 68ms/step - loss: 0.0438 - acc: 0.9855 - val_loss: 4.1250 - val_acc: 0.5338\n",
      "Epoch 58/100\n",
      "9/9 [==============================] - 1s 67ms/step - loss: 0.0296 - acc: 0.9894 - val_loss: 4.5290 - val_acc: 0.5564\n",
      "Epoch 59/100\n",
      "9/9 [==============================] - 1s 66ms/step - loss: 0.0116 - acc: 0.9971 - val_loss: 4.6172 - val_acc: 0.5564\n",
      "Epoch 60/100\n",
      "9/9 [==============================] - 1s 66ms/step - loss: 0.0103 - acc: 0.9990 - val_loss: 4.4642 - val_acc: 0.5564\n",
      "Epoch 61/100\n",
      "9/9 [==============================] - 1s 68ms/step - loss: 0.0394 - acc: 0.9971 - val_loss: 4.7077 - val_acc: 0.5639\n",
      "Epoch 62/100\n",
      "9/9 [==============================] - 1s 67ms/step - loss: 0.0378 - acc: 0.9923 - val_loss: 4.4628 - val_acc: 0.6165\n",
      "Epoch 63/100\n",
      "9/9 [==============================] - 1s 68ms/step - loss: 0.1652 - acc: 0.9720 - val_loss: 4.1431 - val_acc: 0.5188\n",
      "Epoch 64/100\n",
      "9/9 [==============================] - 1s 67ms/step - loss: 0.0689 - acc: 0.9787 - val_loss: 3.4983 - val_acc: 0.4962\n",
      "Epoch 65/100\n",
      "9/9 [==============================] - 1s 68ms/step - loss: 0.1010 - acc: 0.9749 - val_loss: 2.3924 - val_acc: 0.5639\n",
      "Epoch 66/100\n",
      "9/9 [==============================] - 1s 67ms/step - loss: 0.0893 - acc: 0.9739 - val_loss: 2.8242 - val_acc: 0.5639\n",
      "Epoch 67/100\n",
      "9/9 [==============================] - 1s 67ms/step - loss: 0.0483 - acc: 0.9874 - val_loss: 5.0054 - val_acc: 0.4586\n",
      "Epoch 68/100\n",
      "9/9 [==============================] - 1s 68ms/step - loss: 0.2407 - acc: 0.9381 - val_loss: 3.5087 - val_acc: 0.5338\n",
      "Epoch 69/100\n",
      "9/9 [==============================] - 1s 67ms/step - loss: 0.1590 - acc: 0.9468 - val_loss: 3.0991 - val_acc: 0.4511\n",
      "Epoch 70/100\n",
      "9/9 [==============================] - 1s 68ms/step - loss: 0.0888 - acc: 0.9758 - val_loss: 2.4157 - val_acc: 0.5263\n",
      "Epoch 71/100\n",
      "9/9 [==============================] - 1s 67ms/step - loss: 0.0616 - acc: 0.9865 - val_loss: 2.5928 - val_acc: 0.5188\n",
      "Epoch 72/100\n",
      "9/9 [==============================] - 1s 67ms/step - loss: 0.0315 - acc: 0.9913 - val_loss: 3.1650 - val_acc: 0.5940\n",
      "Epoch 73/100\n",
      "9/9 [==============================] - 1s 66ms/step - loss: 0.0208 - acc: 0.9971 - val_loss: 3.1787 - val_acc: 0.5865\n",
      "Epoch 74/100\n",
      "9/9 [==============================] - 1s 67ms/step - loss: 0.0148 - acc: 0.9961 - val_loss: 3.1805 - val_acc: 0.5865\n",
      "Epoch 75/100\n",
      "9/9 [==============================] - 1s 69ms/step - loss: 0.0196 - acc: 0.9923 - val_loss: 3.2826 - val_acc: 0.5714\n",
      "Epoch 76/100\n",
      "9/9 [==============================] - 1s 67ms/step - loss: 0.0088 - acc: 0.9990 - val_loss: 3.5848 - val_acc: 0.5789\n",
      "Epoch 77/100\n",
      "9/9 [==============================] - 1s 66ms/step - loss: 0.0122 - acc: 0.9971 - val_loss: 3.4425 - val_acc: 0.6165\n",
      "Epoch 78/100\n",
      "9/9 [==============================] - 1s 67ms/step - loss: 0.0046 - acc: 0.9990 - val_loss: 3.5445 - val_acc: 0.5639\n",
      "Epoch 79/100\n",
      "9/9 [==============================] - 1s 67ms/step - loss: 0.0031 - acc: 1.0000 - val_loss: 4.6742 - val_acc: 0.5489\n",
      "Epoch 80/100\n",
      "9/9 [==============================] - 1s 67ms/step - loss: 0.0154 - acc: 0.9961 - val_loss: 3.9575 - val_acc: 0.5639\n",
      "Epoch 81/100\n",
      "9/9 [==============================] - 1s 67ms/step - loss: 0.0363 - acc: 0.9894 - val_loss: 4.4589 - val_acc: 0.5714\n",
      "Epoch 82/100\n",
      "9/9 [==============================] - 1s 67ms/step - loss: 0.0118 - acc: 0.9961 - val_loss: 4.4529 - val_acc: 0.5188\n",
      "Epoch 83/100\n",
      "9/9 [==============================] - 1s 66ms/step - loss: 0.0095 - acc: 0.9971 - val_loss: 5.0100 - val_acc: 0.5038\n",
      "Epoch 84/100\n",
      "9/9 [==============================] - 1s 67ms/step - loss: 0.0109 - acc: 0.9971 - val_loss: 4.6590 - val_acc: 0.4962\n",
      "Epoch 85/100\n",
      "9/9 [==============================] - 1s 68ms/step - loss: 0.0033 - acc: 1.0000 - val_loss: 4.3777 - val_acc: 0.5564\n",
      "Epoch 86/100\n",
      "9/9 [==============================] - 1s 67ms/step - loss: 0.0071 - acc: 0.9990 - val_loss: 4.2922 - val_acc: 0.5414\n",
      "Epoch 87/100\n",
      "9/9 [==============================] - 1s 67ms/step - loss: 0.0061 - acc: 0.9990 - val_loss: 4.4339 - val_acc: 0.5414\n",
      "Epoch 88/100\n",
      "9/9 [==============================] - 1s 67ms/step - loss: 0.0087 - acc: 0.9961 - val_loss: 5.1936 - val_acc: 0.5564\n",
      "Epoch 89/100\n",
      "9/9 [==============================] - 1s 66ms/step - loss: 0.0093 - acc: 0.9981 - val_loss: 4.7819 - val_acc: 0.5940\n",
      "Epoch 90/100\n",
      "9/9 [==============================] - 1s 68ms/step - loss: 0.0120 - acc: 0.9971 - val_loss: 4.8405 - val_acc: 0.6090\n",
      "Epoch 91/100\n",
      "9/9 [==============================] - 1s 67ms/step - loss: 0.0076 - acc: 0.9990 - val_loss: 4.7555 - val_acc: 0.6241\n",
      "Epoch 92/100\n",
      "9/9 [==============================] - 1s 67ms/step - loss: 0.0082 - acc: 0.9981 - val_loss: 4.6905 - val_acc: 0.6015\n",
      "Epoch 93/100\n",
      "9/9 [==============================] - 1s 67ms/step - loss: 0.0082 - acc: 0.9981 - val_loss: 4.4782 - val_acc: 0.6090\n",
      "Epoch 94/100\n",
      "9/9 [==============================] - 1s 69ms/step - loss: 0.3081 - acc: 0.9603 - val_loss: 4.7733 - val_acc: 0.5338\n",
      "Epoch 95/100\n",
      "9/9 [==============================] - 1s 66ms/step - loss: 0.1448 - acc: 0.9594 - val_loss: 3.6049 - val_acc: 0.5714\n",
      "Epoch 96/100\n",
      "9/9 [==============================] - 1s 66ms/step - loss: 0.0791 - acc: 0.9778 - val_loss: 3.2599 - val_acc: 0.5564\n",
      "Epoch 97/100\n",
      "9/9 [==============================] - 1s 66ms/step - loss: 0.0521 - acc: 0.9874 - val_loss: 4.8835 - val_acc: 0.4361\n",
      "Epoch 98/100\n",
      "9/9 [==============================] - 1s 66ms/step - loss: 0.5403 - acc: 0.8743 - val_loss: 3.0642 - val_acc: 0.5639\n",
      "Epoch 99/100\n",
      "9/9 [==============================] - 1s 66ms/step - loss: 0.2878 - acc: 0.9236 - val_loss: 4.0494 - val_acc: 0.4887\n",
      "Epoch 100/100\n",
      "9/9 [==============================] - 1s 65ms/step - loss: 0.1439 - acc: 0.9545 - val_loss: 3.7753 - val_acc: 0.4436\n"
     ]
    }
   ],
   "source": [
    "### Start Training\n",
    "history = model.fit(\n",
    "    x = x_train , y = y_train,\n",
    "    batch_size = batch_size,\n",
    "    epochs = epochs,\n",
    "    validation_data = (x_valid, y_valid)\n",
    ")"
   ]
  },
  {
   "cell_type": "code",
   "execution_count": 18,
   "metadata": {},
   "outputs": [
    {
     "name": "stdout",
     "output_type": "stream",
     "text": [
      "Finish Training Time 2020-05-22 01:23:57.048766+08:00\n"
     ]
    },
    {
     "data": {
      "text/plain": [
       "(1, 15)"
      ]
     },
     "execution_count": 18,
     "metadata": {},
     "output_type": "execute_result"
    }
   ],
   "source": [
    "# Print Finish Training time\n",
    "tpe = pytz.timezone('Asia/Taipei')\n",
    "utc_finish = datetime.now()\n",
    "print(\"Finish Training Time\", tpe.fromutc(utc_finish))\n",
    "\n",
    "difference = utc_finish-utc_start\n",
    "seconds_in_day = 24 * 60 * 60\n",
    "divmod(difference.days * seconds_in_day + difference.seconds, 60)"
   ]
  },
  {
   "cell_type": "markdown",
   "metadata": {},
   "source": [
    "## 繪製Model學習成效"
   ]
  },
  {
   "cell_type": "code",
   "execution_count": 19,
   "metadata": {},
   "outputs": [
    {
     "data": {
      "image/png": "[encoded data removed]",
      "text/plain": [
       "<Figure size 576x360 with 1 Axes>"
      ]
     },
     "metadata": {
      "needs_background": "light"
     },
     "output_type": "display_data"
    }
   ],
   "source": [
    "def plot_learning_curves(history):\n",
    "    pd.DataFrame(history.history).plot(figsize=(8,5))\n",
    "    plt.grid(True)\n",
    "    plt.gca().set_ylim(0,2)\n",
    "    plt.show()\n",
    "    \n",
    "plot_learning_curves(history)"
   ]
  },
  {
   "cell_type": "markdown",
   "metadata": {},
   "source": [
    "## 測試集預測準確度"
   ]
  },
  {
   "cell_type": "code",
   "execution_count": 20,
   "metadata": {},
   "outputs": [],
   "source": [
    "# 測試集標籤預測\n",
    "y_pred = model.predict(x_test)"
   ]
  },
  {
   "cell_type": "code",
   "execution_count": 21,
   "metadata": {},
   "outputs": [
    {
     "name": "stdout",
     "output_type": "stream",
     "text": [
      "[0 1 2 2 0 1 0 0 0 1 1 0 0 0 0 0 0 0 0 1 1 0 2 0 2 2 0 0 1 0 1 2 0 1 1 0 0\n",
      " 1 1 0 0 0 0 0 1 1 1 0 0 1 0 0 0 0 2 1 0 0 0 0 0 0 0 0 1 2 0 1 0 1 0 1 1 0\n",
      " 0 1 1 2 0 0 0 0 1 0 0 1 1 0 0 0 0 1 2 0 0 0 1 2 1 0 2 2 0 1 1 1 0 0 0 0 0\n",
      " 0 0 0 2 0 0 0 0 0 0 1 0 0 0 1 0 0]\n"
     ]
    }
   ],
   "source": [
    "# 模型預測後的標籤\n",
    "predict_label = np.argmax(y_pred,axis=1)\n",
    "print(predict_label)\n",
    "# print(len(predict_label))"
   ]
  },
  {
   "cell_type": "code",
   "execution_count": 22,
   "metadata": {},
   "outputs": [
    {
     "name": "stdout",
     "output_type": "stream",
     "text": [
      "[1 0 2 1 0 1 1 0 0 1 0 1 1 2 2 2 0 2 1 1 1 0 2 2 2 2 0 1 1 2 1 2 2 1 1 1 1\n",
      " 2 0 0 2 1 0 2 2 0 1 0 2 0 0 1 2 2 2 2 2 1 1 0 0 0 0 1 0 1 1 2 0 1 0 0 0 2\n",
      " 1 2 0 0 2 2 2 0 1 2 0 0 2 1 2 0 0 1 1 1 1 1 0 2 1 1 2 2 0 1 1 2 0 1 0 0 0\n",
      " 2 2 0 0 1 2 2 1 0 0 2 0 2 1 2 0 1]\n"
     ]
    }
   ],
   "source": [
    "# 模型原標籤\n",
    "true_label = np.argmax(y_test, axis=1)\n",
    "true_label = np.array(true_label)\n",
    "print(true_label)\n",
    "# print(len(true_label))"
   ]
  },
  {
   "cell_type": "code",
   "execution_count": 23,
   "metadata": {},
   "outputs": [
    {
     "data": {
      "text/html": [
       "<div>\n",
       "<style scoped>\n",
       "    .dataframe tbody tr th:only-of-type {\n",
       "        vertical-align: middle;\n",
       "    }\n",
       "\n",
       "    .dataframe tbody tr th {\n",
       "        vertical-align: top;\n",
       "    }\n",
       "\n",
       "    .dataframe thead th {\n",
       "        text-align: right;\n",
       "    }\n",
       "</style>\n",
       "<table border=\"1\" class=\"dataframe\">\n",
       "  <thead>\n",
       "    <tr style=\"text-align: right;\">\n",
       "      <th>預測值</th>\n",
       "      <th>0</th>\n",
       "      <th>1</th>\n",
       "      <th>2</th>\n",
       "    </tr>\n",
       "    <tr>\n",
       "      <th>實際值</th>\n",
       "      <th></th>\n",
       "      <th></th>\n",
       "      <th></th>\n",
       "    </tr>\n",
       "  </thead>\n",
       "  <tbody>\n",
       "    <tr>\n",
       "      <th>0</th>\n",
       "      <td>30</td>\n",
       "      <td>11</td>\n",
       "      <td>2</td>\n",
       "    </tr>\n",
       "    <tr>\n",
       "      <th>1</th>\n",
       "      <td>25</td>\n",
       "      <td>15</td>\n",
       "      <td>3</td>\n",
       "    </tr>\n",
       "    <tr>\n",
       "      <th>2</th>\n",
       "      <td>24</td>\n",
       "      <td>9</td>\n",
       "      <td>9</td>\n",
       "    </tr>\n",
       "  </tbody>\n",
       "</table>\n",
       "</div>"
      ],
      "text/plain": [
       "預測值   0   1  2\n",
       "實際值           \n",
       "0    30  11  2\n",
       "1    25  15  3\n",
       "2    24   9  9"
      ]
     },
     "execution_count": 23,
     "metadata": {},
     "output_type": "execute_result"
    }
   ],
   "source": [
    "pd.crosstab(true_label,predict_label,rownames=['實際值'],colnames=['預測值'])"
   ]
  },
  {
   "cell_type": "code",
   "execution_count": 24,
   "metadata": {},
   "outputs": [
    {
     "name": "stdout",
     "output_type": "stream",
     "text": [
      "正确率为:42.19%\n"
     ]
    }
   ],
   "source": [
    "# 整體準確度\n",
    "count = 0\n",
    "for i in range(len(y_pred)):\n",
    "    if(np.argmax(y_pred[i]) == np.argmax(y_test[i])): #argmax函数找到最大值的索引，即为其类别\n",
    "        count += 1\n",
    "score = count/len(y_pred)\n",
    "print('正确率为:%.2f%s' % (score*100,'%'))"
   ]
  },
  {
   "cell_type": "raw",
   "metadata": {},
   "source": [
    "### https://github.com/linsamtw/cifar10_vgg16_kaggle"
   ]
  }
 ],
 "metadata": {
  "kernelspec": {
   "display_name": "conda_tensorflow_p36",
   "language": "python",
   "name": "conda_tensorflow_p36"
  },
  "language_info": {
   "codemirror_mode": {
    "name": "ipython",
    "version": 3
   },
   "file_extension": ".py",
   "mimetype": "text/x-python",
   "name": "python",
   "nbconvert_exporter": "python",
   "pygments_lexer": "ipython3",
   "version": "3.6.10"
  }
 },
 "nbformat": 4,
 "nbformat_minor": 4
}
