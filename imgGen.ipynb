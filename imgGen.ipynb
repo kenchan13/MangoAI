{
 "cells": [
  {
   "cell_type": "code",
   "execution_count": 7,
   "metadata": {},
   "outputs": [
    {
     "name": "stdout",
     "output_type": "stream",
     "text": [
      "芒果圖片數量:  5600\n"
     ]
    },
    {
     "data": {
      "text/plain": [
       "'\\n# 製作訓練用資料集及標籤\\nfor i in range(picnum):\\n    img = cv2.imread(train_img_dir + labels_pic[i] + \".jpg\")\\n    res = cv2.resize(img,(128,128),interpolation=cv2.INTER_LINEAR)\\n    res = cv2.cvtColor(res,cv2.COLOR_BGR2RGB)\\n    cv2.imwrite(img_store_dir + labels_pic[i] + \".jpg\" , cv2.cvtColor(res, cv2.COLOR_RGB2BGR))\\n    # flip image\\n    img_flip0=cv2.flip(res,0)\\n    img_flip1=cv2.flip(res,1)\\n    img_flip2=cv2.flip(res,-1)\\n    cv2.imwrite(img_store_dir + labels_pic[i] + \"_flip0.jpg\" , cv2.cvtColor(img_flip0, cv2.COLOR_RGB2BGR))\\n    cv2.imwrite(img_store_dir + labels_pic[i] + \"_flip1.jpg\" , cv2.cvtColor(img_flip1, cv2.COLOR_RGB2BGR))\\n    cv2.imwrite(img_store_dir + labels_pic[i] + \"_flip2.jpg\" , cv2.cvtColor(img_flip2, cv2.COLOR_RGB2BGR))\\n    # rotate image\\n    (h, w) = res.shape[:2] \\n    center = (w // 2, h // 2)\\n    M_90 = cv2.getRotationMatrix2D(center, 90, 1.0)\\n    M_270 = cv2.getRotationMatrix2D(center, 270, 1.0)  \\n    rotated_img_90 = cv2.warpAffine(res, M_90, (w, h))\\n    rotated_img_270 = cv2.warpAffine(res, M_270, (w, h))\\n    cv2.imwrite(img_store_dir + labels_pic[i] + \"_rotate90.jpg\" , cv2.cvtColor(rotated_img_90, cv2.COLOR_RGB2BGR))\\n    cv2.imwrite(img_store_dir + labels_pic[i] + \"_rotate270.jpg\" , cv2.cvtColor(rotated_img_270, cv2.COLOR_RGB2BGR))\\n'"
      ]
     },
     "execution_count": 7,
     "metadata": {},
     "output_type": "execute_result"
    }
   ],
   "source": [
    "# 一. 載入套件\n",
    "# 資料處理套件\n",
    "import cv2\n",
    "import csv\n",
    "import random\n",
    "import time\n",
    "import numpy as np\n",
    "import pandas as pd\n",
    "import matplotlib.image as mpimg # mpimg 用於讀取圖片\n",
    "import matplotlib.pyplot as plt # plt 用於顯示圖片\n",
    "import seaborn as sns\n",
    "# 設定顯示中文字體\n",
    "from matplotlib.font_manager import FontProperties\n",
    "plt.rcParams['font.sans-serif'] = ['Microsoft JhengHei'] \n",
    "# Keras深度學習模組套件\n",
    "from keras.utils.np_utils import to_categorical\n",
    "from keras.preprocessing.image import ImageDataGenerator, array_to_img, img_to_array, load_img\n",
    "from keras.optimizers import RMSprop\n",
    "from keras.models import Sequential\n",
    "from keras import utils as np_utils\n",
    "from keras import backend as K\n",
    "from keras import optimizers\n",
    "# tensorflow深度學習模組套件\n",
    "from tensorflow.keras import models\n",
    "from tensorflow.keras import layers\n",
    "from tensorflow import keras\n",
    "import tensorflow as tf\n",
    "\n",
    "# generated image\n",
    "train_str = \"train.csv\"\n",
    "train_img_dir = \"C1-P1_Train/\" \n",
    "img_store_dir = \"generated_img/\"\n",
    "csvfile = open(train_str)\n",
    "reader = csv.reader(csvfile)\n",
    "labels_pic = []\n",
    "labels_level = []\n",
    "for line in reader:\n",
    "    labels_pic.append(line[0][:len(line[0])-4])\n",
    "    labels_level.append(line[1])\n",
    "csvfile.close() \n",
    "labels_pic.pop(0)\n",
    "labels_level.pop(0)\n",
    "picnum = len(labels_pic)\n",
    "print(\"芒果圖片數量: \",picnum)\n",
    "\n",
    "# make label_level csv\n",
    "with open('generated_img.csv', 'w', newline='') as csvfile:\n",
    "  # 定義欄位\n",
    "  fieldnames = ['image_id', 'label']\n",
    "\n",
    "  # 將 dictionary 寫入 CSV 檔\n",
    "  writer = csv.DictWriter(csvfile, fieldnames=fieldnames)\n",
    "\n",
    "  # 寫入第一列的欄位名稱\n",
    "  writer.writeheader()\n",
    "\n",
    "  # 寫入資料\n",
    "  for i in range(picnum):\n",
    "      writer.writerow({'image_id': labels_pic[i]+\".jpg\", 'label': labels_level[i]})\n",
    "      writer.writerow({'image_id': labels_pic[i]+\"_flip0.jpg\", 'label': labels_level[i]})\n",
    "      writer.writerow({'image_id': labels_pic[i]+\"_flip1.jpg\", 'label': labels_level[i]})\n",
    "      writer.writerow({'image_id': labels_pic[i]+\"_flip2.jpg\", 'label': labels_level[i]})\n",
    "      writer.writerow({'image_id': labels_pic[i]+\"_rotate90.jpg\", 'label': labels_level[i]})\n",
    "      writer.writerow({'image_id': labels_pic[i]+\"_rotate270.jpg\", 'label': labels_level[i]})\n",
    "\n",
    "# 產生並下載圖片\n",
    "for i in range(picnum):\n",
    "    img = cv2.imread(train_img_dir + labels_pic[i] + \".jpg\")\n",
    "    res = cv2.resize(img,(128,128),interpolation=cv2.INTER_LINEAR)\n",
    "    res = cv2.cvtColor(res,cv2.COLOR_BGR2RGB)\n",
    "    cv2.imwrite(img_store_dir + labels_pic[i] + \".jpg\" , cv2.cvtColor(res, cv2.COLOR_RGB2BGR))\n",
    "    # flip image\n",
    "    img_flip0=cv2.flip(res,0)\n",
    "    img_flip1=cv2.flip(res,1)\n",
    "    img_flip2=cv2.flip(res,-1)\n",
    "    cv2.imwrite(img_store_dir + labels_pic[i] + \"_flip0.jpg\" , cv2.cvtColor(img_flip0, cv2.COLOR_RGB2BGR))\n",
    "    cv2.imwrite(img_store_dir + labels_pic[i] + \"_flip1.jpg\" , cv2.cvtColor(img_flip1, cv2.COLOR_RGB2BGR))\n",
    "    cv2.imwrite(img_store_dir + labels_pic[i] + \"_flip2.jpg\" , cv2.cvtColor(img_flip2, cv2.COLOR_RGB2BGR))\n",
    "    # rotate image\n",
    "    (h, w) = res.shape[:2] \n",
    "    center = (w // 2, h // 2)\n",
    "    M_90 = cv2.getRotationMatrix2D(center, 90, 1.0)\n",
    "    M_270 = cv2.getRotationMatrix2D(center, 270, 1.0)  \n",
    "    rotated_img_90 = cv2.warpAffine(res, M_90, (w, h))\n",
    "    rotated_img_270 = cv2.warpAffine(res, M_270, (w, h))\n",
    "    cv2.imwrite(img_store_dir + labels_pic[i] + \"_rotate90.jpg\" , cv2.cvtColor(rotated_img_90, cv2.COLOR_RGB2BGR))\n",
    "    cv2.imwrite(img_store_dir + labels_pic[i] + \"_rotate270.jpg\" , cv2.cvtColor(rotated_img_270, cv2.COLOR_RGB2BGR))\n"
   ]
  }
 ],
 "metadata": {
  "environment": {
   "name": "tf2-gpu.2-1.m46",
   "type": "gcloud",
   "uri": "gcr.io/deeplearning-platform-release/tf2-gpu.2-1:m46"
  },
  "kernelspec": {
   "display_name": "Python 3",
   "language": "python",
   "name": "python3"
  },
  "language_info": {
   "codemirror_mode": {
    "name": "ipython",
    "version": 3
   },
   "file_extension": ".py",
   "mimetype": "text/x-python",
   "name": "python",
   "nbconvert_exporter": "python",
   "pygments_lexer": "ipython3",
   "version": "3.7.6"
  }
 },
 "nbformat": 4,
 "nbformat_minor": 4
}
