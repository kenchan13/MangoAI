{
 "cells": [
  {
   "cell_type": "code",
   "execution_count": 7,
   "metadata": {},
   "outputs": [],
   "source": [
    "import shutil\n",
    "import csv"
   ]
  },
  {
   "cell_type": "code",
   "execution_count": 9,
   "metadata": {},
   "outputs": [
    {
     "name": "stdout",
     "output_type": "stream",
     "text": [
      "芒果圖片數量:  5600\n"
     ]
    }
   ],
   "source": [
    "csv_dir = \"train.csv\"\n",
    "img_dir = \"C1-P1_Train/\"\n",
    "dst = \"C1-P1_Train\"\n",
    "csvfile = open(csv_dir)\n",
    "reader = csv.reader(csvfile)\n",
    "labels_pic = []\n",
    "labels_level = []\n",
    "\n",
    "\n",
    "for line in reader:\n",
    "    labels_pic.append(line[0][:len(line[0])])\n",
    "    labels_level.append(line[1])\n",
    "     \n",
    "csvfile.close() \n",
    "labels_pic.pop(0)\n",
    "labels_level.pop(0)\n",
    "picnum = len(labels_pic)\n",
    "print(\"芒果圖片數量: \",picnum)\n",
    "    \n",
    "for i in range(0, picnum):\n",
    "        shutil.copy(img_dir+labels_pic[i], dst+\"_\"+labels_level[i]+\"/\"+labels_pic[i])\n",
    "        \n",
    "    "
   ]
  },
  {
   "cell_type": "code",
   "execution_count": null,
   "metadata": {},
   "outputs": [],
   "source": []
  }
 ],
 "metadata": {
  "kernelspec": {
   "display_name": "conda_python3",
   "language": "python",
   "name": "conda_python3"
  },
  "language_info": {
   "codemirror_mode": {
    "name": "ipython",
    "version": 3
   },
   "file_extension": ".py",
   "mimetype": "text/x-python",
   "name": "python",
   "nbconvert_exporter": "python",
   "pygments_lexer": "ipython3",
   "version": "3.6.10"
  }
 },
 "nbformat": 4,
 "nbformat_minor": 4
}
